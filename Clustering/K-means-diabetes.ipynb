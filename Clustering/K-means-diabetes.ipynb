{
 "cells": [
  {
   "cell_type": "markdown",
   "metadata": {},
   "source": [
    "\n",
    "---\n",
    "\n",
    "## K-Means:\n",
    "- **Algoritma K-Means** adalah teknik clustering yang digunakan untuk membagi dataset menjadi \\(k\\) kelompok yang berbeda berdasarkan kesamaan fitur.\n",
    "- Ini adalah algoritma pembelajaran mesin yang tidak terawasi, artinya tidak memerlukan label atau kategori yang telah ditentukan sebelumnya untuk melatih model.\n",
    "- K-Means bekerja dengan cara mengelompokkan data berdasarkan jarak ke pusat cluster, yang diupdate iteratif untuk meminimalkan jarak intra-cluster.\n",
    "- Algoritma ini bergantung pada inisialisasi pusat cluster, yang menentukan hasil akhir dari proses clustering.\n",
    "\n",
    "### Langkah-langkah: Algoritma K-Means:\n",
    "1. Tentukan jumlah cluster \\(k\\) yang diinginkan.\n",
    "2. Inisialisasi \\(k\\) pusat cluster secara acak dari dataset.\n",
    "3. Untuk setiap titik data dalam dataset:\n",
    "   - Hitung jarak antara titik data dan setiap pusat cluster.\n",
    "   - Tunjuk titik data ke pusat cluster terdekat.\n",
    "4. Setelah semua titik data ditugaskan ke cluster, perbarui pusat cluster dengan menghitung rata-rata dari semua titik data yang ditugaskan ke masing-masing cluster.\n",
    "5. Ulangi langkah 3 dan 4 hingga pusat cluster tidak berubah secara signifikan atau sampai jumlah iterasi maksimum tercapai.\n",
    "\n",
    "### Efek K atau jumlah cluster:\n",
    "Jumlah cluster adalah faktor penentu yang penting.\n",
    "\n",
    "- 1. Pemilihan nilai \\(k\\) yang terlalu rendah dapat menyebabkan cluster yang tidak memadai, menggabungkan data yang seharusnya terpisah.\n",
    "  \n",
    "- 2. Sebaliknya, jika nilai \\(k\\) terlalu tinggi, dapat mengakibatkan overfitting, di mana model menjadi terlalu rumit dan kehilangan generalisasi terhadap data baru.\n",
    "\n",
    "- 3. Penggunaan metode seperti **Elbow Method** dapat membantu menentukan jumlah cluster yang optimal dengan memvisualisasikan hubungan antara jumlah cluster dan total within-cluster sum of squares (WCSS).\n",
    "\n",
    "### Bagaimana cara memilih nilai K?\n",
    "Jumlah cluster \\(k\\) dalam K-Means adalah hiperparameter yang perlu kita pilih pada saat membangun model.\n",
    "\n",
    "- 1) **Elbow Method**: Dengan menggambar grafik WCSS terhadap berbagai nilai \\(k\\), kita dapat mencari \"siku\" pada grafik yang menunjukkan titik di mana penambahan cluster tidak memberikan peningkatan signifikan pada WCSS.\n",
    "\n",
    "- 2) **Silhouette Score**: Menghitung silhouette score untuk berbagai nilai \\(k\\) dapat memberikan informasi tentang seberapa baik titik data dalam cluster dibandingkan dengan titik data di cluster lain. Nilai silhouette yang lebih tinggi menunjukkan cluster yang lebih baik.\n",
    "\n",
    "- 3) Meminta bantuan pakar domain juga dapat membantu dalam menentukan jumlah cluster yang optimal berdasarkan pemahaman mendalam tentang data dan tujuan analisis.\n",
    "\n",
    "---\n"
   ]
  },
  {
   "cell_type": "markdown",
   "metadata": {},
   "source": [
    "### Ringkasan:\n",
    "#### Kelebihan:\n",
    "- **K-Means** adalah algoritma yang sederhana dan mudah dipahami, membuatnya mudah diimplementasikan dan digunakan dalam berbagai aplikasi.\n",
    "- Ini sangat efisien dalam hal waktu komputasi, terutama untuk dataset besar, karena kompleksitasnya adalah \\(O(n \\cdot k \\cdot i)\\), di mana \\(n\\) adalah jumlah data, \\(k\\) adalah jumlah cluster, dan \\(i\\) adalah jumlah iterasi.\n",
    "- K-Means dapat dengan cepat mengonvergensi ke solusi, menjadikannya pilihan yang baik untuk data yang terdistribusi dengan baik.\n",
    "- Algoritma ini fleksibel dan dapat diadaptasi untuk berbagai jenis data, serta dapat digunakan untuk clustering yang tidak terawasi dalam banyak domain.\n",
    "- K-Means dapat memberikan hasil yang cukup baik jika cluster dalam data cukup padat dan terpisah secara jelas.\n",
    "\n",
    "#### Kekurangan:\n",
    "- Memerlukan pemilihan jumlah cluster \\(k\\) sebelum pelatihan, yang dapat menjadi tantangan tanpa pengetahuan sebelumnya tentang data.\n",
    "- K-Means sangat sensitif terhadap inisialisasi pusat cluster; pemilihan awal pusat cluster dapat memengaruhi hasil akhir. Penggunaan algoritma seperti K-Means++ dapat membantu mengatasi masalah ini.\n",
    "- Tidak cocok untuk data dengan bentuk cluster yang kompleks atau tidak berbentuk bulat, karena menganggap bahwa cluster berbentuk sferis.\n",
    "- K-Means dapat kesulitan dengan outlier, yang dapat menarik pusat cluster dan mengganggu hasil clustering.\n",
    "- Algoritma ini mengasumsikan bahwa semua fitur memiliki skala yang sama; jika tidak, hasil clustering dapat terdistorsi. Normalisasi data sangat dianjurkan.\n",
    "- K-Means tidak memiliki kemampuan untuk menangani data yang hilang dan tidak dapat mengklasifikasikan data secara hierarkis.\n",
    "\n"
   ]
  },
  {
   "cell_type": "code",
   "execution_count": 1,
   "metadata": {},
   "outputs": [
    {
     "name": "stdout",
     "output_type": "stream",
     "text": [
      "<class 'pandas.core.frame.DataFrame'>\n",
      "RangeIndex: 768 entries, 0 to 767\n",
      "Data columns (total 9 columns):\n",
      " #   Column                    Non-Null Count  Dtype  \n",
      "---  ------                    --------------  -----  \n",
      " 0   Pregnancies               768 non-null    int64  \n",
      " 1   Glucose                   768 non-null    int64  \n",
      " 2   BloodPressure             768 non-null    int64  \n",
      " 3   SkinThickness             768 non-null    int64  \n",
      " 4   Insulin                   768 non-null    int64  \n",
      " 5   BMI                       768 non-null    float64\n",
      " 6   DiabetesPedigreeFunction  768 non-null    float64\n",
      " 7   Age                       768 non-null    int64  \n",
      " 8   Outcome                   768 non-null    int64  \n",
      "dtypes: float64(2), int64(7)\n",
      "memory usage: 54.1 KB\n",
      "None\n",
      "   Pregnancies  Glucose  BloodPressure  SkinThickness  Insulin   BMI  \\\n",
      "0            6      148             72             35        0  33.6   \n",
      "1            1       85             66             29        0  26.6   \n",
      "2            8      183             64              0        0  23.3   \n",
      "3            1       89             66             23       94  28.1   \n",
      "4            0      137             40             35      168  43.1   \n",
      "\n",
      "   DiabetesPedigreeFunction  Age  Outcome  \n",
      "0                     0.627   50        1  \n",
      "1                     0.351   31        0  \n",
      "2                     0.672   32        1  \n",
      "3                     0.167   21        0  \n",
      "4                     2.288   33        1  \n"
     ]
    }
   ],
   "source": [
    "import pandas as pd\n",
    "\n",
    "# Load dataset\n",
    "df = pd.read_csv(\"../Data/Diabetes.csv\")\n",
    "\n",
    "\n",
    "print(df.info())\n",
    "print(df.head())\n",
    "\n"
   ]
  },
  {
   "cell_type": "code",
   "execution_count": 2,
   "metadata": {},
   "outputs": [
    {
     "name": "stdout",
     "output_type": "stream",
     "text": [
      "Pregnancies                 0\n",
      "Glucose                     0\n",
      "BloodPressure               0\n",
      "SkinThickness               0\n",
      "Insulin                     0\n",
      "BMI                         0\n",
      "DiabetesPedigreeFunction    0\n",
      "Age                         0\n",
      "Outcome                     0\n",
      "dtype: int64\n"
     ]
    },
    {
     "name": "stderr",
     "output_type": "stream",
     "text": [
      "C:\\Users\\ikhwa\\AppData\\Local\\Temp\\ipykernel_10596\\3385932962.py:11: FutureWarning: DataFrame.fillna with 'method' is deprecated and will raise in a future version. Use obj.ffill() or obj.bfill() instead.\n",
      "  df_cleaned.fillna(method='ffill', inplace=True) # contoh metode forward fill\n"
     ]
    }
   ],
   "source": [
    "# Cek nilai yang hilang\n",
    "print(df.isnull().sum())\n",
    "\n",
    "# Menghapus baris dengan nilai yang hilang (opsional, sesuai analisis)\n",
    "df_cleaned = df.dropna()\n",
    "\n",
    "# Menghapus data duplikat\n",
    "df_cleaned = df_cleaned.drop_duplicates()\n",
    "\n",
    "# Mengganti nilai yang hilang dengan nilai tertentu\n",
    "df_cleaned.fillna(method='ffill', inplace=True) # contoh metode forward fill\n"
   ]
  },
  {
   "cell_type": "code",
   "execution_count": 3,
   "metadata": {},
   "outputs": [
    {
     "name": "stdout",
     "output_type": "stream",
     "text": [
      "Pregnancies                 0\n",
      "Glucose                     0\n",
      "BloodPressure               0\n",
      "SkinThickness               0\n",
      "Insulin                     0\n",
      "BMI                         0\n",
      "DiabetesPedigreeFunction    0\n",
      "Age                         0\n",
      "Outcome                     0\n",
      "dtype: int64\n"
     ]
    },
    {
     "name": "stderr",
     "output_type": "stream",
     "text": [
      "C:\\Users\\ikhwa\\AppData\\Local\\Temp\\ipykernel_10596\\603786266.py:1: FutureWarning: A value is trying to be set on a copy of a DataFrame or Series through chained assignment using an inplace method.\n",
      "The behavior will change in pandas 3.0. This inplace method will never work because the intermediate object on which we are setting values always behaves as a copy.\n",
      "\n",
      "For example, when doing 'df[col].method(value, inplace=True)', try using 'df.method({col: value}, inplace=True)' or df[col] = df[col].method(value) instead, to perform the operation inplace on the original object.\n",
      "\n",
      "\n",
      "  df['Pregnancies'].fillna(df['Pregnancies'].mode()[0], inplace=True)  # Jika ada nilai hilang, gunakan mode\n",
      "C:\\Users\\ikhwa\\AppData\\Local\\Temp\\ipykernel_10596\\603786266.py:2: FutureWarning: A value is trying to be set on a copy of a DataFrame or Series through chained assignment using an inplace method.\n",
      "The behavior will change in pandas 3.0. This inplace method will never work because the intermediate object on which we are setting values always behaves as a copy.\n",
      "\n",
      "For example, when doing 'df[col].method(value, inplace=True)', try using 'df.method({col: value}, inplace=True)' or df[col] = df[col].method(value) instead, to perform the operation inplace on the original object.\n",
      "\n",
      "\n",
      "  df['Glucose'].fillna(df['Glucose'].mean(), inplace=True)  # Mengisi dengan rata-rata\n",
      "C:\\Users\\ikhwa\\AppData\\Local\\Temp\\ipykernel_10596\\603786266.py:3: FutureWarning: A value is trying to be set on a copy of a DataFrame or Series through chained assignment using an inplace method.\n",
      "The behavior will change in pandas 3.0. This inplace method will never work because the intermediate object on which we are setting values always behaves as a copy.\n",
      "\n",
      "For example, when doing 'df[col].method(value, inplace=True)', try using 'df.method({col: value}, inplace=True)' or df[col] = df[col].method(value) instead, to perform the operation inplace on the original object.\n",
      "\n",
      "\n",
      "  df['BloodPressure'].fillna(df['BloodPressure'].mean(), inplace=True)  # Mengisi dengan rata-rata\n",
      "C:\\Users\\ikhwa\\AppData\\Local\\Temp\\ipykernel_10596\\603786266.py:4: FutureWarning: A value is trying to be set on a copy of a DataFrame or Series through chained assignment using an inplace method.\n",
      "The behavior will change in pandas 3.0. This inplace method will never work because the intermediate object on which we are setting values always behaves as a copy.\n",
      "\n",
      "For example, when doing 'df[col].method(value, inplace=True)', try using 'df.method({col: value}, inplace=True)' or df[col] = df[col].method(value) instead, to perform the operation inplace on the original object.\n",
      "\n",
      "\n",
      "  df['SkinThickness'].fillna(df['SkinThickness'].mean(), inplace=True)  # Mengisi dengan rata-rata\n",
      "C:\\Users\\ikhwa\\AppData\\Local\\Temp\\ipykernel_10596\\603786266.py:5: FutureWarning: A value is trying to be set on a copy of a DataFrame or Series through chained assignment using an inplace method.\n",
      "The behavior will change in pandas 3.0. This inplace method will never work because the intermediate object on which we are setting values always behaves as a copy.\n",
      "\n",
      "For example, when doing 'df[col].method(value, inplace=True)', try using 'df.method({col: value}, inplace=True)' or df[col] = df[col].method(value) instead, to perform the operation inplace on the original object.\n",
      "\n",
      "\n",
      "  df['Insulin'].fillna(df['Insulin'].mean(), inplace=True)  # Mengisi dengan rata-rata\n",
      "C:\\Users\\ikhwa\\AppData\\Local\\Temp\\ipykernel_10596\\603786266.py:6: FutureWarning: A value is trying to be set on a copy of a DataFrame or Series through chained assignment using an inplace method.\n",
      "The behavior will change in pandas 3.0. This inplace method will never work because the intermediate object on which we are setting values always behaves as a copy.\n",
      "\n",
      "For example, when doing 'df[col].method(value, inplace=True)', try using 'df.method({col: value}, inplace=True)' or df[col] = df[col].method(value) instead, to perform the operation inplace on the original object.\n",
      "\n",
      "\n",
      "  df['BMI'].fillna(df['BMI'].mean(), inplace=True)  # Mengisi dengan rata-rata\n",
      "C:\\Users\\ikhwa\\AppData\\Local\\Temp\\ipykernel_10596\\603786266.py:7: FutureWarning: A value is trying to be set on a copy of a DataFrame or Series through chained assignment using an inplace method.\n",
      "The behavior will change in pandas 3.0. This inplace method will never work because the intermediate object on which we are setting values always behaves as a copy.\n",
      "\n",
      "For example, when doing 'df[col].method(value, inplace=True)', try using 'df.method({col: value}, inplace=True)' or df[col] = df[col].method(value) instead, to perform the operation inplace on the original object.\n",
      "\n",
      "\n",
      "  df['DiabetesPedigreeFunction'].fillna(df['DiabetesPedigreeFunction'].mean(), inplace=True)  # Mengisi dengan rata-rata\n",
      "C:\\Users\\ikhwa\\AppData\\Local\\Temp\\ipykernel_10596\\603786266.py:8: FutureWarning: A value is trying to be set on a copy of a DataFrame or Series through chained assignment using an inplace method.\n",
      "The behavior will change in pandas 3.0. This inplace method will never work because the intermediate object on which we are setting values always behaves as a copy.\n",
      "\n",
      "For example, when doing 'df[col].method(value, inplace=True)', try using 'df.method({col: value}, inplace=True)' or df[col] = df[col].method(value) instead, to perform the operation inplace on the original object.\n",
      "\n",
      "\n",
      "  df['Age'].fillna(df['Age'].median(), inplace=True)  # Mengisi dengan median\n",
      "C:\\Users\\ikhwa\\AppData\\Local\\Temp\\ipykernel_10596\\603786266.py:9: FutureWarning: A value is trying to be set on a copy of a DataFrame or Series through chained assignment using an inplace method.\n",
      "The behavior will change in pandas 3.0. This inplace method will never work because the intermediate object on which we are setting values always behaves as a copy.\n",
      "\n",
      "For example, when doing 'df[col].method(value, inplace=True)', try using 'df.method({col: value}, inplace=True)' or df[col] = df[col].method(value) instead, to perform the operation inplace on the original object.\n",
      "\n",
      "\n",
      "  df['Outcome'].fillna(df['Outcome'].mode()[0], inplace=True)  # Jika ada nilai hilang, gunakan mode\n"
     ]
    }
   ],
   "source": [
    "df['Pregnancies'].fillna(df['Pregnancies'].mode()[0], inplace=True)  # Jika ada nilai hilang, gunakan mode\n",
    "df['Glucose'].fillna(df['Glucose'].mean(), inplace=True)  # Mengisi dengan rata-rata\n",
    "df['BloodPressure'].fillna(df['BloodPressure'].mean(), inplace=True)  # Mengisi dengan rata-rata\n",
    "df['SkinThickness'].fillna(df['SkinThickness'].mean(), inplace=True)  # Mengisi dengan rata-rata\n",
    "df['Insulin'].fillna(df['Insulin'].mean(), inplace=True)  # Mengisi dengan rata-rata\n",
    "df['BMI'].fillna(df['BMI'].mean(), inplace=True)  # Mengisi dengan rata-rata\n",
    "df['DiabetesPedigreeFunction'].fillna(df['DiabetesPedigreeFunction'].mean(), inplace=True)  # Mengisi dengan rata-rata\n",
    "df['Age'].fillna(df['Age'].median(), inplace=True)  # Mengisi dengan median\n",
    "df['Outcome'].fillna(df['Outcome'].mode()[0], inplace=True)  # Jika ada nilai hilang, gunakan mode\n",
    "\n",
    "# Memeriksa kembali apakah masih ada nilai yang hilang\n",
    "print(df.isnull().sum())"
   ]
  },
  {
   "cell_type": "code",
   "execution_count": null,
   "metadata": {},
   "outputs": [],
   "source": [
    "# Misal, lakukan konversi secara batch (walaupun tidak ada kolom tanggal, ini contoh format)\n",
    "batch_size = 100000\n",
    "for start in range(0, len(df), batch_size):\n",
    "    df_batch = df.iloc[start:start+batch_size]\n",
    "    # Mengkonversi kolom numerik jika diperlukan (contoh)\n",
    "    df_batch['Glucose'] = df_batch['Glucose'].astype(float)  # Mengubah tipe data menjadi float\n",
    "    df_batch['BMI'] = df_batch['BMI'].astype(float)          # Mengubah tipe data menjadi float\n"
   ]
  },
  {
   "cell_type": "code",
   "execution_count": 5,
   "metadata": {},
   "outputs": [
    {
     "data": {
      "image/png": "[encoded data removed]",
      "text/plain": [
       "<Figure size 800x500 with 1 Axes>"
      ]
     },
     "metadata": {},
     "output_type": "display_data"
    }
   ],
   "source": [
    "import matplotlib.pyplot as plt\n",
    "import seaborn as sns\n",
    "\n",
    "# Menghitung jumlah kasus untuk setiap jenis Outcome\n",
    "outcome_counts = df['Outcome'].value_counts()\n",
    "\n",
    "# Membuat visualisasi\n",
    "plt.figure(figsize=(8, 5))\n",
    "sns.barplot(x=outcome_counts.index, y=outcome_counts.values)\n",
    "plt.title('Distribusi Kasus Diabetes')\n",
    "plt.xlabel('Outcome (0 = Tidak Diabetes, 1 = Diabetes)')\n",
    "plt.ylabel('Jumlah Kasus')\n",
    "plt.xticks(rotation=0)\n",
    "plt.show()\n"
   ]
  },
  {
   "cell_type": "code",
   "execution_count": 17,
   "metadata": {},
   "outputs": [],
   "source": [
    "import pandas as pd\n",
    "\n",
    "# One-hot encoding kolom kategoris\n",
    "# Karena Diabetes.csv tidak memiliki kolom kategoris seperti dalam contoh, \n",
    "# kita hanya akan menerapkan one-hot encoding jika ada kolom yang relevan.\n",
    "# Jika tidak ada, kita hanya akan menggunakan fitur yang sudah ada.\n",
    "df_encoded = pd.get_dummies(df, columns=['Insulin', 'SkinThickness', 'BloodPressure'], drop_first=True)\n",
    "\n",
    "# Memilih kolom yang relevan untuk analisis dan modelling\n",
    "X = df_encoded.drop(columns=['BMI'])  # Menghapus kolom yang tidak relevan\n",
    "y = df_encoded['Outcome']  # Menggunakan 'Outcome' sebagai target label\n"
   ]
  },
  {
   "cell_type": "code",
   "execution_count": 13,
   "metadata": {},
   "outputs": [],
   "source": [
    "from sklearn.model_selection import train_test_split\n",
    "\n",
    "# Split data menjadi training dan testing\n",
    "X_train, X_test, y_train, y_test = train_test_split(X, y, test_size=0.3, random_state=42)\n"
   ]
  },
  {
   "cell_type": "code",
   "execution_count": 14,
   "metadata": {},
   "outputs": [
    {
     "name": "stdout",
     "output_type": "stream",
     "text": [
      "Accuracy: 1.0\n"
     ]
    }
   ],
   "source": [
    "from sklearn.ensemble import RandomForestClassifier\n",
    "from sklearn.metrics import accuracy_score\n",
    "\n",
    "# Inisialisasi model\n",
    "model = RandomForestClassifier(n_estimators=100, random_state=42)\n",
    "\n",
    "# Latih model\n",
    "model.fit(X_train, y_train)\n",
    "\n",
    "# Prediksi data testing\n",
    "y_pred = model.predict(X_test)\n",
    "\n",
    "# Evaluasi model\n",
    "accuracy = accuracy_score(y_test, y_pred)\n",
    "print(f'Accuracy: {accuracy}')\n"
   ]
  },
  {
   "cell_type": "code",
   "execution_count": 15,
   "metadata": {},
   "outputs": [
    {
     "name": "stdout",
     "output_type": "stream",
     "text": [
      "              precision    recall  f1-score   support\n",
      "\n",
      "           0       1.00      1.00      1.00       151\n",
      "           1       1.00      1.00      1.00        80\n",
      "\n",
      "    accuracy                           1.00       231\n",
      "   macro avg       1.00      1.00      1.00       231\n",
      "weighted avg       1.00      1.00      1.00       231\n",
      "\n"
     ]
    },
    {
     "data": {
      "image/png": "[encoded data removed]",
      "text/plain": [
       "<Figure size 640x480 with 2 Axes>"
      ]
     },
     "metadata": {},
     "output_type": "display_data"
    }
   ],
   "source": [
    "from sklearn.metrics import classification_report, confusion_matrix\n",
    "\n",
    "# Tampilkan laporan klasifikasi\n",
    "print(classification_report(y_test, y_pred))\n",
    "\n",
    "# Tampilkan confusion matrix\n",
    "sns.heatmap(confusion_matrix(y_test, y_pred), annot=True, fmt='d', cmap='Blues')\n",
    "plt.title('Confusion Matrix')\n",
    "plt.show()\n"
   ]
  }
 ],
 "metadata": {
  "kernelspec": {
   "display_name": "base",
   "language": "python",
   "name": "python3"
  },
  "language_info": {
   "codemirror_mode": {
    "name": "ipython",
    "version": 3
   },
   "file_extension": ".py",
   "mimetype": "text/x-python",
   "name": "python",
   "nbconvert_exporter": "python",
   "pygments_lexer": "ipython3",
   "version": "3.12.7"
  }
 },
 "nbformat": 4,
 "nbformat_minor": 2
}
