{
 "cells": [
  {
   "cell_type": "code",
   "execution_count": 7,
   "metadata": {
    "id": "XVrlbd6LbDoH",
    "trusted": true
   },
   "outputs": [],
   "source": [
    "import numpy as np\n",
    "import pandas as pd\n",
    "import matplotlib.pyplot as plt\n",
    "import seaborn as sns\n",
    "import os\n"
   ]
  },
  {
   "cell_type": "code",
   "execution_count": 8,
   "metadata": {
    "id": "0mx52lsnewYL",
    "trusted": true
   },
   "outputs": [],
   "source": [
    "\n",
    "df = pd.read_csv('../Data/CC GENERAL.csv')"
   ]
  },
  {
   "cell_type": "code",
   "execution_count": 9,
   "metadata": {
    "id": "tgbAeYO8e0w4",
    "outputId": "7270b4dc-24d4-4c33-8ec4-325489b28df3",
    "trusted": true
   },
   "outputs": [
    {
     "data": {
      "text/html": [
       "<div>\n",
       "<style scoped>\n",
       "    .dataframe tbody tr th:only-of-type {\n",
       "        vertical-align: middle;\n",
       "    }\n",
       "\n",
       "    .dataframe tbody tr th {\n",
       "        vertical-align: top;\n",
       "    }\n",
       "\n",
       "    .dataframe thead th {\n",
       "        text-align: right;\n",
       "    }\n",
       "</style>\n",
       "<table border=\"1\" class=\"dataframe\">\n",
       "  <thead>\n",
       "    <tr style=\"text-align: right;\">\n",
       "      <th></th>\n",
       "      <th>CUST_ID</th>\n",
       "      <th>BALANCE</th>\n",
       "      <th>BALANCE_FREQUENCY</th>\n",
       "      <th>PURCHASES</th>\n",
       "      <th>ONEOFF_PURCHASES</th>\n",
       "      <th>INSTALLMENTS_PURCHASES</th>\n",
       "      <th>CASH_ADVANCE</th>\n",
       "      <th>PURCHASES_FREQUENCY</th>\n",
       "      <th>ONEOFF_PURCHASES_FREQUENCY</th>\n",
       "      <th>PURCHASES_INSTALLMENTS_FREQUENCY</th>\n",
       "      <th>CASH_ADVANCE_FREQUENCY</th>\n",
       "      <th>CASH_ADVANCE_TRX</th>\n",
       "      <th>PURCHASES_TRX</th>\n",
       "      <th>CREDIT_LIMIT</th>\n",
       "      <th>PAYMENTS</th>\n",
       "      <th>MINIMUM_PAYMENTS</th>\n",
       "      <th>PRC_FULL_PAYMENT</th>\n",
       "      <th>TENURE</th>\n",
       "    </tr>\n",
       "  </thead>\n",
       "  <tbody>\n",
       "    <tr>\n",
       "      <th>0</th>\n",
       "      <td>C10001</td>\n",
       "      <td>40.900749</td>\n",
       "      <td>0.818182</td>\n",
       "      <td>95.40</td>\n",
       "      <td>0.00</td>\n",
       "      <td>95.4</td>\n",
       "      <td>0.000000</td>\n",
       "      <td>0.166667</td>\n",
       "      <td>0.000000</td>\n",
       "      <td>0.083333</td>\n",
       "      <td>0.000000</td>\n",
       "      <td>0</td>\n",
       "      <td>2</td>\n",
       "      <td>1000.0</td>\n",
       "      <td>201.802084</td>\n",
       "      <td>139.509787</td>\n",
       "      <td>0.000000</td>\n",
       "      <td>12</td>\n",
       "    </tr>\n",
       "    <tr>\n",
       "      <th>1</th>\n",
       "      <td>C10002</td>\n",
       "      <td>3202.467416</td>\n",
       "      <td>0.909091</td>\n",
       "      <td>0.00</td>\n",
       "      <td>0.00</td>\n",
       "      <td>0.0</td>\n",
       "      <td>6442.945483</td>\n",
       "      <td>0.000000</td>\n",
       "      <td>0.000000</td>\n",
       "      <td>0.000000</td>\n",
       "      <td>0.250000</td>\n",
       "      <td>4</td>\n",
       "      <td>0</td>\n",
       "      <td>7000.0</td>\n",
       "      <td>4103.032597</td>\n",
       "      <td>1072.340217</td>\n",
       "      <td>0.222222</td>\n",
       "      <td>12</td>\n",
       "    </tr>\n",
       "    <tr>\n",
       "      <th>2</th>\n",
       "      <td>C10003</td>\n",
       "      <td>2495.148862</td>\n",
       "      <td>1.000000</td>\n",
       "      <td>773.17</td>\n",
       "      <td>773.17</td>\n",
       "      <td>0.0</td>\n",
       "      <td>0.000000</td>\n",
       "      <td>1.000000</td>\n",
       "      <td>1.000000</td>\n",
       "      <td>0.000000</td>\n",
       "      <td>0.000000</td>\n",
       "      <td>0</td>\n",
       "      <td>12</td>\n",
       "      <td>7500.0</td>\n",
       "      <td>622.066742</td>\n",
       "      <td>627.284787</td>\n",
       "      <td>0.000000</td>\n",
       "      <td>12</td>\n",
       "    </tr>\n",
       "    <tr>\n",
       "      <th>3</th>\n",
       "      <td>C10004</td>\n",
       "      <td>1666.670542</td>\n",
       "      <td>0.636364</td>\n",
       "      <td>1499.00</td>\n",
       "      <td>1499.00</td>\n",
       "      <td>0.0</td>\n",
       "      <td>205.788017</td>\n",
       "      <td>0.083333</td>\n",
       "      <td>0.083333</td>\n",
       "      <td>0.000000</td>\n",
       "      <td>0.083333</td>\n",
       "      <td>1</td>\n",
       "      <td>1</td>\n",
       "      <td>7500.0</td>\n",
       "      <td>0.000000</td>\n",
       "      <td>NaN</td>\n",
       "      <td>0.000000</td>\n",
       "      <td>12</td>\n",
       "    </tr>\n",
       "    <tr>\n",
       "      <th>4</th>\n",
       "      <td>C10005</td>\n",
       "      <td>817.714335</td>\n",
       "      <td>1.000000</td>\n",
       "      <td>16.00</td>\n",
       "      <td>16.00</td>\n",
       "      <td>0.0</td>\n",
       "      <td>0.000000</td>\n",
       "      <td>0.083333</td>\n",
       "      <td>0.083333</td>\n",
       "      <td>0.000000</td>\n",
       "      <td>0.000000</td>\n",
       "      <td>0</td>\n",
       "      <td>1</td>\n",
       "      <td>1200.0</td>\n",
       "      <td>678.334763</td>\n",
       "      <td>244.791237</td>\n",
       "      <td>0.000000</td>\n",
       "      <td>12</td>\n",
       "    </tr>\n",
       "  </tbody>\n",
       "</table>\n",
       "</div>"
      ],
      "text/plain": [
       "  CUST_ID      BALANCE  BALANCE_FREQUENCY  PURCHASES  ONEOFF_PURCHASES  \\\n",
       "0  C10001    40.900749           0.818182      95.40              0.00   \n",
       "1  C10002  3202.467416           0.909091       0.00              0.00   \n",
       "2  C10003  2495.148862           1.000000     773.17            773.17   \n",
       "3  C10004  1666.670542           0.636364    1499.00           1499.00   \n",
       "4  C10005   817.714335           1.000000      16.00             16.00   \n",
       "\n",
       "   INSTALLMENTS_PURCHASES  CASH_ADVANCE  PURCHASES_FREQUENCY  \\\n",
       "0                    95.4      0.000000             0.166667   \n",
       "1                     0.0   6442.945483             0.000000   \n",
       "2                     0.0      0.000000             1.000000   \n",
       "3                     0.0    205.788017             0.083333   \n",
       "4                     0.0      0.000000             0.083333   \n",
       "\n",
       "   ONEOFF_PURCHASES_FREQUENCY  PURCHASES_INSTALLMENTS_FREQUENCY  \\\n",
       "0                    0.000000                          0.083333   \n",
       "1                    0.000000                          0.000000   \n",
       "2                    1.000000                          0.000000   \n",
       "3                    0.083333                          0.000000   \n",
       "4                    0.083333                          0.000000   \n",
       "\n",
       "   CASH_ADVANCE_FREQUENCY  CASH_ADVANCE_TRX  PURCHASES_TRX  CREDIT_LIMIT  \\\n",
       "0                0.000000                 0              2        1000.0   \n",
       "1                0.250000                 4              0        7000.0   \n",
       "2                0.000000                 0             12        7500.0   \n",
       "3                0.083333                 1              1        7500.0   \n",
       "4                0.000000                 0              1        1200.0   \n",
       "\n",
       "      PAYMENTS  MINIMUM_PAYMENTS  PRC_FULL_PAYMENT  TENURE  \n",
       "0   201.802084        139.509787          0.000000      12  \n",
       "1  4103.032597       1072.340217          0.222222      12  \n",
       "2   622.066742        627.284787          0.000000      12  \n",
       "3     0.000000               NaN          0.000000      12  \n",
       "4   678.334763        244.791237          0.000000      12  "
      ]
     },
     "execution_count": 9,
     "metadata": {},
     "output_type": "execute_result"
    }
   ],
   "source": [
    "df.head()\n"
   ]
  },
  {
   "cell_type": "code",
   "execution_count": 10,
   "metadata": {
    "id": "tAD2_ssge6o2",
    "outputId": "5e97e840-01a2-4771-f830-40298befb580",
    "trusted": true
   },
   "outputs": [
    {
     "name": "stdout",
     "output_type": "stream",
     "text": [
      "<class 'pandas.core.frame.DataFrame'>\n",
      "RangeIndex: 8950 entries, 0 to 8949\n",
      "Data columns (total 18 columns):\n",
      " #   Column                            Non-Null Count  Dtype  \n",
      "---  ------                            --------------  -----  \n",
      " 0   CUST_ID                           8950 non-null   object \n",
      " 1   BALANCE                           8950 non-null   float64\n",
      " 2   BALANCE_FREQUENCY                 8950 non-null   float64\n",
      " 3   PURCHASES                         8950 non-null   float64\n",
      " 4   ONEOFF_PURCHASES                  8950 non-null   float64\n",
      " 5   INSTALLMENTS_PURCHASES            8950 non-null   float64\n",
      " 6   CASH_ADVANCE                      8950 non-null   float64\n",
      " 7   PURCHASES_FREQUENCY               8950 non-null   float64\n",
      " 8   ONEOFF_PURCHASES_FREQUENCY        8950 non-null   float64\n",
      " 9   PURCHASES_INSTALLMENTS_FREQUENCY  8950 non-null   float64\n",
      " 10  CASH_ADVANCE_FREQUENCY            8950 non-null   float64\n",
      " 11  CASH_ADVANCE_TRX                  8950 non-null   int64  \n",
      " 12  PURCHASES_TRX                     8950 non-null   int64  \n",
      " 13  CREDIT_LIMIT                      8949 non-null   float64\n",
      " 14  PAYMENTS                          8950 non-null   float64\n",
      " 15  MINIMUM_PAYMENTS                  8637 non-null   float64\n",
      " 16  PRC_FULL_PAYMENT                  8950 non-null   float64\n",
      " 17  TENURE                            8950 non-null   int64  \n",
      "dtypes: float64(14), int64(3), object(1)\n",
      "memory usage: 1.2+ MB\n"
     ]
    }
   ],
   "source": [
    "df.info()"
   ]
  },
  {
   "cell_type": "code",
   "execution_count": 11,
   "metadata": {
    "id": "Q82nMpZHfYds",
    "outputId": "ae53a20f-dcfa-41c7-e029-c93ea2d7efe8",
    "trusted": true
   },
   "outputs": [
    {
     "data": {
      "text/html": [
       "<div>\n",
       "<style scoped>\n",
       "    .dataframe tbody tr th:only-of-type {\n",
       "        vertical-align: middle;\n",
       "    }\n",
       "\n",
       "    .dataframe tbody tr th {\n",
       "        vertical-align: top;\n",
       "    }\n",
       "\n",
       "    .dataframe thead th {\n",
       "        text-align: right;\n",
       "    }\n",
       "</style>\n",
       "<table border=\"1\" class=\"dataframe\">\n",
       "  <thead>\n",
       "    <tr style=\"text-align: right;\">\n",
       "      <th></th>\n",
       "      <th>count</th>\n",
       "      <th>mean</th>\n",
       "      <th>std</th>\n",
       "      <th>min</th>\n",
       "      <th>25%</th>\n",
       "      <th>50%</th>\n",
       "      <th>75%</th>\n",
       "      <th>max</th>\n",
       "    </tr>\n",
       "  </thead>\n",
       "  <tbody>\n",
       "    <tr>\n",
       "      <th>BALANCE</th>\n",
       "      <td>8950.0</td>\n",
       "      <td>1564.474828</td>\n",
       "      <td>2081.531879</td>\n",
       "      <td>0.000000</td>\n",
       "      <td>128.281915</td>\n",
       "      <td>873.385231</td>\n",
       "      <td>2054.140036</td>\n",
       "      <td>19043.13856</td>\n",
       "    </tr>\n",
       "    <tr>\n",
       "      <th>BALANCE_FREQUENCY</th>\n",
       "      <td>8950.0</td>\n",
       "      <td>0.877271</td>\n",
       "      <td>0.236904</td>\n",
       "      <td>0.000000</td>\n",
       "      <td>0.888889</td>\n",
       "      <td>1.000000</td>\n",
       "      <td>1.000000</td>\n",
       "      <td>1.00000</td>\n",
       "    </tr>\n",
       "    <tr>\n",
       "      <th>PURCHASES</th>\n",
       "      <td>8950.0</td>\n",
       "      <td>1003.204834</td>\n",
       "      <td>2136.634782</td>\n",
       "      <td>0.000000</td>\n",
       "      <td>39.635000</td>\n",
       "      <td>361.280000</td>\n",
       "      <td>1110.130000</td>\n",
       "      <td>49039.57000</td>\n",
       "    </tr>\n",
       "    <tr>\n",
       "      <th>ONEOFF_PURCHASES</th>\n",
       "      <td>8950.0</td>\n",
       "      <td>592.437371</td>\n",
       "      <td>1659.887917</td>\n",
       "      <td>0.000000</td>\n",
       "      <td>0.000000</td>\n",
       "      <td>38.000000</td>\n",
       "      <td>577.405000</td>\n",
       "      <td>40761.25000</td>\n",
       "    </tr>\n",
       "    <tr>\n",
       "      <th>INSTALLMENTS_PURCHASES</th>\n",
       "      <td>8950.0</td>\n",
       "      <td>411.067645</td>\n",
       "      <td>904.338115</td>\n",
       "      <td>0.000000</td>\n",
       "      <td>0.000000</td>\n",
       "      <td>89.000000</td>\n",
       "      <td>468.637500</td>\n",
       "      <td>22500.00000</td>\n",
       "    </tr>\n",
       "    <tr>\n",
       "      <th>CASH_ADVANCE</th>\n",
       "      <td>8950.0</td>\n",
       "      <td>978.871112</td>\n",
       "      <td>2097.163877</td>\n",
       "      <td>0.000000</td>\n",
       "      <td>0.000000</td>\n",
       "      <td>0.000000</td>\n",
       "      <td>1113.821139</td>\n",
       "      <td>47137.21176</td>\n",
       "    </tr>\n",
       "    <tr>\n",
       "      <th>PURCHASES_FREQUENCY</th>\n",
       "      <td>8950.0</td>\n",
       "      <td>0.490351</td>\n",
       "      <td>0.401371</td>\n",
       "      <td>0.000000</td>\n",
       "      <td>0.083333</td>\n",
       "      <td>0.500000</td>\n",
       "      <td>0.916667</td>\n",
       "      <td>1.00000</td>\n",
       "    </tr>\n",
       "    <tr>\n",
       "      <th>ONEOFF_PURCHASES_FREQUENCY</th>\n",
       "      <td>8950.0</td>\n",
       "      <td>0.202458</td>\n",
       "      <td>0.298336</td>\n",
       "      <td>0.000000</td>\n",
       "      <td>0.000000</td>\n",
       "      <td>0.083333</td>\n",
       "      <td>0.300000</td>\n",
       "      <td>1.00000</td>\n",
       "    </tr>\n",
       "    <tr>\n",
       "      <th>PURCHASES_INSTALLMENTS_FREQUENCY</th>\n",
       "      <td>8950.0</td>\n",
       "      <td>0.364437</td>\n",
       "      <td>0.397448</td>\n",
       "      <td>0.000000</td>\n",
       "      <td>0.000000</td>\n",
       "      <td>0.166667</td>\n",
       "      <td>0.750000</td>\n",
       "      <td>1.00000</td>\n",
       "    </tr>\n",
       "    <tr>\n",
       "      <th>CASH_ADVANCE_FREQUENCY</th>\n",
       "      <td>8950.0</td>\n",
       "      <td>0.135144</td>\n",
       "      <td>0.200121</td>\n",
       "      <td>0.000000</td>\n",
       "      <td>0.000000</td>\n",
       "      <td>0.000000</td>\n",
       "      <td>0.222222</td>\n",
       "      <td>1.50000</td>\n",
       "    </tr>\n",
       "    <tr>\n",
       "      <th>CASH_ADVANCE_TRX</th>\n",
       "      <td>8950.0</td>\n",
       "      <td>3.248827</td>\n",
       "      <td>6.824647</td>\n",
       "      <td>0.000000</td>\n",
       "      <td>0.000000</td>\n",
       "      <td>0.000000</td>\n",
       "      <td>4.000000</td>\n",
       "      <td>123.00000</td>\n",
       "    </tr>\n",
       "    <tr>\n",
       "      <th>PURCHASES_TRX</th>\n",
       "      <td>8950.0</td>\n",
       "      <td>14.709832</td>\n",
       "      <td>24.857649</td>\n",
       "      <td>0.000000</td>\n",
       "      <td>1.000000</td>\n",
       "      <td>7.000000</td>\n",
       "      <td>17.000000</td>\n",
       "      <td>358.00000</td>\n",
       "    </tr>\n",
       "    <tr>\n",
       "      <th>CREDIT_LIMIT</th>\n",
       "      <td>8949.0</td>\n",
       "      <td>4494.449450</td>\n",
       "      <td>3638.815725</td>\n",
       "      <td>50.000000</td>\n",
       "      <td>1600.000000</td>\n",
       "      <td>3000.000000</td>\n",
       "      <td>6500.000000</td>\n",
       "      <td>30000.00000</td>\n",
       "    </tr>\n",
       "    <tr>\n",
       "      <th>PAYMENTS</th>\n",
       "      <td>8950.0</td>\n",
       "      <td>1733.143852</td>\n",
       "      <td>2895.063757</td>\n",
       "      <td>0.000000</td>\n",
       "      <td>383.276166</td>\n",
       "      <td>856.901546</td>\n",
       "      <td>1901.134317</td>\n",
       "      <td>50721.48336</td>\n",
       "    </tr>\n",
       "    <tr>\n",
       "      <th>MINIMUM_PAYMENTS</th>\n",
       "      <td>8637.0</td>\n",
       "      <td>864.206542</td>\n",
       "      <td>2372.446607</td>\n",
       "      <td>0.019163</td>\n",
       "      <td>169.123707</td>\n",
       "      <td>312.343947</td>\n",
       "      <td>825.485459</td>\n",
       "      <td>76406.20752</td>\n",
       "    </tr>\n",
       "    <tr>\n",
       "      <th>PRC_FULL_PAYMENT</th>\n",
       "      <td>8950.0</td>\n",
       "      <td>0.153715</td>\n",
       "      <td>0.292499</td>\n",
       "      <td>0.000000</td>\n",
       "      <td>0.000000</td>\n",
       "      <td>0.000000</td>\n",
       "      <td>0.142857</td>\n",
       "      <td>1.00000</td>\n",
       "    </tr>\n",
       "    <tr>\n",
       "      <th>TENURE</th>\n",
       "      <td>8950.0</td>\n",
       "      <td>11.517318</td>\n",
       "      <td>1.338331</td>\n",
       "      <td>6.000000</td>\n",
       "      <td>12.000000</td>\n",
       "      <td>12.000000</td>\n",
       "      <td>12.000000</td>\n",
       "      <td>12.00000</td>\n",
       "    </tr>\n",
       "  </tbody>\n",
       "</table>\n",
       "</div>"
      ],
      "text/plain": [
       "                                   count         mean          std        min  \\\n",
       "BALANCE                           8950.0  1564.474828  2081.531879   0.000000   \n",
       "BALANCE_FREQUENCY                 8950.0     0.877271     0.236904   0.000000   \n",
       "PURCHASES                         8950.0  1003.204834  2136.634782   0.000000   \n",
       "ONEOFF_PURCHASES                  8950.0   592.437371  1659.887917   0.000000   \n",
       "INSTALLMENTS_PURCHASES            8950.0   411.067645   904.338115   0.000000   \n",
       "CASH_ADVANCE                      8950.0   978.871112  2097.163877   0.000000   \n",
       "PURCHASES_FREQUENCY               8950.0     0.490351     0.401371   0.000000   \n",
       "ONEOFF_PURCHASES_FREQUENCY        8950.0     0.202458     0.298336   0.000000   \n",
       "PURCHASES_INSTALLMENTS_FREQUENCY  8950.0     0.364437     0.397448   0.000000   \n",
       "CASH_ADVANCE_FREQUENCY            8950.0     0.135144     0.200121   0.000000   \n",
       "CASH_ADVANCE_TRX                  8950.0     3.248827     6.824647   0.000000   \n",
       "PURCHASES_TRX                     8950.0    14.709832    24.857649   0.000000   \n",
       "CREDIT_LIMIT                      8949.0  4494.449450  3638.815725  50.000000   \n",
       "PAYMENTS                          8950.0  1733.143852  2895.063757   0.000000   \n",
       "MINIMUM_PAYMENTS                  8637.0   864.206542  2372.446607   0.019163   \n",
       "PRC_FULL_PAYMENT                  8950.0     0.153715     0.292499   0.000000   \n",
       "TENURE                            8950.0    11.517318     1.338331   6.000000   \n",
       "\n",
       "                                          25%          50%          75%  \\\n",
       "BALANCE                            128.281915   873.385231  2054.140036   \n",
       "BALANCE_FREQUENCY                    0.888889     1.000000     1.000000   \n",
       "PURCHASES                           39.635000   361.280000  1110.130000   \n",
       "ONEOFF_PURCHASES                     0.000000    38.000000   577.405000   \n",
       "INSTALLMENTS_PURCHASES               0.000000    89.000000   468.637500   \n",
       "CASH_ADVANCE                         0.000000     0.000000  1113.821139   \n",
       "PURCHASES_FREQUENCY                  0.083333     0.500000     0.916667   \n",
       "ONEOFF_PURCHASES_FREQUENCY           0.000000     0.083333     0.300000   \n",
       "PURCHASES_INSTALLMENTS_FREQUENCY     0.000000     0.166667     0.750000   \n",
       "CASH_ADVANCE_FREQUENCY               0.000000     0.000000     0.222222   \n",
       "CASH_ADVANCE_TRX                     0.000000     0.000000     4.000000   \n",
       "PURCHASES_TRX                        1.000000     7.000000    17.000000   \n",
       "CREDIT_LIMIT                      1600.000000  3000.000000  6500.000000   \n",
       "PAYMENTS                           383.276166   856.901546  1901.134317   \n",
       "MINIMUM_PAYMENTS                   169.123707   312.343947   825.485459   \n",
       "PRC_FULL_PAYMENT                     0.000000     0.000000     0.142857   \n",
       "TENURE                              12.000000    12.000000    12.000000   \n",
       "\n",
       "                                          max  \n",
       "BALANCE                           19043.13856  \n",
       "BALANCE_FREQUENCY                     1.00000  \n",
       "PURCHASES                         49039.57000  \n",
       "ONEOFF_PURCHASES                  40761.25000  \n",
       "INSTALLMENTS_PURCHASES            22500.00000  \n",
       "CASH_ADVANCE                      47137.21176  \n",
       "PURCHASES_FREQUENCY                   1.00000  \n",
       "ONEOFF_PURCHASES_FREQUENCY            1.00000  \n",
       "PURCHASES_INSTALLMENTS_FREQUENCY      1.00000  \n",
       "CASH_ADVANCE_FREQUENCY                1.50000  \n",
       "CASH_ADVANCE_TRX                    123.00000  \n",
       "PURCHASES_TRX                       358.00000  \n",
       "CREDIT_LIMIT                      30000.00000  \n",
       "PAYMENTS                          50721.48336  \n",
       "MINIMUM_PAYMENTS                  76406.20752  \n",
       "PRC_FULL_PAYMENT                      1.00000  \n",
       "TENURE                               12.00000  "
      ]
     },
     "execution_count": 11,
     "metadata": {},
     "output_type": "execute_result"
    }
   ],
   "source": [
    "df.describe().T"
   ]
  },
  {
   "cell_type": "code",
   "execution_count": 22,
   "metadata": {
    "id": "a1Fl6kjrfc-2",
    "outputId": "29368dc8-f577-43db-c5ee-6dc307407098",
    "trusted": true
   },
   "outputs": [
    {
     "name": "stdout",
     "output_type": "stream",
     "text": [
      "                                  Nulls  Num_of_nulls [qty]  Num_of_nulls [%]\n",
      "CUST_ID                           False                   0               0.0\n",
      "BALANCE                           False                   0               0.0\n",
      "BALANCE_FREQUENCY                 False                   0               0.0\n",
      "PURCHASES                         False                   0               0.0\n",
      "ONEOFF_PURCHASES                  False                   0               0.0\n",
      "INSTALLMENTS_PURCHASES            False                   0               0.0\n",
      "CASH_ADVANCE                      False                   0               0.0\n",
      "PURCHASES_FREQUENCY               False                   0               0.0\n",
      "ONEOFF_PURCHASES_FREQUENCY        False                   0               0.0\n",
      "PURCHASES_INSTALLMENTS_FREQUENCY  False                   0               0.0\n",
      "CASH_ADVANCE_FREQUENCY            False                   0               0.0\n",
      "CASH_ADVANCE_TRX                  False                   0               0.0\n",
      "PURCHASES_TRX                     False                   0               0.0\n",
      "CREDIT_LIMIT                      False                   0               0.0\n",
      "PAYMENTS                          False                   0               0.0\n",
      "MINIMUM_PAYMENTS                   True                 313               3.5\n",
      "PRC_FULL_PAYMENT                  False                   0               0.0\n",
      "TENURE                            False                   0               0.0\n"
     ]
    }
   ],
   "source": [
    "nulls_summary = pd.DataFrame(df.isnull().any(), columns=['Nulls'])   \n",
    "nulls_summary['Num_of_nulls [qty]'] = pd.DataFrame(df.isnull().sum())   \n",
    "nulls_summary['Num_of_nulls [%]'] = round((df.isnull().mean()*100),2)   \n",
    "print(nulls_summary) "
   ]
  },
  {
   "cell_type": "code",
   "execution_count": 13,
   "metadata": {
    "id": "kfD03skr3L-n",
    "trusted": true
   },
   "outputs": [],
   "source": [
    "\n",
    "\n",
    "df.dropna(axis=0, subset=['CREDIT_LIMIT'], inplace=True)"
   ]
  },
  {
   "cell_type": "code",
   "execution_count": 14,
   "metadata": {
    "id": "XilZvyHEDG1g",
    "trusted": true
   },
   "outputs": [],
   "source": [
    "import matplotlib.pyplot as plt\n",
    "from sklearn.cluster import KMeans"
   ]
  },
  {
   "cell_type": "code",
   "execution_count": 15,
   "metadata": {
    "id": "CDMyQlDtDmfX",
    "trusted": true
   },
   "outputs": [],
   "source": [
    "X= df.iloc[:, [3,13]].values"
   ]
  },
  {
   "cell_type": "code",
   "execution_count": 16,
   "metadata": {
    "id": "IQvSHed9ZOik",
    "outputId": "e8a7af8b-a736-4caf-cd92-528613b9e21d",
    "trusted": true
   },
   "outputs": [
    {
     "data": {
      "image/png": "[encoded data removed]",
      "text/plain": [
       "<Figure size 640x480 with 1 Axes>"
      ]
     },
     "metadata": {},
     "output_type": "display_data"
    }
   ],
   "source": [
    "#Visualise data points\n",
    "plt.scatter(X[:,0],X[:,1],c='black')\n",
    "plt.xlabel('PURCHASES')\n",
    "plt.ylabel('CREDIT_LIMIT')\n",
    "plt.show()\n"
   ]
  },
  {
   "cell_type": "code",
   "execution_count": 17,
   "metadata": {
    "id": "cdFnjkdYDV4A",
    "outputId": "f31bbe2d-7725-488f-adbc-25932e418f08",
    "trusted": true
   },
   "outputs": [
    {
     "name": "stderr",
     "output_type": "stream",
     "text": [
      "d:\\Anaconda\\Lib\\site-packages\\joblib\\externals\\loky\\backend\\context.py:136: UserWarning: Could not find the number of physical cores for the following reason:\n",
      "[WinError 2] The system cannot find the file specified\n",
      "Returning the number of logical cores instead. You can silence this warning by setting LOKY_MAX_CPU_COUNT to the number of cores you want to use.\n",
      "  warnings.warn(\n",
      "  File \"d:\\Anaconda\\Lib\\site-packages\\joblib\\externals\\loky\\backend\\context.py\", line 257, in _count_physical_cores\n",
      "    cpu_info = subprocess.run(\n",
      "               ^^^^^^^^^^^^^^^\n",
      "  File \"d:\\Anaconda\\Lib\\subprocess.py\", line 548, in run\n",
      "    with Popen(*popenargs, **kwargs) as process:\n",
      "         ^^^^^^^^^^^^^^^^^^^^^^^^^^^\n",
      "  File \"d:\\Anaconda\\Lib\\subprocess.py\", line 1026, in __init__\n",
      "    self._execute_child(args, executable, preexec_fn, close_fds,\n",
      "  File \"d:\\Anaconda\\Lib\\subprocess.py\", line 1538, in _execute_child\n",
      "    hp, ht, pid, tid = _winapi.CreateProcess(executable, args,\n",
      "                       ^^^^^^^^^^^^^^^^^^^^^^^^^^^^^^^^^^^^^^^\n"
     ]
    },
    {
     "name": "stdout",
     "output_type": "stream",
     "text": [
      "[0 4 3 ... 0 0 0]\n"
     ]
    },
    {
     "data": {
      "text/plain": [
       "array([[  479.52491158,  1898.12830409],\n",
       "       [17177.46416667, 12560.41666667],\n",
       "       [ 2129.19086207, 15088.79310345],\n",
       "       [ 1551.63114967,  9053.00400973],\n",
       "       [ 1075.66703255,  5229.20039291]])"
      ]
     },
     "execution_count": 17,
     "metadata": {},
     "output_type": "execute_result"
    }
   ],
   "source": [
    "kmeans5 = KMeans(n_clusters=5)\n",
    "y_kmeans5 = kmeans5.fit_predict(X)\n",
    "print(y_kmeans5)\n",
    "\n",
    "kmeans5.cluster_centers_"
   ]
  },
  {
   "cell_type": "code",
   "execution_count": 18,
   "metadata": {
    "id": "SMmheuCkFU69",
    "outputId": "dd887513-55a2-4ecb-eef7-b6495f55c772",
    "trusted": true
   },
   "outputs": [
    {
     "data": {
      "image/png": "[encoded data removed]",
      "text/plain": [
       "<Figure size 640x480 with 1 Axes>"
      ]
     },
     "metadata": {},
     "output_type": "display_data"
    }
   ],
   "source": [
    "Error =[]\n",
    "for i in range(1, 11):\n",
    "    kmeans = KMeans(n_clusters = i).fit(X)\n",
    "    kmeans.fit(X)\n",
    "    Error.append(kmeans.inertia_)\n",
    "import matplotlib.pyplot as plt\n",
    "plt.plot(range(1, 11), Error)\n",
    "plt.title('Elbow method')\n",
    "plt.xlabel('No of clusters')\n",
    "plt.ylabel('Error')\n",
    "plt.show()"
   ]
  },
  {
   "cell_type": "code",
   "execution_count": 19,
   "metadata": {
    "id": "o4z8dXhUXM0u",
    "trusted": true
   },
   "outputs": [],
   "source": [
    "kmeansmodel = KMeans(n_clusters= 4)\n",
    "y_kmeans= kmeansmodel.fit_predict(X)"
   ]
  },
  {
   "cell_type": "code",
   "execution_count": 20,
   "metadata": {
    "id": "ann-BCQbXeCf",
    "outputId": "a15ca534-a8fe-4365-afa3-bd789b2699f5",
    "trusted": true
   },
   "outputs": [
    {
     "data": {
      "text/plain": [
       "array([[  634.64976409,  6178.44334564],\n",
       "       [  401.70143379,  1369.41143932],\n",
       "       [10181.59393939, 10813.13131313],\n",
       "       [28601.20772727, 16113.63636364],\n",
       "       [  411.60774009,  3228.76676456],\n",
       "       [ 1076.7884573 , 12491.4600551 ],\n",
       "       [ 3178.20766529,  3847.99962434],\n",
       "       [ 2557.91744966, 17343.95973154],\n",
       "       [ 4385.6850152 ,  7932.0668693 ],\n",
       "       [  684.69822767,  9108.7241289 ]])"
      ]
     },
     "execution_count": 20,
     "metadata": {},
     "output_type": "execute_result"
    }
   ],
   "source": [
    "kmeans.cluster_centers_"
   ]
  },
  {
   "cell_type": "code",
   "execution_count": 21,
   "metadata": {
    "id": "wNgezT_JXmdJ",
    "outputId": "f5bc874f-c9f4-4014-a5d7-9a75c7a265bf",
    "trusted": true
   },
   "outputs": [
    {
     "data": {
      "text/plain": [
       "<matplotlib.collections.PathCollection at 0x2d099d78830>"
      ]
     },
     "execution_count": 21,
     "metadata": {},
     "output_type": "execute_result"
    },
    {
     "data": {
      "image/png": "[encoded data removed]",
      "text/plain": [
       "<Figure size 640x480 with 1 Axes>"
      ]
     },
     "metadata": {},
     "output_type": "display_data"
    }
   ],
   "source": [
    "plt.scatter(X[:, 0], X[:, 1], s = 300, c = y_kmeans, cmap='rainbow')"
   ]
  }
 ],
 "metadata": {
  "kernelspec": {
   "display_name": "base",
   "language": "python",
   "name": "python3"
  },
  "language_info": {
   "codemirror_mode": {
    "name": "ipython",
    "version": 3
   },
   "file_extension": ".py",
   "mimetype": "text/x-python",
   "name": "python",
   "nbconvert_exporter": "python",
   "pygments_lexer": "ipython3",
   "version": "3.12.7"
  }
 },
 "nbformat": 4,
 "nbformat_minor": 4
}
