{
 "cells": [
  {
   "cell_type": "markdown",
   "id": "749112e5",
   "metadata": {
    "papermill": {
     "duration": 0.026218,
     "end_time": "2024-07-16T17:26:11.412351",
     "exception": false,
     "start_time": "2024-07-16T17:26:11.386133",
     "status": "completed"
    },
    "tags": []
   },
   "source": [
    "# Model Klasifikasi Produk Keuangan Berdasarkan Keluhan yang Diterima\n",
    "\n",
    "**Disampaikan oleh Dr. Juliho Castillo**.\n",
    "\n",
    "Dalam proyek ini, saya akan menganalisis kumpulan data [Keluhan Konsumen](https://www.kaggle.com/dushyantv/consumer_complaints), yang mencakup keluhan yang diterima terhadap lembaga keuangan di Amerika Serikat selama periode 2012 hingga 2016.\n",
    "\n",
    "Pada bagian pertama dari pekerjaan ini, saya akan memanipulasi dan membersihkan data sehingga berguna untuk analisis. Pada bagian kedua, saya akan menganalisis data ini baik dalam dimensinya maupun perilaku temporalnya, untuk akhirnya membuat model yang memungkinkan saya memprediksi kategori produk berdasarkan karakteristik lainnya.\n",
    "\n",
    "Karena keterbatasan waktu dan sumber daya, saya akan menggunakan sampel dari seluruh kumpulan data. Namun, parameter yang digunakan untuk memilih sampel ini dapat dengan mudah diubah sehingga algoritme berlaku untuk seluruh kumpulan data."
   ]
  },
  {
   "cell_type": "markdown",
   "id": "3520f119",
   "metadata": {
    "papermill": {
     "duration": 0.025245,
     "end_time": "2024-07-16T17:26:11.464672",
     "exception": false,
     "start_time": "2024-07-16T17:26:11.439427",
     "status": "completed"
    },
    "tags": []
   },
   "source": [
    "# Praproses Data\n",
    "\n",
    "## Mengimpor Modul dan Data\n",
    "\n",
    "- Mari mengimpor modul yang akan digunakan selama proyek\n",
    "- Kita periksa apakah GPU tersedia\n",
    "- Kita impor data ke dalam kerangka data df."
   ]
  },
  {
   "cell_type": "code",
   "execution_count": 6,
   "id": "09f06c96",
   "metadata": {
    "execution": {
     "iopub.execute_input": "2024-07-16T17:26:11.516856Z",
     "iopub.status.busy": "2024-07-16T17:26:11.516502Z",
     "iopub.status.idle": "2024-07-16T17:26:31.162548Z",
     "shell.execute_reply": "2024-07-16T17:26:31.161473Z"
    },
    "papermill": {
     "duration": 19.675097,
     "end_time": "2024-07-16T17:26:31.165161",
     "exception": false,
     "start_time": "2024-07-16T17:26:11.490064",
     "status": "completed"
    },
    "tags": []
   },
   "outputs": [],
   "source": [
    "import pandas as pd\n",
    "import numpy as np\n",
    "import string\n",
    "from collections import Counter\n",
    "from collections import OrderedDict\n",
    "import matplotlib.pyplot as plt\n",
    "import seaborn as sns\n",
    "\n",
    "\n",
    "#!pip install xgboost\n",
    "import xgboost as xgb\n",
    "from sklearn.decomposition import PCA\n",
    "from sklearn.model_selection import train_test_split\n",
    "from sklearn.metrics import accuracy_score\n",
    "from sklearn.cluster import KMeans\n",
    "from sklearn.metrics import classification_report\n",
    "from sklearn import feature_selection \n",
    "from sklearn import preprocessing\n",
    "from sklearn.linear_model import LogisticRegression\n",
    "\n",
    "#!pip install plotly\n",
    "import plotly.offline as py\n",
    "import warnings\n",
    "import itertools\n",
    "import numpy as np\n",
    "import matplotlib.pyplot as plt\n",
    "plt.style.use('fivethirtyeight')\n",
    "import statsmodels.api as sm\n",
    "import matplotlib\n",
    "\n",
    "matplotlib.rcParams['axes.labelsize'] = 14\n",
    "matplotlib.rcParams['xtick.labelsize'] = 12\n",
    "matplotlib.rcParams['ytick.labelsize'] = 12\n",
    "matplotlib.rcParams['text.color'] = 'k'\n",
    "\n",
    "warnings.filterwarnings(\"ignore\")"
   ]
  },
  {
   "cell_type": "markdown",
   "id": "f9658bec",
   "metadata": {},
   "source": [
    "### Download Dataset \n",
    "Dataset ini berisi keluhan konsumen terkait layanan keuangan, dikumpulkan oleh CFPB (*Consumer Financial Protection Bureau*).\n",
    "[Kaggle - Consumer Complaint Database](https://www.kaggle.com/datasets/selener/consumer-complaint-database)  \n"
   ]
  },
  {
   "cell_type": "code",
   "execution_count": 7,
   "id": "34bb66c4",
   "metadata": {
    "execution": {
     "iopub.execute_input": "2024-07-16T17:26:31.451750Z",
     "iopub.status.busy": "2024-07-16T17:26:31.450895Z",
     "iopub.status.idle": "2024-07-16T17:26:42.140118Z",
     "shell.execute_reply": "2024-07-16T17:26:42.138690Z"
    },
    "papermill": {
     "duration": 10.72008,
     "end_time": "2024-07-16T17:26:42.142733",
     "exception": false,
     "start_time": "2024-07-16T17:26:31.422653",
     "status": "completed"
    },
    "tags": []
   },
   "outputs": [],
   "source": [
    "df = pd.read_csv('../Data/Consumer_Complaints.csv')\n",
    "rows = df.shape[0]"
   ]
  },
  {
   "cell_type": "markdown",
   "id": "5a5e1624",
   "metadata": {
    "papermill": {
     "duration": 0.026725,
     "end_time": "2024-07-16T17:26:42.196336",
     "exception": false,
     "start_time": "2024-07-16T17:26:42.169611",
     "status": "completed"
    },
    "tags": []
   },
   "source": [
    "* Karena keterbatasan memori, kami akan mengambil sampel dari basis data.\n",
    "* Persentase tertinggi (dibulatkan) yang dapat digunakan adalah 35%.\n",
    "* Variabel 'samples' memberi tahu kita berapa banyak rekaman yang terdapat dalam sampel kita.\n",
    "* Setelah mengimpor kerangka data, kita diperlihatkan peringatan tentang dua kolom ini. Kita akan membahasnya nanti.\n",
    "* Fungsi `cool_col` akan mengubah nama setiap kolom sehingga lebih mudah digunakan.\n",
    "* Kita mengubah nama semua kolom.\n",
    "* Variabel ubanks adalah kumpulan nama bank yang diurutkan berdasarkan abjad."
   ]
  },
  {
   "cell_type": "code",
   "execution_count": 8,
   "id": "477a0960",
   "metadata": {
    "execution": {
     "iopub.execute_input": "2024-07-16T17:26:42.250449Z",
     "iopub.status.busy": "2024-07-16T17:26:42.249783Z",
     "iopub.status.idle": "2024-07-16T17:26:42.616559Z",
     "shell.execute_reply": "2024-07-16T17:26:42.615526Z"
    },
    "papermill": {
     "duration": 0.396504,
     "end_time": "2024-07-16T17:26:42.619084",
     "exception": false,
     "start_time": "2024-07-16T17:26:42.222580",
     "status": "completed"
    },
    "tags": []
   },
   "outputs": [],
   "source": [
    "pct = 0.15\n",
    "magic_number = int(pct*rows)\n",
    "df = df.sample(n=magic_number, random_state=0)\n",
    "samples = df.shape[0]"
   ]
  },
  {
   "cell_type": "code",
   "execution_count": 9,
   "id": "3f37baca",
   "metadata": {
    "execution": {
     "iopub.execute_input": "2024-07-16T17:26:42.679016Z",
     "iopub.status.busy": "2024-07-16T17:26:42.678153Z",
     "iopub.status.idle": "2024-07-16T17:26:42.697167Z",
     "shell.execute_reply": "2024-07-16T17:26:42.696260Z"
    },
    "papermill": {
     "duration": 0.053182,
     "end_time": "2024-07-16T17:26:42.699376",
     "exception": false,
     "start_time": "2024-07-16T17:26:42.646194",
     "status": "completed"
    },
    "tags": []
   },
   "outputs": [
    {
     "data": {
      "text/plain": [
       "Index(['Consumer Complaint', 'Consumer consent provided?'], dtype='object')"
      ]
     },
     "execution_count": 9,
     "metadata": {},
     "output_type": "execute_result"
    }
   ],
   "source": [
    "df.columns[[5,11]]"
   ]
  },
  {
   "cell_type": "code",
   "execution_count": 10,
   "id": "0caea1ef",
   "metadata": {
    "execution": {
     "iopub.execute_input": "2024-07-16T17:26:42.804545Z",
     "iopub.status.busy": "2024-07-16T17:26:42.804199Z",
     "iopub.status.idle": "2024-07-16T17:26:42.810917Z",
     "shell.execute_reply": "2024-07-16T17:26:42.810026Z"
    },
    "papermill": {
     "duration": 0.037366,
     "end_time": "2024-07-16T17:26:42.812844",
     "exception": false,
     "start_time": "2024-07-16T17:26:42.775478",
     "status": "completed"
    },
    "tags": []
   },
   "outputs": [],
   "source": [
    "\n",
    "def cool_col(col):\n",
    "    col = col.replace(\"-\", \" \")\n",
    "    col = col.replace(\"?\", \"\")\n",
    "    phrase = col.split()\n",
    "    tag = None\n",
    "    if len(phrase)==1:\n",
    "        tag = phrase[0]\n",
    "    else:\n",
    "        tag = phrase[0]+\"_\"+phrase[1]    \n",
    "    #print(col, phrase, tag)\n",
    "    return tag.lower()"
   ]
  },
  {
   "cell_type": "code",
   "execution_count": 11,
   "id": "22d640f6",
   "metadata": {
    "execution": {
     "iopub.execute_input": "2024-07-16T17:26:42.868493Z",
     "iopub.status.busy": "2024-07-16T17:26:42.867893Z",
     "iopub.status.idle": "2024-07-16T17:26:42.872753Z",
     "shell.execute_reply": "2024-07-16T17:26:42.871843Z"
    },
    "papermill": {
     "duration": 0.034433,
     "end_time": "2024-07-16T17:26:42.874640",
     "exception": false,
     "start_time": "2024-07-16T17:26:42.840207",
     "status": "completed"
    },
    "tags": []
   },
   "outputs": [],
   "source": [
    "\n",
    "df.columns = [cool_col(col) for col in df.columns]"
   ]
  },
  {
   "cell_type": "code",
   "execution_count": 12,
   "id": "502141f7",
   "metadata": {},
   "outputs": [
    {
     "name": "stdout",
     "output_type": "stream",
     "text": [
      "<class 'pandas.core.frame.DataFrame'>\n",
      "Index: 153751 entries, 875832 to 931343\n",
      "Data columns (total 19 columns):\n",
      " #   Column              Non-Null Count   Dtype  \n",
      "---  ------              --------------   -----  \n",
      " 0   date_received       153751 non-null  object \n",
      " 1   product             153751 non-null  object \n",
      " 2   sub_product         118500 non-null  object \n",
      " 3   issue               153751 non-null  object \n",
      " 4   sub_issue           79482 non-null   object \n",
      " 5   consumer_complaint  41762 non-null   object \n",
      " 6   company_public      47357 non-null   object \n",
      " 7   company             153751 non-null  object \n",
      " 8   state               151935 non-null  object \n",
      " 9   zip_code            151277 non-null  object \n",
      " 10  tags                21347 non-null   object \n",
      " 11  consumer_consent    73876 non-null   object \n",
      " 12  submitted_via       153751 non-null  object \n",
      " 13  date_sent           153751 non-null  object \n",
      " 14  company_response    153750 non-null  object \n",
      " 15  timely_response     153751 non-null  object \n",
      " 16  consumer_disputed   115202 non-null  object \n",
      " 17  complaint_id        153751 non-null  int64  \n",
      " 18  unnamed:_18         0 non-null       float64\n",
      "dtypes: float64(1), int64(1), object(17)\n",
      "memory usage: 23.5+ MB\n"
     ]
    }
   ],
   "source": [
    "df.info()"
   ]
  },
  {
   "cell_type": "code",
   "execution_count": 13,
   "id": "009fe329",
   "metadata": {
    "execution": {
     "iopub.execute_input": "2024-07-16T17:26:42.930094Z",
     "iopub.status.busy": "2024-07-16T17:26:42.929770Z",
     "iopub.status.idle": "2024-07-16T17:26:42.962057Z",
     "shell.execute_reply": "2024-07-16T17:26:42.961322Z"
    },
    "papermill": {
     "duration": 0.062323,
     "end_time": "2024-07-16T17:26:42.964019",
     "exception": false,
     "start_time": "2024-07-16T17:26:42.901696",
     "status": "completed"
    },
    "tags": []
   },
   "outputs": [],
   "source": [
    "\n",
    "ubanks = np.sort(pd.unique(df[\"company\"]))"
   ]
  },
  {
   "cell_type": "markdown",
   "id": "e8c4dc5a",
   "metadata": {
    "papermill": {
     "duration": 0.026505,
     "end_time": "2024-07-16T17:26:43.017144",
     "exception": false,
     "start_time": "2024-07-16T17:26:42.990639",
     "status": "completed"
    },
    "tags": []
   },
   "source": [
    "## Pemrosesan Variabel\n",
    "\n",
    "- Saya akan menghapus ID keluhan karena tidak memberikan informasi yang relevan.\n",
    "- Saya hanya akan bekerja dengan variabel yang memiliki nilai null kurang dari 20%."
   ]
  },
  {
   "cell_type": "code",
   "execution_count": 14,
   "id": "7002ff6f",
   "metadata": {
    "execution": {
     "iopub.execute_input": "2024-07-16T17:26:43.071762Z",
     "iopub.status.busy": "2024-07-16T17:26:43.071413Z",
     "iopub.status.idle": "2024-07-16T17:26:43.118785Z",
     "shell.execute_reply": "2024-07-16T17:26:43.117976Z"
    },
    "papermill": {
     "duration": 0.07736,
     "end_time": "2024-07-16T17:26:43.121017",
     "exception": false,
     "start_time": "2024-07-16T17:26:43.043657",
     "status": "completed"
    },
    "tags": []
   },
   "outputs": [],
   "source": [
    "\n",
    "df.drop(columns = ['complaint_id'], inplace=True)"
   ]
  },
  {
   "cell_type": "code",
   "execution_count": 15,
   "id": "6cc03f79",
   "metadata": {
    "execution": {
     "iopub.execute_input": "2024-07-16T17:26:43.176724Z",
     "iopub.status.busy": "2024-07-16T17:26:43.176226Z",
     "iopub.status.idle": "2024-07-16T17:26:43.406352Z",
     "shell.execute_reply": "2024-07-16T17:26:43.405501Z"
    },
    "papermill": {
     "duration": 0.259993,
     "end_time": "2024-07-16T17:26:43.408344",
     "exception": false,
     "start_time": "2024-07-16T17:26:43.148351",
     "status": "completed"
    },
    "tags": []
   },
   "outputs": [],
   "source": [
    "to_include = df.columns[(df.isnull().sum()<(0.20)*samples).values]"
   ]
  },
  {
   "cell_type": "code",
   "execution_count": 16,
   "id": "c2de37a5",
   "metadata": {
    "execution": {
     "iopub.execute_input": "2024-07-16T17:26:43.467354Z",
     "iopub.status.busy": "2024-07-16T17:26:43.466632Z",
     "iopub.status.idle": "2024-07-16T17:26:43.472857Z",
     "shell.execute_reply": "2024-07-16T17:26:43.472039Z"
    },
    "papermill": {
     "duration": 0.037446,
     "end_time": "2024-07-16T17:26:43.474890",
     "exception": false,
     "start_time": "2024-07-16T17:26:43.437444",
     "status": "completed"
    },
    "tags": []
   },
   "outputs": [
    {
     "data": {
      "text/plain": [
       "Index(['date_received', 'product', 'issue', 'company', 'state', 'zip_code',\n",
       "       'submitted_via', 'date_sent', 'company_response', 'timely_response'],\n",
       "      dtype='object')"
      ]
     },
     "execution_count": 16,
     "metadata": {},
     "output_type": "execute_result"
    }
   ],
   "source": [
    "to_include"
   ]
  },
  {
   "cell_type": "code",
   "execution_count": 17,
   "id": "b24f5750",
   "metadata": {
    "execution": {
     "iopub.execute_input": "2024-07-16T17:26:43.531475Z",
     "iopub.status.busy": "2024-07-16T17:26:43.530543Z",
     "iopub.status.idle": "2024-07-16T17:26:43.575048Z",
     "shell.execute_reply": "2024-07-16T17:26:43.574021Z"
    },
    "papermill": {
     "duration": 0.074995,
     "end_time": "2024-07-16T17:26:43.577389",
     "exception": false,
     "start_time": "2024-07-16T17:26:43.502394",
     "status": "completed"
    },
    "tags": []
   },
   "outputs": [],
   "source": [
    "df = df[to_include]"
   ]
  },
  {
   "cell_type": "markdown",
   "id": "823fbad4",
   "metadata": {
    "papermill": {
     "duration": 0.026468,
     "end_time": "2024-07-16T17:26:43.631236",
     "exception": false,
     "start_time": "2024-07-16T17:26:43.604768",
     "status": "completed"
    },
    "tags": []
   },
   "source": [
    "### Perusahaan\n",
    "\n",
    "- Sekarang kita akan mengubah variabel \"perusahaan\", mencoba mengidentifikasi bank-bank yang termasuk dalam kelompok yang sama dan yang namanya bervariasi dalam keadaan tertentu.\n",
    "- Misalnya, karena mereka berlokasi di dua negara bagian yang berbeda.\n",
    "- Kita mengidentifikasi karakter khusus yang akan diganti.\n",
    "- Kita mencari sufiks yang paling umum."
   ]
  },
  {
   "cell_type": "code",
   "execution_count": 18,
   "id": "419bb494",
   "metadata": {
    "execution": {
     "iopub.execute_input": "2024-07-16T17:26:43.686318Z",
     "iopub.status.busy": "2024-07-16T17:26:43.685374Z",
     "iopub.status.idle": "2024-07-16T17:26:43.690140Z",
     "shell.execute_reply": "2024-07-16T17:26:43.689245Z"
    },
    "papermill": {
     "duration": 0.034649,
     "end_time": "2024-07-16T17:26:43.692246",
     "exception": false,
     "start_time": "2024-07-16T17:26:43.657597",
     "status": "completed"
    },
    "tags": []
   },
   "outputs": [],
   "source": [
    "non_special = {ord(c):\"\" for c in string.punctuation}"
   ]
  },
  {
   "cell_type": "code",
   "execution_count": 19,
   "id": "047ed533",
   "metadata": {
    "execution": {
     "iopub.execute_input": "2024-07-16T17:26:43.746579Z",
     "iopub.status.busy": "2024-07-16T17:26:43.746288Z",
     "iopub.status.idle": "2024-07-16T17:26:43.751970Z",
     "shell.execute_reply": "2024-07-16T17:26:43.751169Z"
    },
    "papermill": {
     "duration": 0.035045,
     "end_time": "2024-07-16T17:26:43.753859",
     "exception": false,
     "start_time": "2024-07-16T17:26:43.718814",
     "status": "completed"
    },
    "tags": []
   },
   "outputs": [],
   "source": [
    "\n",
    "common_suffixes = set()\n",
    "for bank in ubanks[0]:\n",
    "    if \",\" in bank:\n",
    "        last_comma = bank.rindex(\",\")       \n",
    "        suffix = bank[last_comma+1:].strip()\n",
    "        suffix_words = suffix.split()\n",
    "        if \"&\" not in suffix_words and \"and\" not in suffix_words:\n",
    "           common_suffixes.add(suffix)           \n",
    "#common_suffixes.remove(\"\")\n",
    "common_suffixes = sorted(common_suffixes, key=len)[::-1]"
   ]
  },
  {
   "cell_type": "markdown",
   "id": "1585c7a6",
   "metadata": {
    "papermill": {
     "duration": 0.026884,
     "end_time": "2024-07-16T17:26:43.807393",
     "exception": false,
     "start_time": "2024-07-16T17:26:43.780509",
     "status": "completed"
    },
    "tags": []
   },
   "source": [
    "- Fungsi ini akan membantu kita membersihkan nama bank untuk mengidentifikasi nama-nama yang mirip.\n",
    "\n",
    "- Kamus `bank_tags` akan memberi kita cara untuk mengidentifikasi setiap nama bank asli dengan nama yang bersih.\n",
    "\n",
    "- Kita mengganti nama-nama bank dengan kamus sebelumnya."
   ]
  },
  {
   "cell_type": "code",
   "execution_count": 20,
   "id": "77aa4d73",
   "metadata": {
    "execution": {
     "iopub.execute_input": "2024-07-16T17:26:43.863467Z",
     "iopub.status.busy": "2024-07-16T17:26:43.862698Z",
     "iopub.status.idle": "2024-07-16T17:26:43.868372Z",
     "shell.execute_reply": "2024-07-16T17:26:43.867528Z"
    },
    "papermill": {
     "duration": 0.034925,
     "end_time": "2024-07-16T17:26:43.870224",
     "exception": false,
     "start_time": "2024-07-16T17:26:43.835299",
     "status": "completed"
    },
    "tags": []
   },
   "outputs": [],
   "source": [
    "\n",
    "def clean_title(title):\n",
    "    title = title.translate(non_special).lower()\n",
    "    title = title.replace(\"the\", \"\")\n",
    "    title = title.replace(\"of\", \"\")\n",
    "    title = title.replace(\"&\", \"\")\n",
    "    title = title.replace(\"and\", \"\")\n",
    "    title = \"_\".join([word for word in title.split() if len(word)>1])\n",
    "    return title"
   ]
  },
  {
   "cell_type": "code",
   "execution_count": 21,
   "id": "47a474cb",
   "metadata": {
    "execution": {
     "iopub.execute_input": "2024-07-16T17:26:43.925257Z",
     "iopub.status.busy": "2024-07-16T17:26:43.924645Z",
     "iopub.status.idle": "2024-07-16T17:26:43.956350Z",
     "shell.execute_reply": "2024-07-16T17:26:43.955579Z"
    },
    "papermill": {
     "duration": 0.061479,
     "end_time": "2024-07-16T17:26:43.958150",
     "exception": false,
     "start_time": "2024-07-16T17:26:43.896671",
     "status": "completed"
    },
    "tags": []
   },
   "outputs": [],
   "source": [
    "\n",
    "bank_tags = {}\n",
    "for bank in ubanks:\n",
    "    new = bank\n",
    "    for suffix in common_suffixes:\n",
    "        new = new.replace(suffix, \"\")\n",
    "    if clean_title(new):\n",
    "        bank_tags[bank] = clean_title(new)\n",
    "    else:\n",
    "        tag = bank.split()[0].translate(non_special).lower()      \n",
    "        #print(\"{:<30} {:<10} {} {:>10}\".format(bank,new,clean_title(new),tag))                \n",
    "        bank_tags[bank] = tag"
   ]
  },
  {
   "cell_type": "code",
   "execution_count": 22,
   "id": "25cf6eca",
   "metadata": {
    "execution": {
     "iopub.execute_input": "2024-07-16T17:26:44.013095Z",
     "iopub.status.busy": "2024-07-16T17:26:44.012752Z",
     "iopub.status.idle": "2024-07-16T17:27:07.302669Z",
     "shell.execute_reply": "2024-07-16T17:27:07.301753Z"
    },
    "papermill": {
     "duration": 23.320487,
     "end_time": "2024-07-16T17:27:07.305193",
     "exception": false,
     "start_time": "2024-07-16T17:26:43.984706",
     "status": "completed"
    },
    "tags": []
   },
   "outputs": [],
   "source": [
    "\n",
    "df.company=df[\"company\"].replace(bank_tags)"
   ]
  },
  {
   "cell_type": "markdown",
   "id": "3ac232a9",
   "metadata": {
    "papermill": {
     "duration": 0.026798,
     "end_time": "2024-07-16T17:27:07.359824",
     "exception": false,
     "start_time": "2024-07-16T17:27:07.333026",
     "status": "completed"
    },
    "tags": []
   },
   "source": [
    "### Tanggal diterima/Tanggal dikirim ke perusahaan\n",
    "\n",
    "- Saya mengubah tanggal penerimaan pengaduan dari tipe string ke tipe stempel waktu.\n",
    "- Saya mengubah tanggal pengajuan pengaduan ke bank dari tipe string ke tipe stempel waktu.\n",
    "- Saya mencari tanggal terbaru dalam bingkai data.\n",
    "- Kolom data baru ini berisi jumlah hari yang telah berlalu sejak pengaduan diterima hingga tanggal terbaru.\n",
    "- Kolom data baru ini berisi jumlah hari yang telah berlalu sejak pengaduan dikirim ke bank hingga tanggal terbaru."
   ]
  },
  {
   "cell_type": "code",
   "execution_count": 23,
   "id": "0a1ba2ec",
   "metadata": {
    "execution": {
     "iopub.execute_input": "2024-07-16T17:27:07.415779Z",
     "iopub.status.busy": "2024-07-16T17:27:07.414888Z",
     "iopub.status.idle": "2024-07-16T17:27:08.099015Z",
     "shell.execute_reply": "2024-07-16T17:27:08.097966Z"
    },
    "papermill": {
     "duration": 0.714702,
     "end_time": "2024-07-16T17:27:08.101436",
     "exception": false,
     "start_time": "2024-07-16T17:27:07.386734",
     "status": "completed"
    },
    "tags": []
   },
   "outputs": [],
   "source": [
    "\n",
    "df[\"date_received\"] = df[\"date_received\"].str.replace('/', '-')\n",
    "df.date_received = pd.to_datetime(df[\"date_received\"])"
   ]
  },
  {
   "cell_type": "code",
   "execution_count": 24,
   "id": "be79a8db",
   "metadata": {
    "execution": {
     "iopub.execute_input": "2024-07-16T17:27:08.158326Z",
     "iopub.status.busy": "2024-07-16T17:27:08.157738Z",
     "iopub.status.idle": "2024-07-16T17:27:08.825784Z",
     "shell.execute_reply": "2024-07-16T17:27:08.825016Z"
    },
    "papermill": {
     "duration": 0.699217,
     "end_time": "2024-07-16T17:27:08.827988",
     "exception": false,
     "start_time": "2024-07-16T17:27:08.128771",
     "status": "completed"
    },
    "tags": []
   },
   "outputs": [],
   "source": [
    "\n",
    "df[\"date_sent\"] = df[\"date_sent\"].str.replace('/', '-')\n",
    "df.date_sent = pd.to_datetime(df[\"date_sent\"], format=\"%m-%d-%Y\")"
   ]
  },
  {
   "cell_type": "code",
   "execution_count": 25,
   "id": "14e96865",
   "metadata": {
    "execution": {
     "iopub.execute_input": "2024-07-16T17:27:08.884853Z",
     "iopub.status.busy": "2024-07-16T17:27:08.884006Z",
     "iopub.status.idle": "2024-07-16T17:27:08.889835Z",
     "shell.execute_reply": "2024-07-16T17:27:08.889151Z"
    },
    "papermill": {
     "duration": 0.035957,
     "end_time": "2024-07-16T17:27:08.891757",
     "exception": false,
     "start_time": "2024-07-16T17:27:08.855800",
     "status": "completed"
    },
    "tags": []
   },
   "outputs": [],
   "source": [
    "\n",
    "today = max(df.date_received.max(), df.date_sent.max())"
   ]
  },
  {
   "cell_type": "code",
   "execution_count": 26,
   "id": "44f98f7b",
   "metadata": {
    "execution": {
     "iopub.execute_input": "2024-07-16T17:27:08.947637Z",
     "iopub.status.busy": "2024-07-16T17:27:08.947380Z",
     "iopub.status.idle": "2024-07-16T17:27:08.955458Z",
     "shell.execute_reply": "2024-07-16T17:27:08.954601Z"
    },
    "papermill": {
     "duration": 0.037617,
     "end_time": "2024-07-16T17:27:08.957368",
     "exception": false,
     "start_time": "2024-07-16T17:27:08.919751",
     "status": "completed"
    },
    "tags": []
   },
   "outputs": [],
   "source": [
    "\n",
    "df[\"received_days\"] = (today-df.date_received)/np.timedelta64(1, 'D')"
   ]
  },
  {
   "cell_type": "code",
   "execution_count": 27,
   "id": "72df94e8",
   "metadata": {
    "execution": {
     "iopub.execute_input": "2024-07-16T17:27:09.011685Z",
     "iopub.status.busy": "2024-07-16T17:27:09.011433Z",
     "iopub.status.idle": "2024-07-16T17:27:09.018836Z",
     "shell.execute_reply": "2024-07-16T17:27:09.018114Z"
    },
    "papermill": {
     "duration": 0.03656,
     "end_time": "2024-07-16T17:27:09.020661",
     "exception": false,
     "start_time": "2024-07-16T17:27:08.984101",
     "status": "completed"
    },
    "tags": []
   },
   "outputs": [],
   "source": [
    "\n",
    "df[\"sent_days\"] = (today-df.date_sent)/np.timedelta64(1, 'D')"
   ]
  },
  {
   "cell_type": "markdown",
   "id": "ff5e0f58",
   "metadata": {
    "papermill": {
     "duration": 0.026537,
     "end_time": "2024-07-16T17:27:09.074149",
     "exception": false,
     "start_time": "2024-07-16T17:27:09.047612",
     "status": "completed"
    },
    "tags": []
   },
   "source": [
    "## Transformasi ke Variabel Kategori\n",
    "### Variabel Objek\n",
    "- Kita mengidentifikasi variabel tipe objek\n",
    "- Kita membuat matriks yang hanya menyertakan variabel tipe objek\n",
    "- Kita membuat matriks yang hanya menyertakan variabel tipe objek\n",
    "- Kita mengubah semua variabel menjadi kategori."
   ]
  },
  {
   "cell_type": "code",
   "execution_count": 28,
   "id": "e122d8e4",
   "metadata": {
    "execution": {
     "iopub.execute_input": "2024-07-16T17:27:09.128505Z",
     "iopub.status.busy": "2024-07-16T17:27:09.128144Z",
     "iopub.status.idle": "2024-07-16T17:27:09.171322Z",
     "shell.execute_reply": "2024-07-16T17:27:09.170320Z"
    },
    "papermill": {
     "duration": 0.072957,
     "end_time": "2024-07-16T17:27:09.173427",
     "exception": false,
     "start_time": "2024-07-16T17:27:09.100470",
     "status": "completed"
    },
    "tags": []
   },
   "outputs": [
    {
     "data": {
      "text/plain": [
       "Index(['product', 'issue', 'company', 'state', 'zip_code', 'submitted_via',\n",
       "       'company_response', 'timely_response'],\n",
       "      dtype='object')"
      ]
     },
     "execution_count": 28,
     "metadata": {},
     "output_type": "execute_result"
    }
   ],
   "source": [
    "\n",
    "df.select_dtypes(include=['object']).columns"
   ]
  },
  {
   "cell_type": "code",
   "execution_count": 29,
   "id": "9793f64c",
   "metadata": {
    "execution": {
     "iopub.execute_input": "2024-07-16T17:27:09.230429Z",
     "iopub.status.busy": "2024-07-16T17:27:09.229800Z",
     "iopub.status.idle": "2024-07-16T17:27:09.263462Z",
     "shell.execute_reply": "2024-07-16T17:27:09.262322Z"
    },
    "papermill": {
     "duration": 0.064374,
     "end_time": "2024-07-16T17:27:09.265821",
     "exception": false,
     "start_time": "2024-07-16T17:27:09.201447",
     "status": "completed"
    },
    "tags": []
   },
   "outputs": [],
   "source": [
    "\n",
    "X = df.select_dtypes(include=['object'])"
   ]
  },
  {
   "cell_type": "code",
   "execution_count": 30,
   "id": "5ccc7000",
   "metadata": {
    "execution": {
     "iopub.execute_input": "2024-07-16T17:27:09.321759Z",
     "iopub.status.busy": "2024-07-16T17:27:09.321456Z",
     "iopub.status.idle": "2024-07-16T17:27:09.341428Z",
     "shell.execute_reply": "2024-07-16T17:27:09.340432Z"
    },
    "papermill": {
     "duration": 0.050242,
     "end_time": "2024-07-16T17:27:09.343845",
     "exception": false,
     "start_time": "2024-07-16T17:27:09.293603",
     "status": "completed"
    },
    "tags": []
   },
   "outputs": [],
   "source": [
    "X.drop(columns = [\"product\"], inplace=True)"
   ]
  },
  {
   "cell_type": "code",
   "execution_count": 31,
   "id": "7ae80a31",
   "metadata": {
    "execution": {
     "iopub.execute_input": "2024-07-16T17:27:09.401219Z",
     "iopub.status.busy": "2024-07-16T17:27:09.400357Z",
     "iopub.status.idle": "2024-07-16T17:27:09.607830Z",
     "shell.execute_reply": "2024-07-16T17:27:09.606812Z"
    },
    "papermill": {
     "duration": 0.23886,
     "end_time": "2024-07-16T17:27:09.610188",
     "exception": false,
     "start_time": "2024-07-16T17:27:09.371328",
     "status": "completed"
    },
    "tags": []
   },
   "outputs": [],
   "source": [
    "\n",
    "X = X.astype('category')"
   ]
  },
  {
   "cell_type": "markdown",
   "id": "d6015be8",
   "metadata": {
    "papermill": {
     "duration": 0.026374,
     "end_time": "2024-07-16T17:27:09.663968",
     "exception": false,
     "start_time": "2024-07-16T17:27:09.637594",
     "status": "completed"
    },
    "tags": []
   },
   "source": [
    "### Variabel Numerik\n",
    "- Kita mengidentifikasi variabel numerik\n",
    "- Kita menambahkan variabel ini ke matriks kita\n",
    "- Kita memeriksa berapa banyak nilai null yang dimiliki kolom kita."
   ]
  },
  {
   "cell_type": "code",
   "execution_count": 32,
   "id": "13064dfd",
   "metadata": {
    "execution": {
     "iopub.execute_input": "2024-07-16T17:27:09.718731Z",
     "iopub.status.busy": "2024-07-16T17:27:09.718047Z",
     "iopub.status.idle": "2024-07-16T17:27:09.724446Z",
     "shell.execute_reply": "2024-07-16T17:27:09.723374Z"
    },
    "papermill": {
     "duration": 0.036023,
     "end_time": "2024-07-16T17:27:09.726434",
     "exception": false,
     "start_time": "2024-07-16T17:27:09.690411",
     "status": "completed"
    },
    "tags": []
   },
   "outputs": [
    {
     "data": {
      "text/plain": [
       "Index(['received_days', 'sent_days'], dtype='object')"
      ]
     },
     "execution_count": 32,
     "metadata": {},
     "output_type": "execute_result"
    }
   ],
   "source": [
    "df._get_numeric_data().columns"
   ]
  },
  {
   "cell_type": "code",
   "execution_count": 33,
   "id": "a85f35ae",
   "metadata": {
    "execution": {
     "iopub.execute_input": "2024-07-16T17:27:09.782551Z",
     "iopub.status.busy": "2024-07-16T17:27:09.782261Z",
     "iopub.status.idle": "2024-07-16T17:27:09.789656Z",
     "shell.execute_reply": "2024-07-16T17:27:09.788731Z"
    },
    "papermill": {
     "duration": 0.037676,
     "end_time": "2024-07-16T17:27:09.791609",
     "exception": false,
     "start_time": "2024-07-16T17:27:09.753933",
     "status": "completed"
    },
    "tags": []
   },
   "outputs": [],
   "source": [
    "\n",
    "X = pd.concat([X,df._get_numeric_data()], axis=1)"
   ]
  },
  {
   "cell_type": "code",
   "execution_count": 34,
   "id": "852d294d",
   "metadata": {
    "execution": {
     "iopub.execute_input": "2024-07-16T17:27:09.847110Z",
     "iopub.status.busy": "2024-07-16T17:27:09.846803Z",
     "iopub.status.idle": "2024-07-16T17:27:09.856864Z",
     "shell.execute_reply": "2024-07-16T17:27:09.856026Z"
    },
    "papermill": {
     "duration": 0.039716,
     "end_time": "2024-07-16T17:27:09.858617",
     "exception": false,
     "start_time": "2024-07-16T17:27:09.818901",
     "status": "completed"
    },
    "tags": []
   },
   "outputs": [
    {
     "data": {
      "text/plain": [
       "issue                  0\n",
       "company                0\n",
       "state               1816\n",
       "zip_code            2474\n",
       "submitted_via          0\n",
       "company_response       1\n",
       "timely_response        0\n",
       "received_days          0\n",
       "sent_days              0\n",
       "dtype: int64"
      ]
     },
     "execution_count": 34,
     "metadata": {},
     "output_type": "execute_result"
    }
   ],
   "source": [
    "\n",
    "X.isnull().sum()"
   ]
  },
  {
   "cell_type": "markdown",
   "id": "bc8c432f",
   "metadata": {
    "papermill": {
     "duration": 0.028054,
     "end_time": "2024-07-16T17:27:09.913936",
     "exception": false,
     "start_time": "2024-07-16T17:27:09.885882",
     "status": "completed"
    },
    "tags": []
   },
   "source": [
    "Kita pisahkan setiap variabel numerik ke dalam kuartil. Kategori setiap catatan akan sesuai dengan kuartilnya. Ini akan memungkinkan kita untuk menjadikan semua catatan sebagai variabel kategoris yang nantinya akan kita ubah menjadi vektor biner."
   ]
  },
  {
   "cell_type": "code",
   "execution_count": 35,
   "id": "5c340158",
   "metadata": {
    "execution": {
     "iopub.execute_input": "2024-07-16T17:27:09.968794Z",
     "iopub.status.busy": "2024-07-16T17:27:09.968503Z",
     "iopub.status.idle": "2024-07-16T17:27:10.000172Z",
     "shell.execute_reply": "2024-07-16T17:27:09.999404Z"
    },
    "papermill": {
     "duration": 0.061548,
     "end_time": "2024-07-16T17:27:10.002246",
     "exception": false,
     "start_time": "2024-07-16T17:27:09.940698",
     "status": "completed"
    },
    "tags": []
   },
   "outputs": [],
   "source": [
    "\n",
    "for col in df._get_numeric_data().columns:\n",
    "    X[col] = pd.qcut(X[col], 4).astype(\"category\")"
   ]
  },
  {
   "cell_type": "markdown",
   "id": "78191290",
   "metadata": {
    "papermill": {
     "duration": 0.026911,
     "end_time": "2024-07-16T17:27:10.057497",
     "exception": false,
     "start_time": "2024-07-16T17:27:10.030586",
     "status": "completed"
    },
    "tags": []
   },
   "source": [
    "## Pengodean\n",
    "Kita akan mengodekan kategori setiap kolom sebagai bilangan asli."
   ]
  },
  {
   "cell_type": "code",
   "execution_count": 36,
   "id": "1d92a45b",
   "metadata": {
    "execution": {
     "iopub.execute_input": "2024-07-16T17:27:10.114053Z",
     "iopub.status.busy": "2024-07-16T17:27:10.113675Z",
     "iopub.status.idle": "2024-07-16T17:27:11.646384Z",
     "shell.execute_reply": "2024-07-16T17:27:11.645555Z"
    },
    "papermill": {
     "duration": 1.563904,
     "end_time": "2024-07-16T17:27:11.648702",
     "exception": false,
     "start_time": "2024-07-16T17:27:10.084798",
     "status": "completed"
    },
    "tags": []
   },
   "outputs": [],
   "source": [
    "encoder = {}\n",
    "for col in X.columns:\n",
    "    encoder[col] = preprocessing.LabelEncoder()\n",
    "    temp = X[col].values\n",
    "    X[col] = encoder[col].fit_transform(temp)"
   ]
  },
  {
   "cell_type": "markdown",
   "id": "5c0a6c5f",
   "metadata": {
    "papermill": {
     "duration": 0.02721,
     "end_time": "2024-07-16T17:27:11.703771",
     "exception": false,
     "start_time": "2024-07-16T17:27:11.676561",
     "status": "completed"
    },
    "tags": []
   },
   "source": [
    "### Pengodean OneHot\n",
    "Karena keterbatasan memori, Saya hanya akan bekerja dengan tiga variabel prediktor. Variabel-variabel ini dipilih secara manual, untuk mengilustrasikan cara memvisualisasikan dan menganalisis data. Namun, variabel-variabel tersebut dapat dipilih secara objektif menggunakan metode seperti RFE (Recursive Feature Elimination).\n",
    "- Saya akan mengubah variabel kategoris menjadi vektor biner.\n",
    "- Saya akan melakukan hal serupa dengan kerangka data.\n",
    "- Terakhir, Saya akan membuat kolom tambahan yang akan membantu Saya menghitung."
   ]
  },
  {
   "cell_type": "code",
   "execution_count": 37,
   "id": "dc7596ff",
   "metadata": {
    "execution": {
     "iopub.execute_input": "2024-07-16T17:27:11.760777Z",
     "iopub.status.busy": "2024-07-16T17:27:11.760419Z",
     "iopub.status.idle": "2024-07-16T17:27:11.764894Z",
     "shell.execute_reply": "2024-07-16T17:27:11.764112Z"
    },
    "papermill": {
     "duration": 0.035223,
     "end_time": "2024-07-16T17:27:11.766877",
     "exception": false,
     "start_time": "2024-07-16T17:27:11.731654",
     "status": "completed"
    },
    "tags": []
   },
   "outputs": [],
   "source": [
    "to_select = ['issue', 'company', 'received_days']"
   ]
  },
  {
   "cell_type": "code",
   "execution_count": 38,
   "id": "438e7fec",
   "metadata": {
    "execution": {
     "iopub.execute_input": "2024-07-16T17:27:11.824211Z",
     "iopub.status.busy": "2024-07-16T17:27:11.823216Z",
     "iopub.status.idle": "2024-07-16T17:27:11.829856Z",
     "shell.execute_reply": "2024-07-16T17:27:11.828974Z"
    },
    "papermill": {
     "duration": 0.037483,
     "end_time": "2024-07-16T17:27:11.831869",
     "exception": false,
     "start_time": "2024-07-16T17:27:11.794386",
     "status": "completed"
    },
    "tags": []
   },
   "outputs": [],
   "source": [
    "X = X[to_select]"
   ]
  },
  {
   "cell_type": "code",
   "execution_count": 39,
   "id": "f880a5b6",
   "metadata": {
    "execution": {
     "iopub.execute_input": "2024-07-16T17:27:11.887342Z",
     "iopub.status.busy": "2024-07-16T17:27:11.887050Z",
     "iopub.status.idle": "2024-07-16T17:27:13.411551Z",
     "shell.execute_reply": "2024-07-16T17:27:13.410539Z"
    },
    "papermill": {
     "duration": 1.554987,
     "end_time": "2024-07-16T17:27:13.414125",
     "exception": false,
     "start_time": "2024-07-16T17:27:11.859138",
     "status": "completed"
    },
    "tags": []
   },
   "outputs": [],
   "source": [
    "ohc = preprocessing.OneHotEncoder(sparse_output = False)\n",
    "X = ohc.fit_transform(X.values)"
   ]
  },
  {
   "cell_type": "code",
   "execution_count": 40,
   "id": "3c961003",
   "metadata": {
    "execution": {
     "iopub.execute_input": "2024-07-16T17:27:13.469993Z",
     "iopub.status.busy": "2024-07-16T17:27:13.469661Z",
     "iopub.status.idle": "2024-07-16T17:27:13.497812Z",
     "shell.execute_reply": "2024-07-16T17:27:13.496873Z"
    },
    "papermill": {
     "duration": 0.058188,
     "end_time": "2024-07-16T17:27:13.499976",
     "exception": false,
     "start_time": "2024-07-16T17:27:13.441788",
     "status": "completed"
    },
    "tags": []
   },
   "outputs": [],
   "source": [
    "df = df[to_select+[\"product\", \"date_received\", \"state\"]]"
   ]
  },
  {
   "cell_type": "code",
   "execution_count": 41,
   "id": "737bfcac",
   "metadata": {
    "execution": {
     "iopub.execute_input": "2024-07-16T17:27:13.555310Z",
     "iopub.status.busy": "2024-07-16T17:27:13.554983Z",
     "iopub.status.idle": "2024-07-16T17:27:13.560083Z",
     "shell.execute_reply": "2024-07-16T17:27:13.559214Z"
    },
    "papermill": {
     "duration": 0.034963,
     "end_time": "2024-07-16T17:27:13.562087",
     "exception": false,
     "start_time": "2024-07-16T17:27:13.527124",
     "status": "completed"
    },
    "tags": []
   },
   "outputs": [],
   "source": [
    "df[\"count\"] = 1"
   ]
  },
  {
   "cell_type": "markdown",
   "id": "715f5c97",
   "metadata": {
    "papermill": {
     "duration": 0.027218,
     "end_time": "2024-07-16T17:27:13.616564",
     "exception": false,
     "start_time": "2024-07-16T17:27:13.589346",
     "status": "completed"
    },
    "tags": []
   },
   "source": [
    "## Pemrosesan Respons\n",
    "- Saya menyimpan kolom target di target\n",
    "- Saya memverifikasi bahwa tidak ada nilai null dalam variabel respons.\n",
    "- Saya mengodekan variabel respons dan menyimpan transformasi dalam variabel y\n",
    "- Karena keterbatasan memori, Saya akan menghilangkan seri target."
   ]
  },
  {
   "cell_type": "code",
   "execution_count": 42,
   "id": "47435ecd",
   "metadata": {
    "execution": {
     "iopub.execute_input": "2024-07-16T17:27:13.671386Z",
     "iopub.status.busy": "2024-07-16T17:27:13.671110Z",
     "iopub.status.idle": "2024-07-16T17:27:13.675342Z",
     "shell.execute_reply": "2024-07-16T17:27:13.674569Z"
    },
    "papermill": {
     "duration": 0.03393,
     "end_time": "2024-07-16T17:27:13.677241",
     "exception": false,
     "start_time": "2024-07-16T17:27:13.643311",
     "status": "completed"
    },
    "tags": []
   },
   "outputs": [],
   "source": [
    "target = df[\"product\"]"
   ]
  },
  {
   "cell_type": "code",
   "execution_count": 43,
   "id": "2f5dda92",
   "metadata": {
    "execution": {
     "iopub.execute_input": "2024-07-16T17:27:13.731728Z",
     "iopub.status.busy": "2024-07-16T17:27:13.731460Z",
     "iopub.status.idle": "2024-07-16T17:27:13.751315Z",
     "shell.execute_reply": "2024-07-16T17:27:13.750468Z"
    },
    "papermill": {
     "duration": 0.049185,
     "end_time": "2024-07-16T17:27:13.753234",
     "exception": false,
     "start_time": "2024-07-16T17:27:13.704049",
     "status": "completed"
    },
    "tags": []
   },
   "outputs": [
    {
     "data": {
      "text/plain": [
       "0"
      ]
     },
     "execution_count": 43,
     "metadata": {},
     "output_type": "execute_result"
    }
   ],
   "source": [
    "target.isnull().sum()"
   ]
  },
  {
   "cell_type": "code",
   "execution_count": 44,
   "id": "126f80c7",
   "metadata": {
    "execution": {
     "iopub.execute_input": "2024-07-16T17:27:13.810748Z",
     "iopub.status.busy": "2024-07-16T17:27:13.809890Z",
     "iopub.status.idle": "2024-07-16T17:27:13.853923Z",
     "shell.execute_reply": "2024-07-16T17:27:13.852997Z"
    },
    "papermill": {
     "duration": 0.075623,
     "end_time": "2024-07-16T17:27:13.855948",
     "exception": false,
     "start_time": "2024-07-16T17:27:13.780325",
     "status": "completed"
    },
    "tags": []
   },
   "outputs": [],
   "source": [
    "encoder[\"product\"] = preprocessing.LabelEncoder()\n",
    "y = encoder[\"product\"].fit_transform(target)"
   ]
  },
  {
   "cell_type": "code",
   "execution_count": 45,
   "id": "53561d33",
   "metadata": {
    "execution": {
     "iopub.execute_input": "2024-07-16T17:27:13.912797Z",
     "iopub.status.busy": "2024-07-16T17:27:13.912405Z",
     "iopub.status.idle": "2024-07-16T17:27:13.916653Z",
     "shell.execute_reply": "2024-07-16T17:27:13.915897Z"
    },
    "papermill": {
     "duration": 0.035356,
     "end_time": "2024-07-16T17:27:13.919397",
     "exception": false,
     "start_time": "2024-07-16T17:27:13.884041",
     "status": "completed"
    },
    "tags": []
   },
   "outputs": [],
   "source": [
    "del target"
   ]
  },
  {
   "cell_type": "markdown",
   "id": "b236cbfa",
   "metadata": {
    "papermill": {
     "duration": 0.027735,
     "end_time": "2024-07-16T17:27:13.975213",
     "exception": false,
     "start_time": "2024-07-16T17:27:13.947478",
     "status": "completed"
    },
    "tags": []
   },
   "source": [
    "## Set Pelatihan dan Pengujian\n",
    "- Saya memisahkan matriks prediktor dan vektor respons ke dalam set pengujian dan pelatihan.\n",
    "- Karena keterbatasan memori, kami akan menghilangkan matriks X dan matriks y."
   ]
  },
  {
   "cell_type": "code",
   "execution_count": 46,
   "id": "e2a90141",
   "metadata": {
    "execution": {
     "iopub.execute_input": "2024-07-16T17:27:14.031567Z",
     "iopub.status.busy": "2024-07-16T17:27:14.030897Z",
     "iopub.status.idle": "2024-07-16T17:27:15.933794Z",
     "shell.execute_reply": "2024-07-16T17:27:15.932672Z"
    },
    "papermill": {
     "duration": 1.933536,
     "end_time": "2024-07-16T17:27:15.936087",
     "exception": false,
     "start_time": "2024-07-16T17:27:14.002551",
     "status": "completed"
    },
    "tags": []
   },
   "outputs": [],
   "source": [
    "X_train, X_test, y_train, y_test = train_test_split(X, y, test_size=0.20, random_state=42)"
   ]
  },
  {
   "cell_type": "code",
   "execution_count": 47,
   "id": "309498c4",
   "metadata": {
    "execution": {
     "iopub.execute_input": "2024-07-16T17:27:15.991556Z",
     "iopub.status.busy": "2024-07-16T17:27:15.991250Z",
     "iopub.status.idle": "2024-07-16T17:27:16.074257Z",
     "shell.execute_reply": "2024-07-16T17:27:16.073345Z"
    },
    "papermill": {
     "duration": 0.112754,
     "end_time": "2024-07-16T17:27:16.076266",
     "exception": false,
     "start_time": "2024-07-16T17:27:15.963512",
     "status": "completed"
    },
    "tags": []
   },
   "outputs": [],
   "source": [
    "del X"
   ]
  },
  {
   "cell_type": "code",
   "execution_count": 48,
   "id": "13e94c0e",
   "metadata": {
    "execution": {
     "iopub.execute_input": "2024-07-16T17:27:16.133487Z",
     "iopub.status.busy": "2024-07-16T17:27:16.133141Z",
     "iopub.status.idle": "2024-07-16T17:27:16.137220Z",
     "shell.execute_reply": "2024-07-16T17:27:16.136384Z"
    },
    "papermill": {
     "duration": 0.034911,
     "end_time": "2024-07-16T17:27:16.139132",
     "exception": false,
     "start_time": "2024-07-16T17:27:16.104221",
     "status": "completed"
    },
    "tags": []
   },
   "outputs": [],
   "source": [
    "del y"
   ]
  },
  {
   "cell_type": "markdown",
   "id": "7a98d5c0",
   "metadata": {
    "papermill": {
     "duration": 0.027718,
     "end_time": "2024-07-16T17:27:16.194371",
     "exception": false,
     "start_time": "2024-07-16T17:27:16.166653",
     "status": "completed"
    },
    "tags": []
   },
   "source": [
    "# Modeling "
   ]
  },
  {
   "cell_type": "markdown",
   "id": "ff5293c5",
   "metadata": {
    "papermill": {
     "duration": 0.02689,
     "end_time": "2024-07-16T17:27:16.248695",
     "exception": false,
     "start_time": "2024-07-16T17:27:16.221805",
     "status": "completed"
    },
    "tags": []
   },
   "source": [
    "## Persyaratan\n",
    "\n",
    "- Sajikan satu atau beberapa statistik deskriptif yang memberikan gambaran tentang perilaku data (dari waktu ke waktu, dalam ruang, dalam kedua dimensi; berdasarkan nama bank, jenis pengaduan, dll.)\n",
    "- Statistik harus disertai dengan penjelasan singkat yang masuk akal.\n",
    "- Sebagai bagian dari instruksi sebelumnya, buat satu atau beberapa visualisasi yang menurut Anda penting untuk memahami basis data.\n",
    "- Bersikaplah selektif, sehingga visualisasi Anda menceritakan kisah dengan data. Anda dapat menggunakan visualisasi dinamis (plotly, bokeh, dll.) atau yang statis (matplotlib, seaborn, plotnine, dll.)"
   ]
  },
  {
   "cell_type": "markdown",
   "id": "a46fc452",
   "metadata": {
    "papermill": {
     "duration": 0.026983,
     "end_time": "2024-07-16T17:27:16.303244",
     "exception": false,
     "start_time": "2024-07-16T17:27:16.276261",
     "status": "completed"
    },
    "tags": []
   },
   "source": [
    "### Keluhan Berdasarkan Lokasi\n",
    "\n",
    "Kita akan memvisualisasikan jumlah keluhan berdasarkan negara bagian. Seperti yang Anda lihat, California adalah negara bagian dengan keluhan terbanyak."
   ]
  },
  {
   "cell_type": "code",
   "execution_count": 49,
   "id": "a3c0b70e",
   "metadata": {
    "execution": {
     "iopub.execute_input": "2024-07-16T17:27:16.359491Z",
     "iopub.status.busy": "2024-07-16T17:27:16.358756Z",
     "iopub.status.idle": "2024-07-16T17:27:16.438070Z",
     "shell.execute_reply": "2024-07-16T17:27:16.437346Z"
    },
    "papermill": {
     "duration": 0.109688,
     "end_time": "2024-07-16T17:27:16.439967",
     "exception": false,
     "start_time": "2024-07-16T17:27:16.330279",
     "status": "completed"
    },
    "tags": []
   },
   "outputs": [],
   "source": [
    "states = df.groupby([\"state\"]).count()[[\"issue\"]]"
   ]
  },
  {
   "cell_type": "code",
   "execution_count": 50,
   "id": "55c33254",
   "metadata": {
    "execution": {
     "iopub.execute_input": "2024-07-16T17:27:16.495439Z",
     "iopub.status.busy": "2024-07-16T17:27:16.495169Z",
     "iopub.status.idle": "2024-07-16T17:27:16.502820Z",
     "shell.execute_reply": "2024-07-16T17:27:16.501950Z"
    },
    "papermill": {
     "duration": 0.037611,
     "end_time": "2024-07-16T17:27:16.504795",
     "exception": false,
     "start_time": "2024-07-16T17:27:16.467184",
     "status": "completed"
    },
    "tags": []
   },
   "outputs": [
    {
     "data": {
      "text/plain": [
       "state\n",
       "AA       2\n",
       "AE      65\n",
       "AK     185\n",
       "AL    1682\n",
       "AP      45\n",
       "      ... \n",
       "VT     218\n",
       "WA    3078\n",
       "WI    1616\n",
       "WV     394\n",
       "WY     139\n",
       "Name: issue, Length: 62, dtype: int64"
      ]
     },
     "execution_count": 50,
     "metadata": {},
     "output_type": "execute_result"
    }
   ],
   "source": [
    "states[\"issue\"]"
   ]
  },
  {
   "cell_type": "code",
   "execution_count": 51,
   "id": "fa492887",
   "metadata": {
    "execution": {
     "iopub.execute_input": "2024-07-16T17:27:16.560075Z",
     "iopub.status.busy": "2024-07-16T17:27:16.559781Z",
     "iopub.status.idle": "2024-07-16T17:27:17.982636Z",
     "shell.execute_reply": "2024-07-16T17:27:17.981713Z"
    },
    "papermill": {
     "duration": 1.45296,
     "end_time": "2024-07-16T17:27:17.984703",
     "exception": false,
     "start_time": "2024-07-16T17:27:16.531743",
     "status": "completed"
    },
    "tags": []
   },
   "outputs": [],
   "source": [
    "scl = [[0.0, 'rgb(242,240,247)'],\n",
    "       [0.2, 'rgb(218,218,235)'],\n",
    "       [0.4, 'rgb(188,189,220)'],\n",
    "       [0.6, 'rgb(158,154,200)'],\n",
    "       [0.8, 'rgb(117,107,177)'],\n",
    "       [1.0, 'rgb(84,39,143)']]\n",
    "\n",
    "data = [dict(\n",
    "        type='choropleth',\n",
    "        colorscale=scl,\n",
    "        autocolorscale=False,\n",
    "        locations=states.index,  # Lokasi negara bagian (AS) diubah sesuai data\n",
    "        z=states['issue'].astype(float),  # Nilai yang diplot pada peta\n",
    "        locationmode='USA-states',  # Menggunakan mode AS\n",
    "        marker=dict(\n",
    "            line=dict(\n",
    "                color='rgb(255,255,255)',  # Warna garis pembatas\n",
    "                width=2\n",
    "            )\n",
    "        ),\n",
    "        colorbar=dict(\n",
    "            title=\"Number of Complaints\"  # Mengubah \"Número de quejas\" menjadi \"Number of Complaints\"\n",
    "        )\n",
    "    )]\n",
    "\n",
    "layout = dict(\n",
    "    title='Complaints by State',  # Mengubah \"Quejas por estado\" menjadi \"Complaints by State\"\n",
    "    geo=dict(\n",
    "        scope='usa',  # Mengatur cakupan ke Amerika Serikat\n",
    "        projection=dict(type='albers usa'),  # Proyeksi Albers khusus USA\n",
    "        showlakes=True,  # Menampilkan danau di peta\n",
    "        lakecolor='rgb(255, 255, 255)',  # Warna untuk danau\n",
    "    ),\n",
    ")\n",
    "\n",
    "fig = dict(data=data, layout=layout)\n",
    "\n",
    "# url = py.iplot(fig, filename='d3-choropleth-map.html')  # Nama file output juga diganti agar lebih deskriptif\n"
   ]
  },
  {
   "cell_type": "markdown",
   "id": "b33834cc",
   "metadata": {
    "papermill": {
     "duration": 0.02752,
     "end_time": "2024-07-16T17:27:18.040137",
     "exception": false,
     "start_time": "2024-07-16T17:27:18.012617",
     "status": "completed"
    },
    "tags": []
   },
   "source": [
    "### Keluhan Seiring Waktu\n",
    "\n",
    "- Pertama, mari kita amati distribusi keluhan seiring waktu.\n",
    "- Kemudian kita akan menganalisis perilaku temporal keluhan menggunakan deret waktu. Untuk mengadaptasinya ke data kita.\n",
    "- Kita akan memotong data hingga 31 Oktober 2016, karena informasi untuk November tidak lengkap, dan kita tidak memiliki data setelah bulan ini.\n",
    "- Kita mengelompokkan data berdasarkan tanggal; kita menghitung keluhan per hari dan mengambil sampel ulang berdasarkan bulan.\n",
    "- Kita akan memvisualisasikan deret waktu\n",
    "- Kita mencari parameter optimal untuk model SARIMAX kita\n",
    "- Terakhir, kita memvisualisasikan prakiraan vs data aktual untuk tahun 2016"
   ]
  },
  {
   "cell_type": "code",
   "execution_count": 52,
   "id": "04be706d",
   "metadata": {
    "execution": {
     "iopub.execute_input": "2024-07-16T17:27:18.096294Z",
     "iopub.status.busy": "2024-07-16T17:27:18.095978Z",
     "iopub.status.idle": "2024-07-16T17:27:19.906250Z",
     "shell.execute_reply": "2024-07-16T17:27:19.905335Z"
    },
    "papermill": {
     "duration": 1.840969,
     "end_time": "2024-07-16T17:27:19.908661",
     "exception": false,
     "start_time": "2024-07-16T17:27:18.067692",
     "status": "completed"
    },
    "tags": []
   },
   "outputs": [
    {
     "data": {
      "text/plain": [
       "<Axes: xlabel='date_received', ylabel='Density'>"
      ]
     },
     "execution_count": 52,
     "metadata": {},
     "output_type": "execute_result"
    },
    {
     "data": {
      "image/png": "[encoded data removed]",
      "text/plain": [
       "<Figure size 640x480 with 1 Axes>"
      ]
     },
     "metadata": {},
     "output_type": "display_data"
    }
   ],
   "source": [
    "sns.kdeplot(df[\"date_received\"])"
   ]
  },
  {
   "cell_type": "code",
   "execution_count": 53,
   "id": "982b5866",
   "metadata": {
    "execution": {
     "iopub.execute_input": "2024-07-16T17:27:19.971405Z",
     "iopub.status.busy": "2024-07-16T17:27:19.971056Z",
     "iopub.status.idle": "2024-07-16T17:27:19.977024Z",
     "shell.execute_reply": "2024-07-16T17:27:19.976093Z"
    },
    "papermill": {
     "duration": 0.041214,
     "end_time": "2024-07-16T17:27:19.979099",
     "exception": false,
     "start_time": "2024-07-16T17:27:19.937885",
     "status": "completed"
    },
    "tags": []
   },
   "outputs": [],
   "source": [
    "top_date = pd.to_datetime('2016-10-31')"
   ]
  },
  {
   "cell_type": "code",
   "execution_count": 54,
   "id": "27d535f1",
   "metadata": {
    "execution": {
     "iopub.execute_input": "2024-07-16T17:27:20.038090Z",
     "iopub.status.busy": "2024-07-16T17:27:20.037281Z",
     "iopub.status.idle": "2024-07-16T17:27:20.065248Z",
     "shell.execute_reply": "2024-07-16T17:27:20.064306Z"
    },
    "papermill": {
     "duration": 0.059361,
     "end_time": "2024-07-16T17:27:20.067146",
     "exception": false,
     "start_time": "2024-07-16T17:27:20.007785",
     "status": "completed"
    },
    "tags": []
   },
   "outputs": [
    {
     "data": {
      "text/html": [
       "<div>\n",
       "<style scoped>\n",
       "    .dataframe tbody tr th:only-of-type {\n",
       "        vertical-align: middle;\n",
       "    }\n",
       "\n",
       "    .dataframe tbody tr th {\n",
       "        vertical-align: top;\n",
       "    }\n",
       "\n",
       "    .dataframe thead th {\n",
       "        text-align: right;\n",
       "    }\n",
       "</style>\n",
       "<table border=\"1\" class=\"dataframe\">\n",
       "  <thead>\n",
       "    <tr style=\"text-align: right;\">\n",
       "      <th></th>\n",
       "      <th>count</th>\n",
       "    </tr>\n",
       "    <tr>\n",
       "      <th>date_received</th>\n",
       "      <th></th>\n",
       "    </tr>\n",
       "  </thead>\n",
       "  <tbody>\n",
       "    <tr>\n",
       "      <th>2016-06-01</th>\n",
       "      <td>2338</td>\n",
       "    </tr>\n",
       "    <tr>\n",
       "      <th>2016-07-01</th>\n",
       "      <td>2414</td>\n",
       "    </tr>\n",
       "    <tr>\n",
       "      <th>2016-08-01</th>\n",
       "      <td>2681</td>\n",
       "    </tr>\n",
       "    <tr>\n",
       "      <th>2016-09-01</th>\n",
       "      <td>2661</td>\n",
       "    </tr>\n",
       "    <tr>\n",
       "      <th>2016-10-01</th>\n",
       "      <td>2696</td>\n",
       "    </tr>\n",
       "  </tbody>\n",
       "</table>\n",
       "</div>"
      ],
      "text/plain": [
       "               count\n",
       "date_received       \n",
       "2016-06-01      2338\n",
       "2016-07-01      2414\n",
       "2016-08-01      2681\n",
       "2016-09-01      2661\n",
       "2016-10-01      2696"
      ]
     },
     "execution_count": 54,
     "metadata": {},
     "output_type": "execute_result"
    }
   ],
   "source": [
    "ts = df[[\"date_received\", \"count\"]].groupby(\"date_received\").sum()[:top_date].resample(\"MS\").sum()\n",
    "ts.tail()"
   ]
  },
  {
   "cell_type": "code",
   "execution_count": 55,
   "id": "f343a623",
   "metadata": {
    "execution": {
     "iopub.execute_input": "2024-07-16T17:27:20.125339Z",
     "iopub.status.busy": "2024-07-16T17:27:20.125038Z",
     "iopub.status.idle": "2024-07-16T17:27:20.386398Z",
     "shell.execute_reply": "2024-07-16T17:27:20.385473Z"
    },
    "papermill": {
     "duration": 0.29293,
     "end_time": "2024-07-16T17:27:20.388640",
     "exception": false,
     "start_time": "2024-07-16T17:27:20.095710",
     "status": "completed"
    },
    "tags": []
   },
   "outputs": [
    {
     "data": {
      "image/png": "[encoded data removed]",
      "text/plain": [
       "<Figure size 1500x600 with 1 Axes>"
      ]
     },
     "metadata": {},
     "output_type": "display_data"
    }
   ],
   "source": [
    "ts.plot(figsize=(15, 6))\n",
    "plt.show()"
   ]
  },
  {
   "cell_type": "code",
   "execution_count": 56,
   "id": "313a23ea",
   "metadata": {
    "execution": {
     "iopub.execute_input": "2024-07-16T17:27:20.449477Z",
     "iopub.status.busy": "2024-07-16T17:27:20.449173Z",
     "iopub.status.idle": "2024-07-16T17:27:27.385625Z",
     "shell.execute_reply": "2024-07-16T17:27:27.384684Z"
    },
    "papermill": {
     "duration": 6.969551,
     "end_time": "2024-07-16T17:27:27.388447",
     "exception": false,
     "start_time": "2024-07-16T17:27:20.418896",
     "status": "completed"
    },
    "tags": []
   },
   "outputs": [],
   "source": [
    "warnings.filterwarnings(\"ignore\")\n",
    "\n",
    "p = d = q = range(0, 2)\n",
    "pdq = list(itertools.product(p, d, q))\n",
    "seasonal_pdq = [(x[0], x[1], x[2], 12) for x in list(itertools.product(p, d, q))]\n",
    "\n",
    "opt_param = None\n",
    "opt_param_seasonal = None\n",
    "opt_results = None\n",
    "opt_aic = np.inf\n",
    "\n",
    "for param in pdq:\n",
    "    for param_seasonal in seasonal_pdq:\n",
    "        try:\n",
    "            mod = sm.tsa.statespace.SARIMAX(ts,\n",
    "                                            order=param,\n",
    "                                            seasonal_order=param_seasonal,\n",
    "                                            enforce_stationarity=False,\n",
    "                                            enforce_invertibility=False)\n",
    "            results = mod.fit(disp=False)\n",
    "            if results.aic < opt_aic:\n",
    "                opt_param = param\n",
    "                opt_param_seasonal = param_seasonal\n",
    "                opt_results = results\n",
    "                opt_aic = results.aic\n",
    "        except:\n",
    "            continue"
   ]
  },
  {
   "cell_type": "code",
   "execution_count": 57,
   "id": "e98fba70",
   "metadata": {
    "execution": {
     "iopub.execute_input": "2024-07-16T17:27:27.451776Z",
     "iopub.status.busy": "2024-07-16T17:27:27.450873Z",
     "iopub.status.idle": "2024-07-16T17:27:27.810928Z",
     "shell.execute_reply": "2024-07-16T17:27:27.810000Z"
    },
    "papermill": {
     "duration": 0.392952,
     "end_time": "2024-07-16T17:27:27.812888",
     "exception": false,
     "start_time": "2024-07-16T17:27:27.419936",
     "status": "completed"
    },
    "tags": []
   },
   "outputs": [
    {
     "data": {
      "image/png": "[encoded data removed]",
      "text/plain": [
       "<Figure size 1400x700 with 1 Axes>"
      ]
     },
     "metadata": {},
     "output_type": "display_data"
    }
   ],
   "source": [
    "pred = opt_results.get_prediction(start=pd.to_datetime('2016-01-01'), dynamic=False)\n",
    "pred_ci = pred.conf_int()\n",
    "ax = ts['2012':].plot(label='observed')\n",
    "pred.predicted_mean.plot(ax=ax, label='One-step ahead Forecast', alpha=.7, figsize=(14, 7))\n",
    "ax.fill_between(pred_ci.index,pred_ci.iloc[:, 0],pred_ci.iloc[:, 1], color='k', alpha=.2)\n",
    "ax.set_xlabel('Fecha')\n",
    "ax.set_ylabel('Número de quejas')\n",
    "plt.legend()\n",
    "plt.show()"
   ]
  },
  {
   "cell_type": "markdown",
   "id": "f4322853",
   "metadata": {
    "papermill": {
     "duration": 0.030232,
     "end_time": "2024-07-16T17:27:27.874909",
     "exception": false,
     "start_time": "2024-07-16T17:27:27.844677",
     "status": "completed"
    },
    "tags": []
   },
   "source": [
    "## Frekuensi Keluhan Berdasarkan Bank\n",
    "Gunakan algoritma \"edit-distance\" atau algoritma lain yang Anda anggap relevan, normalkan nama-nama bank dan buat diagram batang yang menunjukkan frekuensi keluhan berdasarkan bank."
   ]
  },
  {
   "cell_type": "markdown",
   "id": "a408c6d9",
   "metadata": {
    "papermill": {
     "duration": 0.030606,
     "end_time": "2024-07-16T17:27:27.935922",
     "exception": false,
     "start_time": "2024-07-16T17:27:27.905316",
     "status": "completed"
    },
    "tags": []
   },
   "source": [
    "### Top 10 Complaints by Product"
   ]
  },
  {
   "cell_type": "code",
   "execution_count": 58,
   "id": "43fa5a99",
   "metadata": {
    "execution": {
     "iopub.execute_input": "2024-07-16T17:27:28.001202Z",
     "iopub.status.busy": "2024-07-16T17:27:28.000338Z",
     "iopub.status.idle": "2024-07-16T17:27:28.330862Z",
     "shell.execute_reply": "2024-07-16T17:27:28.329930Z"
    },
    "papermill": {
     "duration": 0.366365,
     "end_time": "2024-07-16T17:27:28.333061",
     "exception": false,
     "start_time": "2024-07-16T17:27:27.966696",
     "status": "completed"
    },
    "tags": []
   },
   "outputs": [
    {
     "data": {
      "image/png": "[encoded data removed]",
      "text/plain": [
       "<Figure size 640x480 with 1 Axes>"
      ]
     },
     "metadata": {},
     "output_type": "display_data"
    }
   ],
   "source": [
    "counter = Counter(df[\"product\"])\n",
    "top10_productos = OrderedDict(counter.most_common(10))\n",
    "plt.bar(list(top10_productos.keys()), list(top10_productos.values()))\n",
    "plt.xticks(rotation=90)\n",
    "plt.show()"
   ]
  },
  {
   "cell_type": "markdown",
   "id": "7c3469aa",
   "metadata": {
    "papermill": {
     "duration": 0.030965,
     "end_time": "2024-07-16T17:27:28.396428",
     "exception": false,
     "start_time": "2024-07-16T17:27:28.365463",
     "status": "completed"
    },
    "tags": []
   },
   "source": [
    "### 10 keluhan teratas oleh bank"
   ]
  },
  {
   "cell_type": "code",
   "execution_count": 59,
   "id": "8c9941da",
   "metadata": {
    "execution": {
     "iopub.execute_input": "2024-07-16T17:27:28.459643Z",
     "iopub.status.busy": "2024-07-16T17:27:28.459327Z",
     "iopub.status.idle": "2024-07-16T17:27:28.700837Z",
     "shell.execute_reply": "2024-07-16T17:27:28.699992Z"
    },
    "papermill": {
     "duration": 0.275948,
     "end_time": "2024-07-16T17:27:28.703196",
     "exception": false,
     "start_time": "2024-07-16T17:27:28.427248",
     "status": "completed"
    },
    "tags": []
   },
   "outputs": [
    {
     "data": {
      "image/png": "[encoded data removed]",
      "text/plain": [
       "<Figure size 640x480 with 1 Axes>"
      ]
     },
     "metadata": {},
     "output_type": "display_data"
    },
    {
     "data": {
      "text/plain": [
       "odict_keys(['equifax_inc', 'bank_america_national_association', 'experian_information_solutions_inc', 'transunion_intermediate_holdings_inc', 'wells_fargo_company', 'jpmorgan_chase_co', 'citibank_na', 'capital_one_financial_corporation', 'ocwen_loan_servicing_llc', 'navient_solutions_llc'])"
      ]
     },
     "execution_count": 59,
     "metadata": {},
     "output_type": "execute_result"
    }
   ],
   "source": [
    "counter = Counter(df[\"company\"])\n",
    "top10_bancos = OrderedDict(counter.most_common(10))\n",
    "plt.bar(list(top10_bancos.keys()), list(top10_bancos.values()))\n",
    "plt.xticks(rotation=90)\n",
    "plt.show()\n",
    "top10_bancos.keys()"
   ]
  },
  {
   "cell_type": "markdown",
   "id": "b47567c1",
   "metadata": {
    "papermill": {
     "duration": 0.032864,
     "end_time": "2024-07-16T17:27:28.769530",
     "exception": false,
     "start_time": "2024-07-16T17:27:28.736666",
     "status": "completed"
    },
    "tags": []
   },
   "source": [
    "### 10 keluhan teratas menurut bank/produk"
   ]
  },
  {
   "cell_type": "code",
   "execution_count": 60,
   "id": "50c7f201",
   "metadata": {
    "execution": {
     "iopub.execute_input": "2024-07-16T17:27:28.836927Z",
     "iopub.status.busy": "2024-07-16T17:27:28.836271Z",
     "iopub.status.idle": "2024-07-16T17:27:28.922696Z",
     "shell.execute_reply": "2024-07-16T17:27:28.921661Z"
    },
    "papermill": {
     "duration": 0.122571,
     "end_time": "2024-07-16T17:27:28.924920",
     "exception": false,
     "start_time": "2024-07-16T17:27:28.802349",
     "status": "completed"
    },
    "tags": []
   },
   "outputs": [
    {
     "data": {
      "text/html": [
       "<div>\n",
       "<style scoped>\n",
       "    .dataframe tbody tr th:only-of-type {\n",
       "        vertical-align: middle;\n",
       "    }\n",
       "\n",
       "    .dataframe tbody tr th {\n",
       "        vertical-align: top;\n",
       "    }\n",
       "\n",
       "    .dataframe thead th {\n",
       "        text-align: right;\n",
       "    }\n",
       "</style>\n",
       "<table border=\"1\" class=\"dataframe\">\n",
       "  <thead>\n",
       "    <tr style=\"text-align: right;\">\n",
       "      <th></th>\n",
       "      <th></th>\n",
       "      <th>count</th>\n",
       "    </tr>\n",
       "    <tr>\n",
       "      <th>company</th>\n",
       "      <th>product</th>\n",
       "      <th></th>\n",
       "    </tr>\n",
       "  </thead>\n",
       "  <tbody>\n",
       "    <tr>\n",
       "      <th>equifax_inc</th>\n",
       "      <th>Credit reporting</th>\n",
       "      <td>7231</td>\n",
       "    </tr>\n",
       "    <tr>\n",
       "      <th>experian_information_solutions_inc</th>\n",
       "      <th>Credit reporting</th>\n",
       "      <td>6822</td>\n",
       "    </tr>\n",
       "    <tr>\n",
       "      <th>bank_america_national_association</th>\n",
       "      <th>Mortgage</th>\n",
       "      <td>6228</td>\n",
       "    </tr>\n",
       "    <tr>\n",
       "      <th>transunion_intermediate_holdings_inc</th>\n",
       "      <th>Credit reporting</th>\n",
       "      <td>6004</td>\n",
       "    </tr>\n",
       "    <tr>\n",
       "      <th>equifax_inc</th>\n",
       "      <th>Credit reporting, credit repair services, or other personal consumer reports</th>\n",
       "      <td>5269</td>\n",
       "    </tr>\n",
       "    <tr>\n",
       "      <th>wells_fargo_company</th>\n",
       "      <th>Mortgage</th>\n",
       "      <td>5088</td>\n",
       "    </tr>\n",
       "    <tr>\n",
       "      <th>experian_information_solutions_inc</th>\n",
       "      <th>Credit reporting, credit repair services, or other personal consumer reports</th>\n",
       "      <td>3929</td>\n",
       "    </tr>\n",
       "    <tr>\n",
       "      <th>transunion_intermediate_holdings_inc</th>\n",
       "      <th>Credit reporting, credit repair services, or other personal consumer reports</th>\n",
       "      <td>3831</td>\n",
       "    </tr>\n",
       "    <tr>\n",
       "      <th>ocwen_loan_servicing_llc</th>\n",
       "      <th>Mortgage</th>\n",
       "      <td>3786</td>\n",
       "    </tr>\n",
       "    <tr>\n",
       "      <th>navient_solutions_llc</th>\n",
       "      <th>Student loan</th>\n",
       "      <td>3226</td>\n",
       "    </tr>\n",
       "  </tbody>\n",
       "</table>\n",
       "</div>"
      ],
      "text/plain": [
       "                                                                                         count\n",
       "company                              product                                                  \n",
       "equifax_inc                          Credit reporting                                     7231\n",
       "experian_information_solutions_inc   Credit reporting                                     6822\n",
       "bank_america_national_association    Mortgage                                             6228\n",
       "transunion_intermediate_holdings_inc Credit reporting                                     6004\n",
       "equifax_inc                          Credit reporting, credit repair services, or ot...   5269\n",
       "wells_fargo_company                  Mortgage                                             5088\n",
       "experian_information_solutions_inc   Credit reporting, credit repair services, or ot...   3929\n",
       "transunion_intermediate_holdings_inc Credit reporting, credit repair services, or ot...   3831\n",
       "ocwen_loan_servicing_llc             Mortgage                                             3786\n",
       "navient_solutions_llc                Student loan                                         3226"
      ]
     },
     "execution_count": 60,
     "metadata": {},
     "output_type": "execute_result"
    }
   ],
   "source": [
    "df.groupby([\"company\", \"product\"]).count()[[\"count\"]].sort_values(by=[\"count\"], ascending=False).head(n = 10)"
   ]
  },
  {
   "cell_type": "markdown",
   "id": "02812d44",
   "metadata": {
    "papermill": {
     "duration": 0.033608,
     "end_time": "2024-07-16T17:27:28.991821",
     "exception": false,
     "start_time": "2024-07-16T17:27:28.958213",
     "status": "completed"
    },
    "tags": []
   },
   "source": [
    "## Topik yang berulang\n",
    "Topik apa saja yang dibahas dalam pengaduan?"
   ]
  },
  {
   "cell_type": "markdown",
   "id": "907a6761",
   "metadata": {
    "papermill": {
     "duration": 0.032138,
     "end_time": "2024-07-16T17:27:29.056645",
     "exception": false,
     "start_time": "2024-07-16T17:27:29.024507",
     "status": "completed"
    },
    "tags": []
   },
   "source": [
    "### Sepuluh keluhan teratas berdasarkan subjek"
   ]
  },
  {
   "cell_type": "code",
   "execution_count": 61,
   "id": "338a54d9",
   "metadata": {
    "execution": {
     "iopub.execute_input": "2024-07-16T17:27:29.123109Z",
     "iopub.status.busy": "2024-07-16T17:27:29.122492Z",
     "iopub.status.idle": "2024-07-16T17:27:29.156359Z",
     "shell.execute_reply": "2024-07-16T17:27:29.155458Z"
    },
    "papermill": {
     "duration": 0.069365,
     "end_time": "2024-07-16T17:27:29.158265",
     "exception": false,
     "start_time": "2024-07-16T17:27:29.088900",
     "status": "completed"
    },
    "tags": []
   },
   "outputs": [
    {
     "data": {
      "text/html": [
       "<div>\n",
       "<style scoped>\n",
       "    .dataframe tbody tr th:only-of-type {\n",
       "        vertical-align: middle;\n",
       "    }\n",
       "\n",
       "    .dataframe tbody tr th {\n",
       "        vertical-align: top;\n",
       "    }\n",
       "\n",
       "    .dataframe thead th {\n",
       "        text-align: right;\n",
       "    }\n",
       "</style>\n",
       "<table border=\"1\" class=\"dataframe\">\n",
       "  <thead>\n",
       "    <tr style=\"text-align: right;\">\n",
       "      <th></th>\n",
       "      <th>count</th>\n",
       "    </tr>\n",
       "    <tr>\n",
       "      <th>issue</th>\n",
       "      <th></th>\n",
       "    </tr>\n",
       "  </thead>\n",
       "  <tbody>\n",
       "    <tr>\n",
       "      <th>Loan modification,collection,foreclosure</th>\n",
       "      <td>17018</td>\n",
       "    </tr>\n",
       "    <tr>\n",
       "      <th>Incorrect information on credit report</th>\n",
       "      <td>15391</td>\n",
       "    </tr>\n",
       "    <tr>\n",
       "      <th>Loan servicing, payments, escrow account</th>\n",
       "      <td>11480</td>\n",
       "    </tr>\n",
       "    <tr>\n",
       "      <th>Incorrect information on your report</th>\n",
       "      <td>9164</td>\n",
       "    </tr>\n",
       "    <tr>\n",
       "      <th>Cont'd attempts collect debt not owed</th>\n",
       "      <td>9110</td>\n",
       "    </tr>\n",
       "    <tr>\n",
       "      <th>Account opening, closing, or management</th>\n",
       "      <td>5622</td>\n",
       "    </tr>\n",
       "    <tr>\n",
       "      <th>Disclosure verification of debt</th>\n",
       "      <td>4643</td>\n",
       "    </tr>\n",
       "    <tr>\n",
       "      <th>Communication tactics</th>\n",
       "      <td>4459</td>\n",
       "    </tr>\n",
       "    <tr>\n",
       "      <th>Problem with a credit reporting company's investigation into an existing problem</th>\n",
       "      <td>3695</td>\n",
       "    </tr>\n",
       "    <tr>\n",
       "      <th>Deposits and withdrawals</th>\n",
       "      <td>3376</td>\n",
       "    </tr>\n",
       "  </tbody>\n",
       "</table>\n",
       "</div>"
      ],
      "text/plain": [
       "                                                    count\n",
       "issue                                                    \n",
       "Loan modification,collection,foreclosure            17018\n",
       "Incorrect information on credit report              15391\n",
       "Loan servicing, payments, escrow account            11480\n",
       "Incorrect information on your report                 9164\n",
       "Cont'd attempts collect debt not owed                9110\n",
       "Account opening, closing, or management              5622\n",
       "Disclosure verification of debt                      4643\n",
       "Communication tactics                                4459\n",
       "Problem with a credit reporting company's inves...   3695\n",
       "Deposits and withdrawals                             3376"
      ]
     },
     "execution_count": 61,
     "metadata": {},
     "output_type": "execute_result"
    }
   ],
   "source": [
    "df[[\"issue\", \"count\"]].groupby([\"issue\"]).count().sort_values(by=[\"count\"], ascending=False).head(n=10)"
   ]
  },
  {
   "cell_type": "markdown",
   "id": "bd89bcce",
   "metadata": {
    "papermill": {
     "duration": 0.032278,
     "end_time": "2024-07-16T17:27:29.223470",
     "exception": false,
     "start_time": "2024-07-16T17:27:29.191192",
     "status": "completed"
    },
    "tags": []
   },
   "source": [
    "### Keluhan berdasarkan bank/masalah"
   ]
  },
  {
   "cell_type": "code",
   "execution_count": 62,
   "id": "0ffc72bb",
   "metadata": {
    "execution": {
     "iopub.execute_input": "2024-07-16T17:27:29.289756Z",
     "iopub.status.busy": "2024-07-16T17:27:29.289454Z",
     "iopub.status.idle": "2024-07-16T17:27:29.372203Z",
     "shell.execute_reply": "2024-07-16T17:27:29.371204Z"
    },
    "papermill": {
     "duration": 0.118166,
     "end_time": "2024-07-16T17:27:29.374410",
     "exception": false,
     "start_time": "2024-07-16T17:27:29.256244",
     "status": "completed"
    },
    "tags": []
   },
   "outputs": [
    {
     "data": {
      "text/html": [
       "<div>\n",
       "<style scoped>\n",
       "    .dataframe tbody tr th:only-of-type {\n",
       "        vertical-align: middle;\n",
       "    }\n",
       "\n",
       "    .dataframe tbody tr th {\n",
       "        vertical-align: top;\n",
       "    }\n",
       "\n",
       "    .dataframe thead th {\n",
       "        text-align: right;\n",
       "    }\n",
       "</style>\n",
       "<table border=\"1\" class=\"dataframe\">\n",
       "  <thead>\n",
       "    <tr style=\"text-align: right;\">\n",
       "      <th>issue</th>\n",
       "      <th>APR or interest rate</th>\n",
       "      <th>Account opening, closing, or management</th>\n",
       "      <th>Account terms and changes</th>\n",
       "      <th>Adding money</th>\n",
       "      <th>Advertising</th>\n",
       "      <th>Advertising and marketing</th>\n",
       "      <th>Advertising and marketing, including promotional offers</th>\n",
       "      <th>Advertising, marketing or disclosures</th>\n",
       "      <th>Application processing delay</th>\n",
       "      <th>Application, originator, mortgage broker</th>\n",
       "      <th>...</th>\n",
       "      <th>Unauthorized transactions/trans. issues</th>\n",
       "      <th>Unexpected or other fees</th>\n",
       "      <th>Unexpected/Other fees</th>\n",
       "      <th>Unsolicited issuance of credit card</th>\n",
       "      <th>Using a debit or ATM card</th>\n",
       "      <th>Vehicle was damaged or destroyed the vehicle</th>\n",
       "      <th>Vehicle was repossessed or sold the vehicle</th>\n",
       "      <th>Was approved for a loan, but didn't receive the money</th>\n",
       "      <th>Written notification about debt</th>\n",
       "      <th>Wrong amount charged or received</th>\n",
       "    </tr>\n",
       "    <tr>\n",
       "      <th>company</th>\n",
       "      <th></th>\n",
       "      <th></th>\n",
       "      <th></th>\n",
       "      <th></th>\n",
       "      <th></th>\n",
       "      <th></th>\n",
       "      <th></th>\n",
       "      <th></th>\n",
       "      <th></th>\n",
       "      <th></th>\n",
       "      <th></th>\n",
       "      <th></th>\n",
       "      <th></th>\n",
       "      <th></th>\n",
       "      <th></th>\n",
       "      <th></th>\n",
       "      <th></th>\n",
       "      <th></th>\n",
       "      <th></th>\n",
       "      <th></th>\n",
       "      <th></th>\n",
       "    </tr>\n",
       "  </thead>\n",
       "  <tbody>\n",
       "    <tr>\n",
       "      <th>1st_alliance_lending_llc</th>\n",
       "      <td>0</td>\n",
       "      <td>0</td>\n",
       "      <td>0</td>\n",
       "      <td>0</td>\n",
       "      <td>0</td>\n",
       "      <td>0</td>\n",
       "      <td>0</td>\n",
       "      <td>0</td>\n",
       "      <td>0</td>\n",
       "      <td>0</td>\n",
       "      <td>...</td>\n",
       "      <td>0</td>\n",
       "      <td>0</td>\n",
       "      <td>0</td>\n",
       "      <td>0</td>\n",
       "      <td>0</td>\n",
       "      <td>0</td>\n",
       "      <td>0</td>\n",
       "      <td>0</td>\n",
       "      <td>0</td>\n",
       "      <td>0</td>\n",
       "    </tr>\n",
       "    <tr>\n",
       "      <th>1st_fidelity_loan_servicing</th>\n",
       "      <td>0</td>\n",
       "      <td>0</td>\n",
       "      <td>0</td>\n",
       "      <td>0</td>\n",
       "      <td>0</td>\n",
       "      <td>0</td>\n",
       "      <td>0</td>\n",
       "      <td>0</td>\n",
       "      <td>0</td>\n",
       "      <td>0</td>\n",
       "      <td>...</td>\n",
       "      <td>0</td>\n",
       "      <td>0</td>\n",
       "      <td>0</td>\n",
       "      <td>0</td>\n",
       "      <td>0</td>\n",
       "      <td>0</td>\n",
       "      <td>0</td>\n",
       "      <td>0</td>\n",
       "      <td>0</td>\n",
       "      <td>0</td>\n",
       "    </tr>\n",
       "    <tr>\n",
       "      <th>1st_financial_inc</th>\n",
       "      <td>0</td>\n",
       "      <td>0</td>\n",
       "      <td>0</td>\n",
       "      <td>0</td>\n",
       "      <td>0</td>\n",
       "      <td>0</td>\n",
       "      <td>0</td>\n",
       "      <td>0</td>\n",
       "      <td>0</td>\n",
       "      <td>0</td>\n",
       "      <td>...</td>\n",
       "      <td>0</td>\n",
       "      <td>0</td>\n",
       "      <td>0</td>\n",
       "      <td>0</td>\n",
       "      <td>0</td>\n",
       "      <td>0</td>\n",
       "      <td>0</td>\n",
       "      <td>0</td>\n",
       "      <td>0</td>\n",
       "      <td>0</td>\n",
       "    </tr>\n",
       "    <tr>\n",
       "      <th>1st_franklin_financial_corporation</th>\n",
       "      <td>0</td>\n",
       "      <td>1</td>\n",
       "      <td>0</td>\n",
       "      <td>0</td>\n",
       "      <td>0</td>\n",
       "      <td>0</td>\n",
       "      <td>0</td>\n",
       "      <td>0</td>\n",
       "      <td>0</td>\n",
       "      <td>0</td>\n",
       "      <td>...</td>\n",
       "      <td>0</td>\n",
       "      <td>0</td>\n",
       "      <td>0</td>\n",
       "      <td>0</td>\n",
       "      <td>0</td>\n",
       "      <td>0</td>\n",
       "      <td>0</td>\n",
       "      <td>0</td>\n",
       "      <td>0</td>\n",
       "      <td>0</td>\n",
       "    </tr>\n",
       "    <tr>\n",
       "      <th>1st_maryl_mortgage_corporation</th>\n",
       "      <td>0</td>\n",
       "      <td>0</td>\n",
       "      <td>0</td>\n",
       "      <td>0</td>\n",
       "      <td>0</td>\n",
       "      <td>0</td>\n",
       "      <td>0</td>\n",
       "      <td>0</td>\n",
       "      <td>0</td>\n",
       "      <td>0</td>\n",
       "      <td>...</td>\n",
       "      <td>0</td>\n",
       "      <td>0</td>\n",
       "      <td>0</td>\n",
       "      <td>0</td>\n",
       "      <td>0</td>\n",
       "      <td>0</td>\n",
       "      <td>0</td>\n",
       "      <td>0</td>\n",
       "      <td>0</td>\n",
       "      <td>0</td>\n",
       "    </tr>\n",
       "    <tr>\n",
       "      <th>...</th>\n",
       "      <td>...</td>\n",
       "      <td>...</td>\n",
       "      <td>...</td>\n",
       "      <td>...</td>\n",
       "      <td>...</td>\n",
       "      <td>...</td>\n",
       "      <td>...</td>\n",
       "      <td>...</td>\n",
       "      <td>...</td>\n",
       "      <td>...</td>\n",
       "      <td>...</td>\n",
       "      <td>...</td>\n",
       "      <td>...</td>\n",
       "      <td>...</td>\n",
       "      <td>...</td>\n",
       "      <td>...</td>\n",
       "      <td>...</td>\n",
       "      <td>...</td>\n",
       "      <td>...</td>\n",
       "      <td>...</td>\n",
       "      <td>...</td>\n",
       "    </tr>\n",
       "    <tr>\n",
       "      <th>zenith_financial_network_inc</th>\n",
       "      <td>0</td>\n",
       "      <td>0</td>\n",
       "      <td>0</td>\n",
       "      <td>0</td>\n",
       "      <td>0</td>\n",
       "      <td>0</td>\n",
       "      <td>0</td>\n",
       "      <td>0</td>\n",
       "      <td>0</td>\n",
       "      <td>0</td>\n",
       "      <td>...</td>\n",
       "      <td>0</td>\n",
       "      <td>0</td>\n",
       "      <td>0</td>\n",
       "      <td>0</td>\n",
       "      <td>0</td>\n",
       "      <td>0</td>\n",
       "      <td>0</td>\n",
       "      <td>0</td>\n",
       "      <td>0</td>\n",
       "      <td>0</td>\n",
       "    </tr>\n",
       "    <tr>\n",
       "      <th>zeus_mortgage_ltd</th>\n",
       "      <td>0</td>\n",
       "      <td>0</td>\n",
       "      <td>0</td>\n",
       "      <td>0</td>\n",
       "      <td>0</td>\n",
       "      <td>0</td>\n",
       "      <td>0</td>\n",
       "      <td>0</td>\n",
       "      <td>0</td>\n",
       "      <td>2</td>\n",
       "      <td>...</td>\n",
       "      <td>0</td>\n",
       "      <td>0</td>\n",
       "      <td>0</td>\n",
       "      <td>0</td>\n",
       "      <td>0</td>\n",
       "      <td>0</td>\n",
       "      <td>0</td>\n",
       "      <td>0</td>\n",
       "      <td>0</td>\n",
       "      <td>0</td>\n",
       "    </tr>\n",
       "    <tr>\n",
       "      <th>zions_bancorporation</th>\n",
       "      <td>0</td>\n",
       "      <td>10</td>\n",
       "      <td>0</td>\n",
       "      <td>0</td>\n",
       "      <td>0</td>\n",
       "      <td>0</td>\n",
       "      <td>0</td>\n",
       "      <td>0</td>\n",
       "      <td>0</td>\n",
       "      <td>0</td>\n",
       "      <td>...</td>\n",
       "      <td>0</td>\n",
       "      <td>0</td>\n",
       "      <td>0</td>\n",
       "      <td>0</td>\n",
       "      <td>1</td>\n",
       "      <td>0</td>\n",
       "      <td>0</td>\n",
       "      <td>0</td>\n",
       "      <td>1</td>\n",
       "      <td>0</td>\n",
       "    </tr>\n",
       "    <tr>\n",
       "      <th>zoa_llc</th>\n",
       "      <td>0</td>\n",
       "      <td>0</td>\n",
       "      <td>0</td>\n",
       "      <td>0</td>\n",
       "      <td>0</td>\n",
       "      <td>0</td>\n",
       "      <td>0</td>\n",
       "      <td>0</td>\n",
       "      <td>0</td>\n",
       "      <td>0</td>\n",
       "      <td>...</td>\n",
       "      <td>0</td>\n",
       "      <td>0</td>\n",
       "      <td>0</td>\n",
       "      <td>0</td>\n",
       "      <td>0</td>\n",
       "      <td>0</td>\n",
       "      <td>0</td>\n",
       "      <td>0</td>\n",
       "      <td>0</td>\n",
       "      <td>0</td>\n",
       "    </tr>\n",
       "    <tr>\n",
       "      <th>zwicker_associates</th>\n",
       "      <td>0</td>\n",
       "      <td>0</td>\n",
       "      <td>0</td>\n",
       "      <td>0</td>\n",
       "      <td>0</td>\n",
       "      <td>0</td>\n",
       "      <td>0</td>\n",
       "      <td>0</td>\n",
       "      <td>0</td>\n",
       "      <td>0</td>\n",
       "      <td>...</td>\n",
       "      <td>0</td>\n",
       "      <td>0</td>\n",
       "      <td>0</td>\n",
       "      <td>0</td>\n",
       "      <td>0</td>\n",
       "      <td>0</td>\n",
       "      <td>0</td>\n",
       "      <td>0</td>\n",
       "      <td>1</td>\n",
       "      <td>0</td>\n",
       "    </tr>\n",
       "  </tbody>\n",
       "</table>\n",
       "<p>2881 rows × 161 columns</p>\n",
       "</div>"
      ],
      "text/plain": [
       "issue                               APR or interest rate  \\\n",
       "company                                                    \n",
       "1st_alliance_lending_llc                               0   \n",
       "1st_fidelity_loan_servicing                            0   \n",
       "1st_financial_inc                                      0   \n",
       "1st_franklin_financial_corporation                     0   \n",
       "1st_maryl_mortgage_corporation                         0   \n",
       "...                                                  ...   \n",
       "zenith_financial_network_inc                           0   \n",
       "zeus_mortgage_ltd                                      0   \n",
       "zions_bancorporation                                   0   \n",
       "zoa_llc                                                0   \n",
       "zwicker_associates                                     0   \n",
       "\n",
       "issue                               Account opening, closing, or management  \\\n",
       "company                                                                       \n",
       "1st_alliance_lending_llc                                                  0   \n",
       "1st_fidelity_loan_servicing                                               0   \n",
       "1st_financial_inc                                                         0   \n",
       "1st_franklin_financial_corporation                                        1   \n",
       "1st_maryl_mortgage_corporation                                            0   \n",
       "...                                                                     ...   \n",
       "zenith_financial_network_inc                                              0   \n",
       "zeus_mortgage_ltd                                                         0   \n",
       "zions_bancorporation                                                     10   \n",
       "zoa_llc                                                                   0   \n",
       "zwicker_associates                                                        0   \n",
       "\n",
       "issue                               Account terms and changes  Adding money  \\\n",
       "company                                                                       \n",
       "1st_alliance_lending_llc                                    0             0   \n",
       "1st_fidelity_loan_servicing                                 0             0   \n",
       "1st_financial_inc                                           0             0   \n",
       "1st_franklin_financial_corporation                          0             0   \n",
       "1st_maryl_mortgage_corporation                              0             0   \n",
       "...                                                       ...           ...   \n",
       "zenith_financial_network_inc                                0             0   \n",
       "zeus_mortgage_ltd                                           0             0   \n",
       "zions_bancorporation                                        0             0   \n",
       "zoa_llc                                                     0             0   \n",
       "zwicker_associates                                          0             0   \n",
       "\n",
       "issue                               Advertising  Advertising and marketing  \\\n",
       "company                                                                      \n",
       "1st_alliance_lending_llc                      0                          0   \n",
       "1st_fidelity_loan_servicing                   0                          0   \n",
       "1st_financial_inc                             0                          0   \n",
       "1st_franklin_financial_corporation            0                          0   \n",
       "1st_maryl_mortgage_corporation                0                          0   \n",
       "...                                         ...                        ...   \n",
       "zenith_financial_network_inc                  0                          0   \n",
       "zeus_mortgage_ltd                             0                          0   \n",
       "zions_bancorporation                          0                          0   \n",
       "zoa_llc                                       0                          0   \n",
       "zwicker_associates                            0                          0   \n",
       "\n",
       "issue                               Advertising and marketing, including promotional offers  \\\n",
       "company                                                                                       \n",
       "1st_alliance_lending_llc                                                            0         \n",
       "1st_fidelity_loan_servicing                                                         0         \n",
       "1st_financial_inc                                                                   0         \n",
       "1st_franklin_financial_corporation                                                  0         \n",
       "1st_maryl_mortgage_corporation                                                      0         \n",
       "...                                                                               ...         \n",
       "zenith_financial_network_inc                                                        0         \n",
       "zeus_mortgage_ltd                                                                   0         \n",
       "zions_bancorporation                                                                0         \n",
       "zoa_llc                                                                             0         \n",
       "zwicker_associates                                                                  0         \n",
       "\n",
       "issue                               Advertising, marketing or disclosures  \\\n",
       "company                                                                     \n",
       "1st_alliance_lending_llc                                                0   \n",
       "1st_fidelity_loan_servicing                                             0   \n",
       "1st_financial_inc                                                       0   \n",
       "1st_franklin_financial_corporation                                      0   \n",
       "1st_maryl_mortgage_corporation                                          0   \n",
       "...                                                                   ...   \n",
       "zenith_financial_network_inc                                            0   \n",
       "zeus_mortgage_ltd                                                       0   \n",
       "zions_bancorporation                                                    0   \n",
       "zoa_llc                                                                 0   \n",
       "zwicker_associates                                                      0   \n",
       "\n",
       "issue                               Application processing delay  \\\n",
       "company                                                            \n",
       "1st_alliance_lending_llc                                       0   \n",
       "1st_fidelity_loan_servicing                                    0   \n",
       "1st_financial_inc                                              0   \n",
       "1st_franklin_financial_corporation                             0   \n",
       "1st_maryl_mortgage_corporation                                 0   \n",
       "...                                                          ...   \n",
       "zenith_financial_network_inc                                   0   \n",
       "zeus_mortgage_ltd                                              0   \n",
       "zions_bancorporation                                           0   \n",
       "zoa_llc                                                        0   \n",
       "zwicker_associates                                             0   \n",
       "\n",
       "issue                               Application, originator, mortgage broker  \\\n",
       "company                                                                        \n",
       "1st_alliance_lending_llc                                                   0   \n",
       "1st_fidelity_loan_servicing                                                0   \n",
       "1st_financial_inc                                                          0   \n",
       "1st_franklin_financial_corporation                                         0   \n",
       "1st_maryl_mortgage_corporation                                             0   \n",
       "...                                                                      ...   \n",
       "zenith_financial_network_inc                                               0   \n",
       "zeus_mortgage_ltd                                                          2   \n",
       "zions_bancorporation                                                       0   \n",
       "zoa_llc                                                                    0   \n",
       "zwicker_associates                                                         0   \n",
       "\n",
       "issue                               ...  \\\n",
       "company                             ...   \n",
       "1st_alliance_lending_llc            ...   \n",
       "1st_fidelity_loan_servicing         ...   \n",
       "1st_financial_inc                   ...   \n",
       "1st_franklin_financial_corporation  ...   \n",
       "1st_maryl_mortgage_corporation      ...   \n",
       "...                                 ...   \n",
       "zenith_financial_network_inc        ...   \n",
       "zeus_mortgage_ltd                   ...   \n",
       "zions_bancorporation                ...   \n",
       "zoa_llc                             ...   \n",
       "zwicker_associates                  ...   \n",
       "\n",
       "issue                               Unauthorized transactions/trans. issues  \\\n",
       "company                                                                       \n",
       "1st_alliance_lending_llc                                                  0   \n",
       "1st_fidelity_loan_servicing                                               0   \n",
       "1st_financial_inc                                                         0   \n",
       "1st_franklin_financial_corporation                                        0   \n",
       "1st_maryl_mortgage_corporation                                            0   \n",
       "...                                                                     ...   \n",
       "zenith_financial_network_inc                                              0   \n",
       "zeus_mortgage_ltd                                                         0   \n",
       "zions_bancorporation                                                      0   \n",
       "zoa_llc                                                                   0   \n",
       "zwicker_associates                                                        0   \n",
       "\n",
       "issue                               Unexpected or other fees  \\\n",
       "company                                                        \n",
       "1st_alliance_lending_llc                                   0   \n",
       "1st_fidelity_loan_servicing                                0   \n",
       "1st_financial_inc                                          0   \n",
       "1st_franklin_financial_corporation                         0   \n",
       "1st_maryl_mortgage_corporation                             0   \n",
       "...                                                      ...   \n",
       "zenith_financial_network_inc                               0   \n",
       "zeus_mortgage_ltd                                          0   \n",
       "zions_bancorporation                                       0   \n",
       "zoa_llc                                                    0   \n",
       "zwicker_associates                                         0   \n",
       "\n",
       "issue                               Unexpected/Other fees  \\\n",
       "company                                                     \n",
       "1st_alliance_lending_llc                                0   \n",
       "1st_fidelity_loan_servicing                             0   \n",
       "1st_financial_inc                                       0   \n",
       "1st_franklin_financial_corporation                      0   \n",
       "1st_maryl_mortgage_corporation                          0   \n",
       "...                                                   ...   \n",
       "zenith_financial_network_inc                            0   \n",
       "zeus_mortgage_ltd                                       0   \n",
       "zions_bancorporation                                    0   \n",
       "zoa_llc                                                 0   \n",
       "zwicker_associates                                      0   \n",
       "\n",
       "issue                               Unsolicited issuance of credit card  \\\n",
       "company                                                                   \n",
       "1st_alliance_lending_llc                                              0   \n",
       "1st_fidelity_loan_servicing                                           0   \n",
       "1st_financial_inc                                                     0   \n",
       "1st_franklin_financial_corporation                                    0   \n",
       "1st_maryl_mortgage_corporation                                        0   \n",
       "...                                                                 ...   \n",
       "zenith_financial_network_inc                                          0   \n",
       "zeus_mortgage_ltd                                                     0   \n",
       "zions_bancorporation                                                  0   \n",
       "zoa_llc                                                               0   \n",
       "zwicker_associates                                                    0   \n",
       "\n",
       "issue                               Using a debit or ATM card  \\\n",
       "company                                                         \n",
       "1st_alliance_lending_llc                                    0   \n",
       "1st_fidelity_loan_servicing                                 0   \n",
       "1st_financial_inc                                           0   \n",
       "1st_franklin_financial_corporation                          0   \n",
       "1st_maryl_mortgage_corporation                              0   \n",
       "...                                                       ...   \n",
       "zenith_financial_network_inc                                0   \n",
       "zeus_mortgage_ltd                                           0   \n",
       "zions_bancorporation                                        1   \n",
       "zoa_llc                                                     0   \n",
       "zwicker_associates                                          0   \n",
       "\n",
       "issue                               Vehicle was damaged or destroyed the vehicle  \\\n",
       "company                                                                            \n",
       "1st_alliance_lending_llc                                                       0   \n",
       "1st_fidelity_loan_servicing                                                    0   \n",
       "1st_financial_inc                                                              0   \n",
       "1st_franklin_financial_corporation                                             0   \n",
       "1st_maryl_mortgage_corporation                                                 0   \n",
       "...                                                                          ...   \n",
       "zenith_financial_network_inc                                                   0   \n",
       "zeus_mortgage_ltd                                                              0   \n",
       "zions_bancorporation                                                           0   \n",
       "zoa_llc                                                                        0   \n",
       "zwicker_associates                                                             0   \n",
       "\n",
       "issue                               Vehicle was repossessed or sold the vehicle  \\\n",
       "company                                                                           \n",
       "1st_alliance_lending_llc                                                      0   \n",
       "1st_fidelity_loan_servicing                                                   0   \n",
       "1st_financial_inc                                                             0   \n",
       "1st_franklin_financial_corporation                                            0   \n",
       "1st_maryl_mortgage_corporation                                                0   \n",
       "...                                                                         ...   \n",
       "zenith_financial_network_inc                                                  0   \n",
       "zeus_mortgage_ltd                                                             0   \n",
       "zions_bancorporation                                                          0   \n",
       "zoa_llc                                                                       0   \n",
       "zwicker_associates                                                            0   \n",
       "\n",
       "issue                               Was approved for a loan, but didn't receive the money  \\\n",
       "company                                                                                     \n",
       "1st_alliance_lending_llc                                                            0       \n",
       "1st_fidelity_loan_servicing                                                         0       \n",
       "1st_financial_inc                                                                   0       \n",
       "1st_franklin_financial_corporation                                                  0       \n",
       "1st_maryl_mortgage_corporation                                                      0       \n",
       "...                                                                               ...       \n",
       "zenith_financial_network_inc                                                        0       \n",
       "zeus_mortgage_ltd                                                                   0       \n",
       "zions_bancorporation                                                                0       \n",
       "zoa_llc                                                                             0       \n",
       "zwicker_associates                                                                  0       \n",
       "\n",
       "issue                               Written notification about debt  \\\n",
       "company                                                               \n",
       "1st_alliance_lending_llc                                          0   \n",
       "1st_fidelity_loan_servicing                                       0   \n",
       "1st_financial_inc                                                 0   \n",
       "1st_franklin_financial_corporation                                0   \n",
       "1st_maryl_mortgage_corporation                                    0   \n",
       "...                                                             ...   \n",
       "zenith_financial_network_inc                                      0   \n",
       "zeus_mortgage_ltd                                                 0   \n",
       "zions_bancorporation                                              1   \n",
       "zoa_llc                                                           0   \n",
       "zwicker_associates                                                1   \n",
       "\n",
       "issue                               Wrong amount charged or received  \n",
       "company                                                               \n",
       "1st_alliance_lending_llc                                           0  \n",
       "1st_fidelity_loan_servicing                                        0  \n",
       "1st_financial_inc                                                  0  \n",
       "1st_franklin_financial_corporation                                 0  \n",
       "1st_maryl_mortgage_corporation                                     0  \n",
       "...                                                              ...  \n",
       "zenith_financial_network_inc                                       0  \n",
       "zeus_mortgage_ltd                                                  0  \n",
       "zions_bancorporation                                               0  \n",
       "zoa_llc                                                            0  \n",
       "zwicker_associates                                                 0  \n",
       "\n",
       "[2881 rows x 161 columns]"
      ]
     },
     "execution_count": 62,
     "metadata": {},
     "output_type": "execute_result"
    }
   ],
   "source": [
    "pd.pivot_table(df, values=\"count\", index=[\"company\"], columns=[\"issue\"], aggfunc=np.sum, fill_value=0)"
   ]
  },
  {
   "cell_type": "markdown",
   "id": "646849b8",
   "metadata": {
    "papermill": {
     "duration": 0.034292,
     "end_time": "2024-07-16T17:27:29.442852",
     "exception": false,
     "start_time": "2024-07-16T17:27:29.408560",
     "status": "completed"
    },
    "tags": []
   },
   "source": [
    "## Dimensi data\n",
    "Kembangkan model pembelajaran tanpa pengawasan untuk memahami dimensi data yang dapat dikelompokkan dengan jelas."
   ]
  },
  {
   "cell_type": "markdown",
   "id": "406dfbe9",
   "metadata": {
    "papermill": {
     "duration": 0.034541,
     "end_time": "2024-07-16T17:27:29.512055",
     "exception": false,
     "start_time": "2024-07-16T17:27:29.477514",
     "status": "completed"
    },
    "tags": []
   },
   "source": [
    "### PCA\n",
    "\n",
    "Pada langkah pertama ini, kita akan melakukan analisis komponen utama dari matriks pelatihan kita. Kita akan memilih dua komponen yang paling baik menjelaskan varians, agar dapat memvisualisasikannya. Setiap data akan diproyeksikan ke dua komponen ini, yang akan memberi kita koordinat untuk pengelompokan."
   ]
  },
  {
   "cell_type": "code",
   "execution_count": 63,
   "id": "1d625608",
   "metadata": {
    "execution": {
     "iopub.execute_input": "2024-07-16T17:27:29.583033Z",
     "iopub.status.busy": "2024-07-16T17:27:29.582331Z",
     "iopub.status.idle": "2024-07-16T17:27:29.588464Z",
     "shell.execute_reply": "2024-07-16T17:27:29.587605Z"
    },
    "papermill": {
     "duration": 0.043665,
     "end_time": "2024-07-16T17:27:29.590471",
     "exception": false,
     "start_time": "2024-07-16T17:27:29.546806",
     "status": "completed"
    },
    "tags": []
   },
   "outputs": [
    {
     "data": {
      "text/plain": [
       "123000"
      ]
     },
     "execution_count": 63,
     "metadata": {},
     "output_type": "execute_result"
    }
   ],
   "source": [
    "n,p = X_train.shape\n",
    "n"
   ]
  },
  {
   "cell_type": "code",
   "execution_count": 64,
   "id": "3c48a2fe",
   "metadata": {
    "execution": {
     "iopub.execute_input": "2024-07-16T17:27:29.661523Z",
     "iopub.status.busy": "2024-07-16T17:27:29.660812Z",
     "iopub.status.idle": "2024-07-16T17:27:29.665290Z",
     "shell.execute_reply": "2024-07-16T17:27:29.664325Z"
    },
    "papermill": {
     "duration": 0.041808,
     "end_time": "2024-07-16T17:27:29.667209",
     "exception": false,
     "start_time": "2024-07-16T17:27:29.625401",
     "status": "completed"
    },
    "tags": []
   },
   "outputs": [],
   "source": [
    "pca = PCA(n_components=2)"
   ]
  },
  {
   "cell_type": "code",
   "execution_count": 65,
   "id": "1f16a082",
   "metadata": {
    "execution": {
     "iopub.execute_input": "2024-07-16T17:27:29.737599Z",
     "iopub.status.busy": "2024-07-16T17:27:29.736986Z",
     "iopub.status.idle": "2024-07-16T17:27:29.832206Z",
     "shell.execute_reply": "2024-07-16T17:27:29.831182Z"
    },
    "papermill": {
     "duration": 0.133048,
     "end_time": "2024-07-16T17:27:29.834708",
     "exception": false,
     "start_time": "2024-07-16T17:27:29.701660",
     "status": "completed"
    },
    "tags": []
   },
   "outputs": [],
   "source": [
    "X_train_sample = X_train[np.random.choice(X_train.shape[0], int(0.10*X_train.shape[0]), replace=False), :]"
   ]
  },
  {
   "cell_type": "code",
   "execution_count": 66,
   "id": "f5726508",
   "metadata": {
    "execution": {
     "iopub.execute_input": "2024-07-16T17:27:29.904388Z",
     "iopub.status.busy": "2024-07-16T17:27:29.904024Z",
     "iopub.status.idle": "2024-07-16T17:27:31.775860Z",
     "shell.execute_reply": "2024-07-16T17:27:31.774830Z"
    },
    "papermill": {
     "duration": 1.908662,
     "end_time": "2024-07-16T17:27:31.778170",
     "exception": false,
     "start_time": "2024-07-16T17:27:29.869508",
     "status": "completed"
    },
    "tags": []
   },
   "outputs": [],
   "source": [
    "X_pca = pca.fit_transform(X_train_sample)"
   ]
  },
  {
   "cell_type": "code",
   "execution_count": 67,
   "id": "181e63b6",
   "metadata": {
    "execution": {
     "iopub.execute_input": "2024-07-16T17:27:31.850551Z",
     "iopub.status.busy": "2024-07-16T17:27:31.850095Z",
     "iopub.status.idle": "2024-07-16T17:27:31.854580Z",
     "shell.execute_reply": "2024-07-16T17:27:31.853634Z"
    },
    "papermill": {
     "duration": 0.043231,
     "end_time": "2024-07-16T17:27:31.856500",
     "exception": false,
     "start_time": "2024-07-16T17:27:31.813269",
     "status": "completed"
    },
    "tags": []
   },
   "outputs": [],
   "source": [
    "explained_ratio = pca.explained_variance_ratio_"
   ]
  },
  {
   "cell_type": "code",
   "execution_count": 68,
   "id": "d28b159e",
   "metadata": {
    "execution": {
     "iopub.execute_input": "2024-07-16T17:27:31.928209Z",
     "iopub.status.busy": "2024-07-16T17:27:31.927336Z",
     "iopub.status.idle": "2024-07-16T17:27:31.934258Z",
     "shell.execute_reply": "2024-07-16T17:27:31.933218Z"
    },
    "papermill": {
     "duration": 0.044946,
     "end_time": "2024-07-16T17:27:31.936291",
     "exception": false,
     "start_time": "2024-07-16T17:27:31.891345",
     "status": "completed"
    },
    "tags": []
   },
   "outputs": [
    {
     "data": {
      "text/plain": [
       "array([0.10918901, 0.20688126])"
      ]
     },
     "execution_count": 68,
     "metadata": {},
     "output_type": "execute_result"
    }
   ],
   "source": [
    "np.add.accumulate(explained_ratio)"
   ]
  },
  {
   "cell_type": "code",
   "execution_count": 69,
   "id": "c7522d0a",
   "metadata": {
    "execution": {
     "iopub.execute_input": "2024-07-16T17:27:32.006533Z",
     "iopub.status.busy": "2024-07-16T17:27:32.006233Z",
     "iopub.status.idle": "2024-07-16T17:27:32.010359Z",
     "shell.execute_reply": "2024-07-16T17:27:32.009476Z"
    },
    "papermill": {
     "duration": 0.042343,
     "end_time": "2024-07-16T17:27:32.012380",
     "exception": false,
     "start_time": "2024-07-16T17:27:31.970037",
     "status": "completed"
    },
    "tags": []
   },
   "outputs": [],
   "source": [
    "e1, e2 = pca.components_"
   ]
  },
  {
   "cell_type": "code",
   "execution_count": 70,
   "id": "9f9701fe",
   "metadata": {
    "execution": {
     "iopub.execute_input": "2024-07-16T17:27:32.081286Z",
     "iopub.status.busy": "2024-07-16T17:27:32.080997Z",
     "iopub.status.idle": "2024-07-16T17:27:32.084906Z",
     "shell.execute_reply": "2024-07-16T17:27:32.084004Z"
    },
    "papermill": {
     "duration": 0.040621,
     "end_time": "2024-07-16T17:27:32.086802",
     "exception": false,
     "start_time": "2024-07-16T17:27:32.046181",
     "status": "completed"
    },
    "tags": []
   },
   "outputs": [],
   "source": [
    "p = len(e1)"
   ]
  },
  {
   "cell_type": "markdown",
   "id": "2382d1ad",
   "metadata": {
    "papermill": {
     "duration": 0.033894,
     "end_time": "2024-07-16T17:27:32.154522",
     "exception": false,
     "start_time": "2024-07-16T17:27:32.120628",
     "status": "completed"
    },
    "tags": []
   },
   "source": [
    "### Pengelompokan\n",
    "\n",
    "Pada langkah kedua ini, kita akan mengelompokkan data, dengan koordinat yang diberikan oleh dua komponen utama, menggunakan algoritma k-means. Kita akan memilih jumlah pengelompokan sesuai dengan diagram distorsi, tepat di titik di mana \"siku\" grafik terbentuk."
   ]
  },
  {
   "cell_type": "code",
   "execution_count": 71,
   "id": "97bb5495",
   "metadata": {
    "execution": {
     "iopub.execute_input": "2024-07-16T17:27:32.222912Z",
     "iopub.status.busy": "2024-07-16T17:27:32.222611Z",
     "iopub.status.idle": "2024-07-16T17:27:32.227518Z",
     "shell.execute_reply": "2024-07-16T17:27:32.226456Z"
    },
    "papermill": {
     "duration": 0.041551,
     "end_time": "2024-07-16T17:27:32.229607",
     "exception": false,
     "start_time": "2024-07-16T17:27:32.188056",
     "status": "completed"
    },
    "tags": []
   },
   "outputs": [],
   "source": [
    "x0 = X_pca[:,0].ravel()"
   ]
  },
  {
   "cell_type": "code",
   "execution_count": 72,
   "id": "752271bc",
   "metadata": {
    "execution": {
     "iopub.execute_input": "2024-07-16T17:27:32.299267Z",
     "iopub.status.busy": "2024-07-16T17:27:32.298945Z",
     "iopub.status.idle": "2024-07-16T17:27:32.303290Z",
     "shell.execute_reply": "2024-07-16T17:27:32.302423Z"
    },
    "papermill": {
     "duration": 0.041673,
     "end_time": "2024-07-16T17:27:32.305288",
     "exception": false,
     "start_time": "2024-07-16T17:27:32.263615",
     "status": "completed"
    },
    "tags": []
   },
   "outputs": [],
   "source": [
    "x1 = X_pca[:,1].ravel()"
   ]
  },
  {
   "cell_type": "code",
   "execution_count": 73,
   "id": "17b5c83e",
   "metadata": {
    "execution": {
     "iopub.execute_input": "2024-07-16T17:27:32.375113Z",
     "iopub.status.busy": "2024-07-16T17:27:32.374783Z",
     "iopub.status.idle": "2024-07-16T17:27:32.695630Z",
     "shell.execute_reply": "2024-07-16T17:27:32.694743Z"
    },
    "papermill": {
     "duration": 0.358443,
     "end_time": "2024-07-16T17:27:32.697728",
     "exception": false,
     "start_time": "2024-07-16T17:27:32.339285",
     "status": "completed"
    },
    "tags": []
   },
   "outputs": [
    {
     "data": {
      "text/plain": [
       "<matplotlib.collections.PathCollection at 0x17e000e2f50>"
      ]
     },
     "execution_count": 73,
     "metadata": {},
     "output_type": "execute_result"
    },
    {
     "data": {
      "image/png": "[encoded data removed]",
      "text/plain": [
       "<Figure size 640x480 with 1 Axes>"
      ]
     },
     "metadata": {},
     "output_type": "display_data"
    }
   ],
   "source": [
    "plt.scatter(x0,x1)"
   ]
  },
  {
   "cell_type": "code",
   "execution_count": 74,
   "id": "eafe7e14",
   "metadata": {
    "execution": {
     "iopub.execute_input": "2024-07-16T17:27:32.772701Z",
     "iopub.status.busy": "2024-07-16T17:27:32.772369Z",
     "iopub.status.idle": "2024-07-16T17:27:33.170881Z",
     "shell.execute_reply": "2024-07-16T17:27:33.170020Z"
    },
    "papermill": {
     "duration": 0.440272,
     "end_time": "2024-07-16T17:27:33.173302",
     "exception": false,
     "start_time": "2024-07-16T17:27:32.733030",
     "status": "completed"
    },
    "tags": []
   },
   "outputs": [],
   "source": [
    "distortions = []\n",
    "for i in range(1, 11):\n",
    "    km = KMeans(\n",
    "        n_clusters=i, init='random',\n",
    "        n_init=10, max_iter=300,\n",
    "        tol=1e-04, random_state=0\n",
    "    )\n",
    "    km.fit(X_pca)\n",
    "    distortions.append(km.inertia_)"
   ]
  },
  {
   "cell_type": "code",
   "execution_count": 75,
   "id": "d8963b48",
   "metadata": {
    "execution": {
     "iopub.execute_input": "2024-07-16T17:27:33.247427Z",
     "iopub.status.busy": "2024-07-16T17:27:33.247056Z",
     "iopub.status.idle": "2024-07-16T17:27:33.484485Z",
     "shell.execute_reply": "2024-07-16T17:27:33.483522Z"
    },
    "papermill": {
     "duration": 0.276134,
     "end_time": "2024-07-16T17:27:33.486639",
     "exception": false,
     "start_time": "2024-07-16T17:27:33.210505",
     "status": "completed"
    },
    "tags": []
   },
   "outputs": [
    {
     "data": {
      "image/png": "[encoded data removed]",
      "text/plain": [
       "<Figure size 640x480 with 1 Axes>"
      ]
     },
     "metadata": {},
     "output_type": "display_data"
    }
   ],
   "source": [
    "plt.plot(range(1, 11), distortions, marker='o')\n",
    "plt.xlabel('Number of clusters')\n",
    "plt.ylabel('Distortion')\n",
    "plt.show()"
   ]
  },
  {
   "cell_type": "code",
   "execution_count": 76,
   "id": "07514151",
   "metadata": {
    "execution": {
     "iopub.execute_input": "2024-07-16T17:27:33.558585Z",
     "iopub.status.busy": "2024-07-16T17:27:33.558295Z",
     "iopub.status.idle": "2024-07-16T17:27:34.296304Z",
     "shell.execute_reply": "2024-07-16T17:27:34.295447Z"
    },
    "papermill": {
     "duration": 0.777693,
     "end_time": "2024-07-16T17:27:34.299815",
     "exception": false,
     "start_time": "2024-07-16T17:27:33.522122",
     "status": "completed"
    },
    "tags": []
   },
   "outputs": [],
   "source": [
    "kmeans = KMeans(n_clusters=3, random_state=0).fit(X_pca)"
   ]
  },
  {
   "cell_type": "code",
   "execution_count": 77,
   "id": "f09f63be",
   "metadata": {
    "execution": {
     "iopub.execute_input": "2024-07-16T17:27:34.421469Z",
     "iopub.status.busy": "2024-07-16T17:27:34.420793Z",
     "iopub.status.idle": "2024-07-16T17:27:34.427308Z",
     "shell.execute_reply": "2024-07-16T17:27:34.426525Z"
    },
    "papermill": {
     "duration": 0.046843,
     "end_time": "2024-07-16T17:27:34.429290",
     "exception": false,
     "start_time": "2024-07-16T17:27:34.382447",
     "status": "completed"
    },
    "tags": []
   },
   "outputs": [],
   "source": [
    "clusters = kmeans.predict(X_pca).ravel()"
   ]
  },
  {
   "cell_type": "code",
   "execution_count": 78,
   "id": "7591117f",
   "metadata": {
    "execution": {
     "iopub.execute_input": "2024-07-16T17:27:34.502904Z",
     "iopub.status.busy": "2024-07-16T17:27:34.502616Z",
     "iopub.status.idle": "2024-07-16T17:27:35.751729Z",
     "shell.execute_reply": "2024-07-16T17:27:35.750757Z"
    },
    "papermill": {
     "duration": 1.28714,
     "end_time": "2024-07-16T17:27:35.753888",
     "exception": false,
     "start_time": "2024-07-16T17:27:34.466748",
     "status": "completed"
    },
    "tags": []
   },
   "outputs": [
    {
     "data": {
      "text/plain": [
       "<Axes: >"
      ]
     },
     "execution_count": 78,
     "metadata": {},
     "output_type": "execute_result"
    },
    {
     "data": {
      "image/png": "[encoded data removed]",
      "text/plain": [
       "<Figure size 640x480 with 1 Axes>"
      ]
     },
     "metadata": {},
     "output_type": "display_data"
    }
   ],
   "source": [
    "sns.scatterplot(x=x0, y=x1, hue=clusters)"
   ]
  },
  {
   "cell_type": "code",
   "execution_count": 79,
   "id": "e2452132",
   "metadata": {
    "execution": {
     "iopub.execute_input": "2024-07-16T17:27:35.829653Z",
     "iopub.status.busy": "2024-07-16T17:27:35.828665Z",
     "iopub.status.idle": "2024-07-16T17:27:35.834233Z",
     "shell.execute_reply": "2024-07-16T17:27:35.833278Z"
    },
    "papermill": {
     "duration": 0.046381,
     "end_time": "2024-07-16T17:27:35.836740",
     "exception": false,
     "start_time": "2024-07-16T17:27:35.790359",
     "status": "completed"
    },
    "tags": []
   },
   "outputs": [],
   "source": [
    "del X_pca"
   ]
  },
  {
   "cell_type": "markdown",
   "id": "babf355c",
   "metadata": {
    "papermill": {
     "duration": 0.039218,
     "end_time": "2024-07-16T17:27:35.921656",
     "exception": false,
     "start_time": "2024-07-16T17:27:35.882438",
     "status": "completed"
    },
    "tags": []
   },
   "source": [
    "## Prediksi berdasarkan Machine Learning\n",
    "\n",
    "Kembangkan model pembelajaran mesin yang memprediksi jenis produk berdasarkan teks. Anda dapat menggunakan teknik apa pun yang Anda inginkan, tetapi Anda harus menjelaskan metrik evaluasi apa yang Anda gunakan untuk menentukan pilihan model."
   ]
  },
  {
   "cell_type": "markdown",
   "id": "c19b3fee",
   "metadata": {
    "papermill": {
     "duration": 0.035661,
     "end_time": "2024-07-16T17:27:35.993242",
     "exception": false,
     "start_time": "2024-07-16T17:27:35.957581",
     "status": "completed"
    },
    "tags": []
   },
   "source": [
    "### XGBoost\n",
    "\n",
    "- Untuk pertanyaan ini, saya memilih pengklasifikasi XGBoost.\n",
    "- XGBoost adalah algoritme yang baru-baru ini mendominasi pembelajaran mesin terapan dan kompetisi Kaggle untuk data terstruktur atau tabular.\n",
    "- XGBoost adalah implementasi pohon keputusan berbasis gradien yang dirancang untuk kecepatan dan kinerja.\n",
    "- Pengklasifikasi XGBoost memiliki implementasi yang mampu menggunakan perangkat GPU, yang akan memungkinkan kita untuk mempercepat pelatihan secara signifikan."
   ]
  },
  {
   "cell_type": "code",
   "execution_count": 80,
   "id": "8f0b3f3c",
   "metadata": {
    "execution": {
     "iopub.execute_input": "2024-07-16T17:27:36.067262Z",
     "iopub.status.busy": "2024-07-16T17:27:36.066863Z",
     "iopub.status.idle": "2024-07-16T17:27:36.072002Z",
     "shell.execute_reply": "2024-07-16T17:27:36.071122Z"
    },
    "papermill": {
     "duration": 0.043989,
     "end_time": "2024-07-16T17:27:36.073852",
     "exception": false,
     "start_time": "2024-07-16T17:27:36.029863",
     "status": "completed"
    },
    "tags": []
   },
   "outputs": [],
   "source": [
    "\n",
    "gpu_available = False  # Set False jika hanya ada iGPU atau CPU\n",
    "\n",
    "if gpu_available:\n",
    "    xgb_cl = xgb.XGBClassifier(\n",
    "        use_label_encoder=False,\n",
    "        tree_method='gpu_hist',\n",
    "        max_bin=16,\n",
    "        predictor='gpu_predictor',\n",
    "        nthread=4\n",
    "    )\n",
    "else:\n",
    "    xgb_cl = xgb.XGBClassifier(\n",
    "        use_label_encoder=False,\n",
    "        tree_method='hist', \n",
    "        max_bin=256, \n",
    "        predictor='cpu_predictor',\n",
    "        nthread=-1 \n",
    "    )\n"
   ]
  },
  {
   "cell_type": "code",
   "execution_count": 81,
   "id": "b4049c2b",
   "metadata": {
    "execution": {
     "iopub.execute_input": "2024-07-16T17:27:36.148743Z",
     "iopub.status.busy": "2024-07-16T17:27:36.148375Z",
     "iopub.status.idle": "2024-07-16T17:28:20.183783Z",
     "shell.execute_reply": "2024-07-16T17:28:20.182790Z"
    },
    "papermill": {
     "duration": 44.112962,
     "end_time": "2024-07-16T17:28:20.223074",
     "exception": false,
     "start_time": "2024-07-16T17:27:36.110112",
     "status": "completed"
    },
    "tags": []
   },
   "outputs": [
    {
     "data": {
      "text/html": [
       "<style>#sk-container-id-1 {color: black;background-color: white;}#sk-container-id-1 pre{padding: 0;}#sk-container-id-1 div.sk-toggleable {background-color: white;}#sk-container-id-1 label.sk-toggleable__label {cursor: pointer;display: block;width: 100%;margin-bottom: 0;padding: 0.3em;box-sizing: border-box;text-align: center;}#sk-container-id-1 label.sk-toggleable__label-arrow:before {content: \"▸\";float: left;margin-right: 0.25em;color: #696969;}#sk-container-id-1 label.sk-toggleable__label-arrow:hover:before {color: black;}#sk-container-id-1 div.sk-estimator:hover label.sk-toggleable__label-arrow:before {color: black;}#sk-container-id-1 div.sk-toggleable__content {max-height: 0;max-width: 0;overflow: hidden;text-align: left;background-color: #f0f8ff;}#sk-container-id-1 div.sk-toggleable__content pre {margin: 0.2em;color: black;border-radius: 0.25em;background-color: #f0f8ff;}#sk-container-id-1 input.sk-toggleable__control:checked~div.sk-toggleable__content {max-height: 200px;max-width: 100%;overflow: auto;}#sk-container-id-1 input.sk-toggleable__control:checked~label.sk-toggleable__label-arrow:before {content: \"▾\";}#sk-container-id-1 div.sk-estimator input.sk-toggleable__control:checked~label.sk-toggleable__label {background-color: #d4ebff;}#sk-container-id-1 div.sk-label input.sk-toggleable__control:checked~label.sk-toggleable__label {background-color: #d4ebff;}#sk-container-id-1 input.sk-hidden--visually {border: 0;clip: rect(1px 1px 1px 1px);clip: rect(1px, 1px, 1px, 1px);height: 1px;margin: -1px;overflow: hidden;padding: 0;position: absolute;width: 1px;}#sk-container-id-1 div.sk-estimator {font-family: monospace;background-color: #f0f8ff;border: 1px dotted black;border-radius: 0.25em;box-sizing: border-box;margin-bottom: 0.5em;}#sk-container-id-1 div.sk-estimator:hover {background-color: #d4ebff;}#sk-container-id-1 div.sk-parallel-item::after {content: \"\";width: 100%;border-bottom: 1px solid gray;flex-grow: 1;}#sk-container-id-1 div.sk-label:hover label.sk-toggleable__label {background-color: #d4ebff;}#sk-container-id-1 div.sk-serial::before {content: \"\";position: absolute;border-left: 1px solid gray;box-sizing: border-box;top: 0;bottom: 0;left: 50%;z-index: 0;}#sk-container-id-1 div.sk-serial {display: flex;flex-direction: column;align-items: center;background-color: white;padding-right: 0.2em;padding-left: 0.2em;position: relative;}#sk-container-id-1 div.sk-item {position: relative;z-index: 1;}#sk-container-id-1 div.sk-parallel {display: flex;align-items: stretch;justify-content: center;background-color: white;position: relative;}#sk-container-id-1 div.sk-item::before, #sk-container-id-1 div.sk-parallel-item::before {content: \"\";position: absolute;border-left: 1px solid gray;box-sizing: border-box;top: 0;bottom: 0;left: 50%;z-index: -1;}#sk-container-id-1 div.sk-parallel-item {display: flex;flex-direction: column;z-index: 1;position: relative;background-color: white;}#sk-container-id-1 div.sk-parallel-item:first-child::after {align-self: flex-end;width: 50%;}#sk-container-id-1 div.sk-parallel-item:last-child::after {align-self: flex-start;width: 50%;}#sk-container-id-1 div.sk-parallel-item:only-child::after {width: 0;}#sk-container-id-1 div.sk-dashed-wrapped {border: 1px dashed gray;margin: 0 0.4em 0.5em 0.4em;box-sizing: border-box;padding-bottom: 0.4em;background-color: white;}#sk-container-id-1 div.sk-label label {font-family: monospace;font-weight: bold;display: inline-block;line-height: 1.2em;}#sk-container-id-1 div.sk-label-container {text-align: center;}#sk-container-id-1 div.sk-container {/* jupyter's `normalize.less` sets `[hidden] { display: none; }` but bootstrap.min.css set `[hidden] { display: none !important; }` so we also need the `!important` here to be able to override the default hidden behavior on the sphinx rendered scikit-learn.org. See: https://github.com/scikit-learn/scikit-learn/issues/21755 */display: inline-block !important;position: relative;}#sk-container-id-1 div.sk-text-repr-fallback {display: none;}</style><div id=\"sk-container-id-1\" class=\"sk-top-container\"><div class=\"sk-text-repr-fallback\"><pre>XGBClassifier(base_score=None, booster=None, callbacks=None,\n",
       "              colsample_bylevel=None, colsample_bynode=None,\n",
       "              colsample_bytree=None, device=None, early_stopping_rounds=None,\n",
       "              enable_categorical=False, eval_metric=None, feature_types=None,\n",
       "              gamma=None, grow_policy=None, importance_type=None,\n",
       "              interaction_constraints=None, learning_rate=None, max_bin=256,\n",
       "              max_cat_threshold=None, max_cat_to_onehot=None,\n",
       "              max_delta_step=None, max_depth=None, max_leaves=None,\n",
       "              min_child_weight=None, missing=nan, monotone_constraints=None,\n",
       "              multi_strategy=None, n_estimators=None, n_jobs=None, nthread=-1,\n",
       "              num_parallel_tree=None, ...)</pre><b>In a Jupyter environment, please rerun this cell to show the HTML representation or trust the notebook. <br />On GitHub, the HTML representation is unable to render, please try loading this page with nbviewer.org.</b></div><div class=\"sk-container\" hidden><div class=\"sk-item\"><div class=\"sk-estimator sk-toggleable\"><input class=\"sk-toggleable__control sk-hidden--visually\" id=\"sk-estimator-id-1\" type=\"checkbox\" checked><label for=\"sk-estimator-id-1\" class=\"sk-toggleable__label sk-toggleable__label-arrow\">XGBClassifier</label><div class=\"sk-toggleable__content\"><pre>XGBClassifier(base_score=None, booster=None, callbacks=None,\n",
       "              colsample_bylevel=None, colsample_bynode=None,\n",
       "              colsample_bytree=None, device=None, early_stopping_rounds=None,\n",
       "              enable_categorical=False, eval_metric=None, feature_types=None,\n",
       "              gamma=None, grow_policy=None, importance_type=None,\n",
       "              interaction_constraints=None, learning_rate=None, max_bin=256,\n",
       "              max_cat_threshold=None, max_cat_to_onehot=None,\n",
       "              max_delta_step=None, max_depth=None, max_leaves=None,\n",
       "              min_child_weight=None, missing=nan, monotone_constraints=None,\n",
       "              multi_strategy=None, n_estimators=None, n_jobs=None, nthread=-1,\n",
       "              num_parallel_tree=None, ...)</pre></div></div></div></div></div>"
      ],
      "text/plain": [
       "XGBClassifier(base_score=None, booster=None, callbacks=None,\n",
       "              colsample_bylevel=None, colsample_bynode=None,\n",
       "              colsample_bytree=None, device=None, early_stopping_rounds=None,\n",
       "              enable_categorical=False, eval_metric=None, feature_types=None,\n",
       "              gamma=None, grow_policy=None, importance_type=None,\n",
       "              interaction_constraints=None, learning_rate=None, max_bin=256,\n",
       "              max_cat_threshold=None, max_cat_to_onehot=None,\n",
       "              max_delta_step=None, max_depth=None, max_leaves=None,\n",
       "              min_child_weight=None, missing=nan, monotone_constraints=None,\n",
       "              multi_strategy=None, n_estimators=None, n_jobs=None, nthread=-1,\n",
       "              num_parallel_tree=None, ...)"
      ]
     },
     "execution_count": 81,
     "metadata": {},
     "output_type": "execute_result"
    }
   ],
   "source": [
    "xgb.XGBClassifier._repr_html_ = None\n",
    "xgb_cl.fit(X_train, y_train)"
   ]
  },
  {
   "cell_type": "markdown",
   "id": "e2a46c46",
   "metadata": {
    "papermill": {
     "duration": 0.036265,
     "end_time": "2024-07-16T17:28:20.296332",
     "exception": false,
     "start_time": "2024-07-16T17:28:20.260067",
     "status": "completed"
    },
    "tags": []
   },
   "source": [
    "### Metrik\n",
    "Terakhir, saya akan menggunakan berbagai metrik untuk memvalidasi model saya, membandingkan prediksi dengan kategori sebenarnya dari setiap produk.\n",
    "\n",
    "saya akan menampilkan reporter klasifikasi otomatis. Meskipun di luar cakupan laporan ini untuk menjelaskan setiap metrik, cukup untuk dipahami bahwa semakin dekat setiap metrik dengan 1,00, semakin \"baik\" modelnya.\n",
    "\n",
    "Namun, saya akan memberikan perhatian khusus pada [akurasi](https://developers.google.com/machine-learning/crash-course/classification/accuracy), yang tidak lain adalah jumlah prediksi yang benar atas total prediksi yang dibuat."
   ]
  },
  {
   "cell_type": "code",
   "execution_count": 82,
   "id": "e27225e3",
   "metadata": {
    "execution": {
     "iopub.execute_input": "2024-07-16T17:28:20.370642Z",
     "iopub.status.busy": "2024-07-16T17:28:20.369930Z",
     "iopub.status.idle": "2024-07-16T17:28:21.896813Z",
     "shell.execute_reply": "2024-07-16T17:28:21.896026Z"
    },
    "papermill": {
     "duration": 1.566528,
     "end_time": "2024-07-16T17:28:21.899177",
     "exception": false,
     "start_time": "2024-07-16T17:28:20.332649",
     "status": "completed"
    },
    "tags": []
   },
   "outputs": [],
   "source": [
    "preds = xgb_cl.predict(X_test)"
   ]
  },
  {
   "cell_type": "code",
   "execution_count": 83,
   "id": "269f761b",
   "metadata": {
    "execution": {
     "iopub.execute_input": "2024-07-16T17:28:21.973077Z",
     "iopub.status.busy": "2024-07-16T17:28:21.972705Z",
     "iopub.status.idle": "2024-07-16T17:28:22.026614Z",
     "shell.execute_reply": "2024-07-16T17:28:22.025511Z"
    },
    "papermill": {
     "duration": 0.092924,
     "end_time": "2024-07-16T17:28:22.028737",
     "exception": false,
     "start_time": "2024-07-16T17:28:21.935813",
     "status": "completed"
    },
    "tags": []
   },
   "outputs": [
    {
     "name": "stdout",
     "output_type": "stream",
     "text": [
      "              precision    recall  f1-score   support\n",
      "\n",
      "           0       1.00      1.00      1.00      2479\n",
      "           1       1.00      0.99      0.99       543\n",
      "           2       0.98      0.99      0.99       959\n",
      "           3       0.98      0.99      0.99      2657\n",
      "           4       0.99      0.93      0.96       708\n",
      "           5       1.00      1.00      1.00      4213\n",
      "           6       0.96      1.00      0.98      3304\n",
      "           7       1.00      1.00      1.00      5904\n",
      "           8       0.98      0.96      0.97       181\n",
      "           9       0.96      0.99      0.98       161\n",
      "          10       1.00      0.99      0.99      7717\n",
      "          11       0.81      0.77      0.79        22\n",
      "          12       0.95      0.99      0.97       192\n",
      "          13       0.92      0.75      0.82       126\n",
      "          14       0.99      0.96      0.97       118\n",
      "          15       1.00      0.98      0.99      1300\n",
      "          16       0.91      0.83      0.87       167\n",
      "\n",
      "    accuracy                           0.99     30751\n",
      "   macro avg       0.97      0.95      0.96     30751\n",
      "weighted avg       0.99      0.99      0.99     30751\n",
      "\n"
     ]
    }
   ],
   "source": [
    "\n",
    "print(classification_report(y_test, preds, zero_division=0))"
   ]
  },
  {
   "cell_type": "code",
   "execution_count": 84,
   "id": "6e75e7b7",
   "metadata": {
    "execution": {
     "iopub.execute_input": "2024-07-16T17:28:22.103067Z",
     "iopub.status.busy": "2024-07-16T17:28:22.102711Z",
     "iopub.status.idle": "2024-07-16T17:28:22.110382Z",
     "shell.execute_reply": "2024-07-16T17:28:22.109491Z"
    },
    "papermill": {
     "duration": 0.046105,
     "end_time": "2024-07-16T17:28:22.112228",
     "exception": false,
     "start_time": "2024-07-16T17:28:22.066123",
     "status": "completed"
    },
    "tags": []
   },
   "outputs": [
    {
     "data": {
      "text/plain": [
       "0.9907320087151638"
      ]
     },
     "execution_count": 84,
     "metadata": {},
     "output_type": "execute_result"
    }
   ],
   "source": [
    "accuracy_score(y_test, preds)"
   ]
  },
  {
   "cell_type": "markdown",
   "id": "9873eea2",
   "metadata": {
    "papermill": {
     "duration": 0.036749,
     "end_time": "2024-07-16T17:28:22.184977",
     "exception": false,
     "start_time": "2024-07-16T17:28:22.148228",
     "status": "completed"
    },
    "tags": []
   },
   "source": [
    "# Kesimpulan\n",
    "\n",
    "Dalam proyek ini, saya telah membangun sebuah model untuk memprediksi jenis produk yang menjadi sasaran pengaduan, berdasarkan prediktor seperti bank, subjek pengaduan, dan tanggal penerimaan.\n",
    "\n",
    "Meskipun keterbatasan waktu dan sumber daya komputasi membatasi saya untuk menganalisis sebagian dari kumpulan tersebut, hal ini dapat diatasi dengan mengakses lebih banyak sumber daya, misalnya di cloud, atau menggunakan algoritme yang memungkinkan bekerja dengan data besar, mengadaptasi algoritme tersebut ke paket yang tersedia. Untuk tujuan ini.\n",
    "\n",
    "Terakhir, model saya memungkinkan akurasi dalam kumpulan pengujian, yang memungkinkan saya untuk berpikir bahwa model tersebut telah menggeneralisasi pola data dengan benar, itulah sebabnya model ini diusulkan sebagai solusi yang layak untuk masalah tersebut."
   ]
  }
 ],
 "metadata": {
  "kaggle": {
   "accelerator": "none",
   "dataSources": [
    {
     "datasetId": 24862,
     "sourceId": 31704,
     "sourceType": "datasetVersion"
    }
   ],
   "dockerImageVersionId": 30746,
   "isGpuEnabled": false,
   "isInternetEnabled": true,
   "language": "python",
   "sourceType": "notebook"
  },
  "kernelspec": {
   "display_name": "PyTorchDL",
   "language": "python",
   "name": "python3"
  },
  "language_info": {
   "codemirror_mode": {
    "name": "ipython",
    "version": 3
   },
   "file_extension": ".py",
   "mimetype": "text/x-python",
   "name": "python",
   "nbconvert_exporter": "python",
   "pygments_lexer": "ipython3",
   "version": "3.10.16"
  },
  "papermill": {
   "default_parameters": {},
   "duration": 134.444978,
   "end_time": "2024-07-16T17:28:23.040400",
   "environment_variables": {},
   "exception": null,
   "input_path": "__notebook__.ipynb",
   "output_path": "__notebook__.ipynb",
   "parameters": {},
   "start_time": "2024-07-16T17:26:08.595422",
   "version": "2.5.0"
  }
 },
 "nbformat": 4,
 "nbformat_minor": 5
}
